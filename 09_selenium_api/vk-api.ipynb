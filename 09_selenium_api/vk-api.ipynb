{
 "cells": [
  {
   "cell_type": "markdown",
   "metadata": {},
   "source": [
    "# Основы программирования в Python\n",
    "\n",
    "*Алла Тамбовцева, НИУ ВШЭ*"
   ]
  },
  {
   "cell_type": "markdown",
   "metadata": {},
   "source": [
    "### Работа с API: пример с API ВКонтакте"
   ]
  },
  {
   "cell_type": "markdown",
   "metadata": {},
   "source": [
    "Сегодня мы немного поработаем с API. API – программный интерфейс приложения, сокращение от *Application Programming Interface*. Этот интерфейс позволяет выполнять различные операции автоматически, через приложение. Если API нам нужен исключительно как источник данных, можно писать запросы, позволяющие обратиться к хранилищу информации внутри API. Если мы хотим управлять приложением, которое будет выполнять какие-то действия, удаленно, можно написать код, который будет, например, автоматически отвечать на сообщения, когда мы не онлайн, лайкать новый пост друга через 30 секунд после его появления, пересылать на почту фотографии, которые выложили участники диалога и прочее.\n",
    "\n",
    "Мы будем работать с API социальной сети ВКонтакте. Использовать API для написания и приема сообщений средствами Python мы не будем, а рассмотрим API как источник данных, позволяющий выгрузить все посты со стены пользователя или сообщества. Для работы нам понадобится библиотека `vk`, ее нужно установить через `pip install vk` в *Anaconda Command Prompt* (см. пример с `selenium` [здесь](https://nbviewer.jupyter.org/github/allatambov/Py-programming-3/blob/master/11-06/lect-selenium1.ipynb)).\n",
    "\n",
    "Импортируем библиотеку:"
   ]
  },
  {
   "cell_type": "code",
   "execution_count": 2,
   "metadata": {},
   "outputs": [
    {
     "name": "stdout",
     "output_type": "stream",
     "text": [
      "Collecting vk\n",
      "  Downloading vk-2.0.2.tar.gz (7.0 kB)\n",
      "Requirement already satisfied: requests<3.0,>=2.8 in ./opt/anaconda3/lib/python3.9/site-packages (from vk) (2.26.0)\n",
      "Requirement already satisfied: charset-normalizer~=2.0.0 in ./opt/anaconda3/lib/python3.9/site-packages (from requests<3.0,>=2.8->vk) (2.0.4)\n",
      "Requirement already satisfied: urllib3<1.27,>=1.21.1 in ./opt/anaconda3/lib/python3.9/site-packages (from requests<3.0,>=2.8->vk) (1.26.7)\n",
      "Requirement already satisfied: certifi>=2017.4.17 in ./opt/anaconda3/lib/python3.9/site-packages (from requests<3.0,>=2.8->vk) (2021.10.8)\n",
      "Requirement already satisfied: idna<4,>=2.5 in ./opt/anaconda3/lib/python3.9/site-packages (from requests<3.0,>=2.8->vk) (3.2)\n",
      "Building wheels for collected packages: vk\n",
      "  Building wheel for vk (setup.py) ... \u001b[?25ldone\n",
      "\u001b[?25h  Created wheel for vk: filename=vk-2.0.2-py3-none-any.whl size=8275 sha256=dce0e0ae119984640e9a4aabea3efdbcadbf9c9ccbe5291f2b7178cd5d3598b7\n",
      "  Stored in directory: /Users/anastasiaparsina/Library/Caches/pip/wheels/18/12/65/557eef2d4aaeab693bd15ed182ad993bd0a1b3fbe774b474a0\n",
      "Successfully built vk\n",
      "Installing collected packages: vk\n",
      "Successfully installed vk-2.0.2\n"
     ]
    }
   ],
   "source": [
    "!pip install vk"
   ]
  },
  {
   "cell_type": "code",
   "execution_count": 1,
   "metadata": {},
   "outputs": [],
   "source": [
    "import vk"
   ]
  },
  {
   "cell_type": "markdown",
   "metadata": {},
   "source": [
    "Теперь нужно авторизоваться: создать приложение и получить токен доступа к нему."
   ]
  },
  {
   "cell_type": "markdown",
   "metadata": {},
   "source": [
    "#### Для авторизации:\n",
    "    \n",
    "1. [Создать](https://vk.com/apps?act=manage) приложение ВКонтакте (пройти по ссылке). Дать название, выбрать *Standalone-приложение*.\n",
    "2. Включить приложение, сделать публичным (*Настройки - Состояние* и выбрать в выпадающем меню *Приложение включено и видно всем*).\n",
    "3. Авторизоваться: скопировать строку ниже в браузер, в `client id` вместо 1 выставить `id` своего приложения (первая строка в настроках ‒ *ID приложения*). Если не хочется ни в чем ограничивать свое приложение, можно оставить `scope=all` (у приложения будет доступ ко всему, к чему есть доступ у пользователя).\n",
    "\n",
    "    > ```https://oauth.vk.com/authorize?client_id=1&display=page&redirect_uri=http://oauth.vk.com/blank.html&scope=all&response_type=token```\n",
    "\n",
    "4. Скопировать `access token` из обновленной адресной строки (все после `access_token=` и до `&expires_in`, без `&`). Никому не показывать! По этому токену можно получить доступ ко всему аккаунту."
   ]
  },
  {
   "cell_type": "code",
   "execution_count": 2,
   "metadata": {},
   "outputs": [],
   "source": [
    "# скопировать свой access token без пробелов вместо 1234 \n",
    "token = '1234'"
   ]
  },
  {
   "cell_type": "code",
   "execution_count": 3,
   "metadata": {},
   "outputs": [],
   "source": [
    "session = vk.Session(access_token = token) # открыть сессию для работы\n",
    "api = vk.API(session) # подключиться к API"
   ]
  },
  {
   "cell_type": "markdown",
   "metadata": {},
   "source": [
    "Попробуем сгрузить первые 100 постов со [стены](https://vk.com/hseofficial) неофициального сообщества ВШЭ. Сохраним ссылку на сообщество в переменную `group`:"
   ]
  },
  {
   "cell_type": "code",
   "execution_count": 4,
   "metadata": {},
   "outputs": [],
   "source": [
    "group = 'hseofficial'"
   ]
  },
  {
   "cell_type": "markdown",
   "metadata": {},
   "source": [
    "Обратите внимание: ссылка должна быть относительной, то есть без части с `https:/vk.com/`. Python и так будет знать, что мы работаем с сетью ВКонтакте."
   ]
  },
  {
   "cell_type": "markdown",
   "metadata": {},
   "source": [
    "Теперь получим доступ к стене этого сообщества:"
   ]
  },
  {
   "cell_type": "code",
   "execution_count": 5,
   "metadata": {},
   "outputs": [],
   "source": [
    "# wall.get - \"подключаемся\" к стене\n",
    "# count - сколько постов выгрузить (максимум)\n",
    "# v - версия API, можно обойтись без нее, но Python может выдать warning\n",
    "\n",
    "res = api.wall.get(domain = group, count = 100, v = 5.131)"
   ]
  },
  {
   "cell_type": "markdown",
   "metadata": {},
   "source": [
    "Результат, сохраненный в `res`, очень похож на словарь. На самом деле, многие API возвращают результаты в формате JSON (JavaScript Object Notation), который тоже может быть представлен в виде набора пар ключ-значение."
   ]
  },
  {
   "cell_type": "code",
   "execution_count": 9,
   "metadata": {},
   "outputs": [
    {
     "data": {
      "text/plain": [
       "dict_keys(['count', 'items'])"
      ]
     },
     "execution_count": 9,
     "metadata": {},
     "output_type": "execute_result"
    }
   ],
   "source": [
    "res.keys()"
   ]
  },
  {
   "cell_type": "markdown",
   "metadata": {},
   "source": [
    "Ключами являются `count` и `items`. Нужные нам объекты (текст постов, id автора, дата и время публикации и проч.) находятся в `items`."
   ]
  },
  {
   "cell_type": "code",
   "execution_count": 10,
   "metadata": {},
   "outputs": [
    {
     "data": {
      "text/plain": [
       "{'id': 33850,\n",
       " 'from_id': -132,\n",
       " 'owner_id': -132,\n",
       " 'date': 1622395168,\n",
       " 'marked_as_ads': 0,\n",
       " 'is_favorite': False,\n",
       " 'post_type': 'post',\n",
       " 'text': 'УВАЖАЕМЫЕ УЧАСТНИКИ ГРУППЫ! В ТЕЧЕНИЕ ОЧЕНЬ МНОГИХ ЛЕТ Я ВЫПОЛНЯЛА ФУНКЦИИ АДМИНИСТРАТОРА ГРУППЫ, КОТОРЫЕ ПОЛУЧИЛА ПО НАСЛЕДСТВУ ОТ ОСНОВАТЕЛЕЙ ПАБЛИКА - ВЫПУСКНИКОВ ПИТЕРСКОЙ ВЫШКИ. В НАСТОЯЩЕЕ ВРЕМЯ Я УЖЕ НЕ ЯВЛЯЮСЬ СОТРУДНИКОМ НИУ ВШЭ И НЕ ВЛАДЕЮ АКТУАЛЬНОЙ ДЛЯ ВАС ИНФОРМАЦИЕЙ. Я ПРОЩАЮСЬ, БЛАГОДАРНА КОЛЛЕГАМ, СТУДЕНТАМ И ВЫПУСКНИКАМ ЗА ВНИМАНИЕ К ГРУППЕ И АКТИВНОЕ УЧАСТИЕ. \\nС уважением,\\nИ.Лесовская',\n",
       " 'post_source': {'type': 'vk'},\n",
       " 'comments': {'can_post': 1, 'count': 10, 'groups_can_post': True},\n",
       " 'likes': {'can_like': 1, 'count': 609, 'user_likes': 0, 'can_publish': 1},\n",
       " 'reposts': {'count': 87, 'user_reposted': 0},\n",
       " 'views': {'count': 73846},\n",
       " 'hash': 'IUHhT7sG2ip-2cbnz-32iNz2cH2x'}"
      ]
     },
     "execution_count": 10,
     "metadata": {},
     "output_type": "execute_result"
    }
   ],
   "source": [
    "res['items'][0] # первый элемент items - первый пост со всей информацией о нем"
   ]
  },
  {
   "cell_type": "markdown",
   "metadata": {},
   "source": [
    "Помимо текста поста можно найти много всего интересного. Например, тип поста (`post_type`), дата (`date`), id поста (`id`), лайки (`likes`, которые включают информацию о том, могут ли пользователи лайкать пост и публиковать его, а также собственно число лайков), репосты (`reposts`, которые включают число репостов), число просмотров (`views`), комментарии (`comments`, которые включают информацию о том, могут ли пользователи комментировать пост, и число комментариев), и так далее."
   ]
  },
  {
   "cell_type": "markdown",
   "metadata": {},
   "source": [
    "Давайте остановимся на тексте поста, id автора, id поста, дате публикации, числе лайков и репостов. Чтобы извлечь соответствующую информацию, сохраним `items` и извлечем из них нужные поля:"
   ]
  },
  {
   "cell_type": "code",
   "execution_count": 11,
   "metadata": {},
   "outputs": [],
   "source": [
    "items = res['items']"
   ]
  },
  {
   "cell_type": "code",
   "execution_count": 12,
   "metadata": {},
   "outputs": [],
   "source": [
    "full_list = []\n",
    "\n",
    "for item in items:\n",
    "    L = [item['from_id'], item['id'], item['text'], item['date'],\n",
    "        item['likes']['count'], item['reposts']['count']]  # нужные поля\n",
    "    full_list.append(L)  # добавляем в список списков full_list"
   ]
  },
  {
   "cell_type": "code",
   "execution_count": 13,
   "metadata": {},
   "outputs": [
    {
     "data": {
      "text/plain": [
       "[[-132,\n",
       "  33850,\n",
       "  'УВАЖАЕМЫЕ УЧАСТНИКИ ГРУППЫ! В ТЕЧЕНИЕ ОЧЕНЬ МНОГИХ ЛЕТ Я ВЫПОЛНЯЛА ФУНКЦИИ АДМИНИСТРАТОРА ГРУППЫ, КОТОРЫЕ ПОЛУЧИЛА ПО НАСЛЕДСТВУ ОТ ОСНОВАТЕЛЕЙ ПАБЛИКА - ВЫПУСКНИКОВ ПИТЕРСКОЙ ВЫШКИ. В НАСТОЯЩЕЕ ВРЕМЯ Я УЖЕ НЕ ЯВЛЯЮСЬ СОТРУДНИКОМ НИУ ВШЭ И НЕ ВЛАДЕЮ АКТУАЛЬНОЙ ДЛЯ ВАС ИНФОРМАЦИЕЙ. Я ПРОЩАЮСЬ, БЛАГОДАРНА КОЛЛЕГАМ, СТУДЕНТАМ И ВЫПУСКНИКАМ ЗА ВНИМАНИЕ К ГРУППЕ И АКТИВНОЕ УЧАСТИЕ. \\nС уважением,\\nИ.Лесовская',\n",
       "  1622395168,\n",
       "  609,\n",
       "  87],\n",
       " [-132,\n",
       "  33848,\n",
       "  'Добрый день! У Russian Hackers новый крутой Data Science хакатон. На этот раз от известного ретейлера “Ленты” при поддержке менторов из Microsoft. \\n \\nХакатон Hack.Promo от «Ленты» при поддержке менторов Microsoft! \\n \\nПриглашаем решить задачу повышения эффективности промоакций в Big Media на основе чековых данных случайных посетителей «Ленты», а именно: \\n– Построить предсказательную Uplift модель для промоакций \\n– Предложить оптимальный промо-календарь (набор промоакций с указанием их типа, периода проведения, наполнения по SKU) \\n \\nУчастников и победителей ждут: \\n🔹 Помощь экспертов из «Ленты» \\n🔹 Технологическая поддержка от Microsoft \\n🔹 Упрощённое трудоустройство в «Ленту» \\n🔹 Главный приз: 222 000 ₽ \\n🔹 Возможность поработать с уникальным датасетом, различные активности и отличная компания \\n \\nhttp://rhck.me/hackpromovk',\n",
       "  1622114845,\n",
       "  17,\n",
       "  30],\n",
       " [-132, 33846, '', 1621322422, 9, 12]]"
      ]
     },
     "execution_count": 13,
     "metadata": {},
     "output_type": "execute_result"
    }
   ],
   "source": [
    "# несколько элементов списка\n",
    "full_list[0:3]"
   ]
  },
  {
   "cell_type": "markdown",
   "metadata": {},
   "source": [
    "Видно, что в некоторых постах текста не обнаружено. "
   ]
  },
  {
   "cell_type": "markdown",
   "metadata": {},
   "source": [
    "Из этого списка списков можно легко сделать датафрейм `pandas`. Но прежде посмотрим, как сгрузить следующие 100 (и не только 100) постов со стены. Обычно при работе с API нужно принимать во внимание две вещи: 1) какое ограничение стоит на число запросов за один раз (число постов в нашем случае); 2) какое ограничение стоит на число запросов в минуту. Чтобы действовать в соответствии с этими ограничениями, поступим так: будем грузить каждые следующие 100 постов, добавлять их к нашему списку, потом немного ждать, и грузить еще 100 постов, и так до тех пор, пока не сгрузим желаемое количество.\n",
    "\n",
    "Давайте для начала выберем это желаемое число постов. Пусть будет 400. "
   ]
  },
  {
   "cell_type": "code",
   "execution_count": 14,
   "metadata": {},
   "outputs": [],
   "source": [
    "nposts = 400"
   ]
  },
  {
   "cell_type": "markdown",
   "metadata": {},
   "source": [
    "Теперь вопрос: по каким значениям нужно «пробегаться» в цикле, чтобы сгрузить посты с 100 по 400 (первые 100 уже сохранены в `res`)? По целым значениям от 2 до 4 включительно, умножая эти значения на 100. В `vk.get` есть опция `offset`. Она позволяет сдвинуть начало отсчета постов на некоторое число. Так, если мы напишем `api.wall.get(domain = group, count = 100, offset = 100, v = 5.73)`,  мы получим посты с 100 по 200, так как начало отсчета сдвинулось на 100."
   ]
  },
  {
   "cell_type": "markdown",
   "metadata": {},
   "source": [
    "Реализуем описанное выше. Для цикла нам понадобится `range()`, а для задержки после выгрузки каждой сотни постов нам пригодится функция `sleep`: "
   ]
  },
  {
   "cell_type": "code",
   "execution_count": 15,
   "metadata": {},
   "outputs": [],
   "source": [
    "from time import sleep"
   ]
  },
  {
   "cell_type": "code",
   "execution_count": 17,
   "metadata": {},
   "outputs": [],
   "source": [
    "for i in range(1, 3):\n",
    "    res2 = api.wall.get(domain = group, count = 100, offset = 100 * i, v = 5.131)\n",
    "    items2 = res2['items']\n",
    "    items.extend(items2) # добавляем к первой сотне постов в items\n",
    "    sleep(0.5)"
   ]
  },
  {
   "cell_type": "code",
   "execution_count": 18,
   "metadata": {},
   "outputs": [],
   "source": [
    "# опять выберем только нужные поля\n",
    "full_list = []\n",
    "for item in items:\n",
    "    L = [item['from_id'], item['id'], item['text'], item['date'],\n",
    "        item['likes']['count'], item['reposts']['count']]\n",
    "    full_list.append(L)"
   ]
  },
  {
   "cell_type": "markdown",
   "metadata": {},
   "source": [
    "Оставлось превратить обновленный список `items` (список списков) в датафрейм. Импортируем `pandas`."
   ]
  },
  {
   "cell_type": "code",
   "execution_count": 19,
   "metadata": {},
   "outputs": [],
   "source": [
    "import pandas as pd"
   ]
  },
  {
   "cell_type": "markdown",
   "metadata": {},
   "source": [
    "Создадим датафрейм:"
   ]
  },
  {
   "cell_type": "code",
   "execution_count": 20,
   "metadata": {},
   "outputs": [],
   "source": [
    "df = pd.DataFrame(full_list)"
   ]
  },
  {
   "cell_type": "code",
   "execution_count": 21,
   "metadata": {},
   "outputs": [
    {
     "data": {
      "text/html": [
       "<div>\n",
       "<style scoped>\n",
       "    .dataframe tbody tr th:only-of-type {\n",
       "        vertical-align: middle;\n",
       "    }\n",
       "\n",
       "    .dataframe tbody tr th {\n",
       "        vertical-align: top;\n",
       "    }\n",
       "\n",
       "    .dataframe thead th {\n",
       "        text-align: right;\n",
       "    }\n",
       "</style>\n",
       "<table border=\"1\" class=\"dataframe\">\n",
       "  <thead>\n",
       "    <tr style=\"text-align: right;\">\n",
       "      <th></th>\n",
       "      <th>0</th>\n",
       "      <th>1</th>\n",
       "      <th>2</th>\n",
       "      <th>3</th>\n",
       "      <th>4</th>\n",
       "      <th>5</th>\n",
       "    </tr>\n",
       "  </thead>\n",
       "  <tbody>\n",
       "    <tr>\n",
       "      <th>0</th>\n",
       "      <td>-132</td>\n",
       "      <td>33850</td>\n",
       "      <td>УВАЖАЕМЫЕ УЧАСТНИКИ ГРУППЫ! В ТЕЧЕНИЕ ОЧЕНЬ МН...</td>\n",
       "      <td>1622395168</td>\n",
       "      <td>609</td>\n",
       "      <td>87</td>\n",
       "    </tr>\n",
       "    <tr>\n",
       "      <th>1</th>\n",
       "      <td>-132</td>\n",
       "      <td>33848</td>\n",
       "      <td>Добрый день! У Russian Hackers новый крутой Da...</td>\n",
       "      <td>1622114845</td>\n",
       "      <td>17</td>\n",
       "      <td>30</td>\n",
       "    </tr>\n",
       "    <tr>\n",
       "      <th>2</th>\n",
       "      <td>-132</td>\n",
       "      <td>33846</td>\n",
       "      <td></td>\n",
       "      <td>1621322422</td>\n",
       "      <td>9</td>\n",
       "      <td>12</td>\n",
       "    </tr>\n",
       "    <tr>\n",
       "      <th>3</th>\n",
       "      <td>-132</td>\n",
       "      <td>33844</td>\n",
       "      <td>Приглашает студентов \"Сириус\" в летнюю школу п...</td>\n",
       "      <td>1621322182</td>\n",
       "      <td>10</td>\n",
       "      <td>12</td>\n",
       "    </tr>\n",
       "    <tr>\n",
       "      <th>4</th>\n",
       "      <td>-132</td>\n",
       "      <td>33837</td>\n",
       "      <td>Студенты Вышки без жилья не останутся https://...</td>\n",
       "      <td>1620224327</td>\n",
       "      <td>40</td>\n",
       "      <td>84</td>\n",
       "    </tr>\n",
       "    <tr>\n",
       "      <th>5</th>\n",
       "      <td>-132</td>\n",
       "      <td>33836</td>\n",
       "      <td>Прошла традиционная Апрельская конференция. Ит...</td>\n",
       "      <td>1620224186</td>\n",
       "      <td>4</td>\n",
       "      <td>5</td>\n",
       "    </tr>\n",
       "    <tr>\n",
       "      <th>6</th>\n",
       "      <td>-132</td>\n",
       "      <td>33834</td>\n",
       "      <td></td>\n",
       "      <td>1619763780</td>\n",
       "      <td>11</td>\n",
       "      <td>13</td>\n",
       "    </tr>\n",
       "    <tr>\n",
       "      <th>7</th>\n",
       "      <td>-132</td>\n",
       "      <td>33833</td>\n",
       "      <td>Новая ступень для роста в профессии. \\n \\nМаги...</td>\n",
       "      <td>1619763619</td>\n",
       "      <td>9</td>\n",
       "      <td>6</td>\n",
       "    </tr>\n",
       "    <tr>\n",
       "      <th>8</th>\n",
       "      <td>-132</td>\n",
       "      <td>33830</td>\n",
       "      <td>Вакансия для программистов С++:\\nhttps://felen...</td>\n",
       "      <td>1619382651</td>\n",
       "      <td>5</td>\n",
       "      <td>7</td>\n",
       "    </tr>\n",
       "    <tr>\n",
       "      <th>9</th>\n",
       "      <td>-132</td>\n",
       "      <td>33829</td>\n",
       "      <td>Вакансия для факультета права:\\nФедеральное го...</td>\n",
       "      <td>1619382567</td>\n",
       "      <td>4</td>\n",
       "      <td>12</td>\n",
       "    </tr>\n",
       "  </tbody>\n",
       "</table>\n",
       "</div>"
      ],
      "text/plain": [
       "     0      1                                                  2           3  \\\n",
       "0 -132  33850  УВАЖАЕМЫЕ УЧАСТНИКИ ГРУППЫ! В ТЕЧЕНИЕ ОЧЕНЬ МН...  1622395168   \n",
       "1 -132  33848  Добрый день! У Russian Hackers новый крутой Da...  1622114845   \n",
       "2 -132  33846                                                     1621322422   \n",
       "3 -132  33844  Приглашает студентов \"Сириус\" в летнюю школу п...  1621322182   \n",
       "4 -132  33837  Студенты Вышки без жилья не останутся https://...  1620224327   \n",
       "5 -132  33836  Прошла традиционная Апрельская конференция. Ит...  1620224186   \n",
       "6 -132  33834                                                     1619763780   \n",
       "7 -132  33833  Новая ступень для роста в профессии. \\n \\nМаги...  1619763619   \n",
       "8 -132  33830  Вакансия для программистов С++:\\nhttps://felen...  1619382651   \n",
       "9 -132  33829  Вакансия для факультета права:\\nФедеральное го...  1619382567   \n",
       "\n",
       "     4   5  \n",
       "0  609  87  \n",
       "1   17  30  \n",
       "2    9  12  \n",
       "3   10  12  \n",
       "4   40  84  \n",
       "5    4   5  \n",
       "6   11  13  \n",
       "7    9   6  \n",
       "8    5   7  \n",
       "9    4  12  "
      ]
     },
     "execution_count": 21,
     "metadata": {},
     "output_type": "execute_result"
    }
   ],
   "source": [
    "df.head(10)"
   ]
  },
  {
   "cell_type": "markdown",
   "metadata": {},
   "source": [
    "Ура! Осталось только дать внятные названия столбцам и разобраться, почему дата представлена в таком виде. что делать со столбцами, мы уже знаем."
   ]
  },
  {
   "cell_type": "code",
   "execution_count": 22,
   "metadata": {},
   "outputs": [
    {
     "data": {
      "text/html": [
       "<div>\n",
       "<style scoped>\n",
       "    .dataframe tbody tr th:only-of-type {\n",
       "        vertical-align: middle;\n",
       "    }\n",
       "\n",
       "    .dataframe tbody tr th {\n",
       "        vertical-align: top;\n",
       "    }\n",
       "\n",
       "    .dataframe thead th {\n",
       "        text-align: right;\n",
       "    }\n",
       "</style>\n",
       "<table border=\"1\" class=\"dataframe\">\n",
       "  <thead>\n",
       "    <tr style=\"text-align: right;\">\n",
       "      <th></th>\n",
       "      <th>from_id</th>\n",
       "      <th>id</th>\n",
       "      <th>text</th>\n",
       "      <th>date</th>\n",
       "      <th>likes</th>\n",
       "      <th>reposts</th>\n",
       "    </tr>\n",
       "  </thead>\n",
       "  <tbody>\n",
       "    <tr>\n",
       "      <th>0</th>\n",
       "      <td>-132</td>\n",
       "      <td>33850</td>\n",
       "      <td>УВАЖАЕМЫЕ УЧАСТНИКИ ГРУППЫ! В ТЕЧЕНИЕ ОЧЕНЬ МН...</td>\n",
       "      <td>1622395168</td>\n",
       "      <td>609</td>\n",
       "      <td>87</td>\n",
       "    </tr>\n",
       "    <tr>\n",
       "      <th>1</th>\n",
       "      <td>-132</td>\n",
       "      <td>33848</td>\n",
       "      <td>Добрый день! У Russian Hackers новый крутой Da...</td>\n",
       "      <td>1622114845</td>\n",
       "      <td>17</td>\n",
       "      <td>30</td>\n",
       "    </tr>\n",
       "    <tr>\n",
       "      <th>2</th>\n",
       "      <td>-132</td>\n",
       "      <td>33846</td>\n",
       "      <td></td>\n",
       "      <td>1621322422</td>\n",
       "      <td>9</td>\n",
       "      <td>12</td>\n",
       "    </tr>\n",
       "    <tr>\n",
       "      <th>3</th>\n",
       "      <td>-132</td>\n",
       "      <td>33844</td>\n",
       "      <td>Приглашает студентов \"Сириус\" в летнюю школу п...</td>\n",
       "      <td>1621322182</td>\n",
       "      <td>10</td>\n",
       "      <td>12</td>\n",
       "    </tr>\n",
       "    <tr>\n",
       "      <th>4</th>\n",
       "      <td>-132</td>\n",
       "      <td>33837</td>\n",
       "      <td>Студенты Вышки без жилья не останутся https://...</td>\n",
       "      <td>1620224327</td>\n",
       "      <td>40</td>\n",
       "      <td>84</td>\n",
       "    </tr>\n",
       "    <tr>\n",
       "      <th>5</th>\n",
       "      <td>-132</td>\n",
       "      <td>33836</td>\n",
       "      <td>Прошла традиционная Апрельская конференция. Ит...</td>\n",
       "      <td>1620224186</td>\n",
       "      <td>4</td>\n",
       "      <td>5</td>\n",
       "    </tr>\n",
       "    <tr>\n",
       "      <th>6</th>\n",
       "      <td>-132</td>\n",
       "      <td>33834</td>\n",
       "      <td></td>\n",
       "      <td>1619763780</td>\n",
       "      <td>11</td>\n",
       "      <td>13</td>\n",
       "    </tr>\n",
       "    <tr>\n",
       "      <th>7</th>\n",
       "      <td>-132</td>\n",
       "      <td>33833</td>\n",
       "      <td>Новая ступень для роста в профессии. \\n \\nМаги...</td>\n",
       "      <td>1619763619</td>\n",
       "      <td>9</td>\n",
       "      <td>6</td>\n",
       "    </tr>\n",
       "    <tr>\n",
       "      <th>8</th>\n",
       "      <td>-132</td>\n",
       "      <td>33830</td>\n",
       "      <td>Вакансия для программистов С++:\\nhttps://felen...</td>\n",
       "      <td>1619382651</td>\n",
       "      <td>5</td>\n",
       "      <td>7</td>\n",
       "    </tr>\n",
       "    <tr>\n",
       "      <th>9</th>\n",
       "      <td>-132</td>\n",
       "      <td>33829</td>\n",
       "      <td>Вакансия для факультета права:\\nФедеральное го...</td>\n",
       "      <td>1619382567</td>\n",
       "      <td>4</td>\n",
       "      <td>12</td>\n",
       "    </tr>\n",
       "  </tbody>\n",
       "</table>\n",
       "</div>"
      ],
      "text/plain": [
       "   from_id     id                                               text  \\\n",
       "0     -132  33850  УВАЖАЕМЫЕ УЧАСТНИКИ ГРУППЫ! В ТЕЧЕНИЕ ОЧЕНЬ МН...   \n",
       "1     -132  33848  Добрый день! У Russian Hackers новый крутой Da...   \n",
       "2     -132  33846                                                      \n",
       "3     -132  33844  Приглашает студентов \"Сириус\" в летнюю школу п...   \n",
       "4     -132  33837  Студенты Вышки без жилья не останутся https://...   \n",
       "5     -132  33836  Прошла традиционная Апрельская конференция. Ит...   \n",
       "6     -132  33834                                                      \n",
       "7     -132  33833  Новая ступень для роста в профессии. \\n \\nМаги...   \n",
       "8     -132  33830  Вакансия для программистов С++:\\nhttps://felen...   \n",
       "9     -132  33829  Вакансия для факультета права:\\nФедеральное го...   \n",
       "\n",
       "         date  likes  reposts  \n",
       "0  1622395168    609       87  \n",
       "1  1622114845     17       30  \n",
       "2  1621322422      9       12  \n",
       "3  1621322182     10       12  \n",
       "4  1620224327     40       84  \n",
       "5  1620224186      4        5  \n",
       "6  1619763780     11       13  \n",
       "7  1619763619      9        6  \n",
       "8  1619382651      5        7  \n",
       "9  1619382567      4       12  "
      ]
     },
     "execution_count": 22,
     "metadata": {},
     "output_type": "execute_result"
    }
   ],
   "source": [
    "df.columns = ['from_id', 'id', 'text', 'date', 'likes', 'reposts']\n",
    "df.head(10)"
   ]
  },
  {
   "cell_type": "markdown",
   "metadata": {},
   "source": [
    "С датой все интереснее. То, что указано в столбце `date`, это дата в виде UNIX-времени (POSIX-времени). Это число секунд, прошедших с 1 января 1970 года. Несмотря на то, что такой формат даты-времени кажется необычным, он довольно широко распространен в разных системах и приложениях (см. подробнее [здесь](https://ru.wikipedia.org/wiki/Unix-%D0%B2%D1%80%D0%B5%D0%BC%D1%8F)). Этот факт, конечно, радует, но хочется получить дату в более человеческом формате. Давайте напишем функцию для перевода UNIX-времени в формат *год-месяц-день-часы-минуты-секунды*. Для этого нам понадобится модуль *datetime*."
   ]
  },
  {
   "cell_type": "code",
   "execution_count": 23,
   "metadata": {},
   "outputs": [],
   "source": [
    "from datetime import datetime"
   ]
  },
  {
   "cell_type": "code",
   "execution_count": 24,
   "metadata": {},
   "outputs": [],
   "source": [
    "def date_norm(date):\n",
    "    d = datetime.fromtimestamp(date) # timestamp - UNIX-время в виде строки\n",
    "    str_d = d.strftime(\"%Y-%m-%d %H:%M:%S\") # %Y-%m-%d %H:%M:%S - год-месяц-день, часы:мин:сек\n",
    "    return str_d"
   ]
  },
  {
   "cell_type": "markdown",
   "metadata": {},
   "source": [
    "Применим нашу функцию к элементам столбца *date* и создадим новый – *date_norm*."
   ]
  },
  {
   "cell_type": "code",
   "execution_count": 30,
   "metadata": {},
   "outputs": [],
   "source": [
    "df['date_norm'] = df.date.apply(date_norm)"
   ]
  },
  {
   "cell_type": "code",
   "execution_count": 31,
   "metadata": {},
   "outputs": [
    {
     "data": {
      "text/html": [
       "<div>\n",
       "<style scoped>\n",
       "    .dataframe tbody tr th:only-of-type {\n",
       "        vertical-align: middle;\n",
       "    }\n",
       "\n",
       "    .dataframe tbody tr th {\n",
       "        vertical-align: top;\n",
       "    }\n",
       "\n",
       "    .dataframe thead th {\n",
       "        text-align: right;\n",
       "    }\n",
       "</style>\n",
       "<table border=\"1\" class=\"dataframe\">\n",
       "  <thead>\n",
       "    <tr style=\"text-align: right;\">\n",
       "      <th></th>\n",
       "      <th>from_id</th>\n",
       "      <th>id</th>\n",
       "      <th>text</th>\n",
       "      <th>date</th>\n",
       "      <th>likes</th>\n",
       "      <th>reposts</th>\n",
       "      <th>date_norm</th>\n",
       "    </tr>\n",
       "  </thead>\n",
       "  <tbody>\n",
       "    <tr>\n",
       "      <th>0</th>\n",
       "      <td>-132</td>\n",
       "      <td>33850</td>\n",
       "      <td>УВАЖАЕМЫЕ УЧАСТНИКИ ГРУППЫ! В ТЕЧЕНИЕ ОЧЕНЬ МН...</td>\n",
       "      <td>1622395168</td>\n",
       "      <td>609</td>\n",
       "      <td>87</td>\n",
       "      <td>2021-05-30 20:19:28</td>\n",
       "    </tr>\n",
       "    <tr>\n",
       "      <th>1</th>\n",
       "      <td>-132</td>\n",
       "      <td>33848</td>\n",
       "      <td>Добрый день! У Russian Hackers новый крутой Da...</td>\n",
       "      <td>1622114845</td>\n",
       "      <td>17</td>\n",
       "      <td>30</td>\n",
       "      <td>2021-05-27 14:27:25</td>\n",
       "    </tr>\n",
       "    <tr>\n",
       "      <th>2</th>\n",
       "      <td>-132</td>\n",
       "      <td>33846</td>\n",
       "      <td></td>\n",
       "      <td>1621322422</td>\n",
       "      <td>9</td>\n",
       "      <td>12</td>\n",
       "      <td>2021-05-18 10:20:22</td>\n",
       "    </tr>\n",
       "    <tr>\n",
       "      <th>3</th>\n",
       "      <td>-132</td>\n",
       "      <td>33844</td>\n",
       "      <td>Приглашает студентов \"Сириус\" в летнюю школу п...</td>\n",
       "      <td>1621322182</td>\n",
       "      <td>10</td>\n",
       "      <td>12</td>\n",
       "      <td>2021-05-18 10:16:22</td>\n",
       "    </tr>\n",
       "    <tr>\n",
       "      <th>4</th>\n",
       "      <td>-132</td>\n",
       "      <td>33837</td>\n",
       "      <td>Студенты Вышки без жилья не останутся https://...</td>\n",
       "      <td>1620224327</td>\n",
       "      <td>40</td>\n",
       "      <td>84</td>\n",
       "      <td>2021-05-05 17:18:47</td>\n",
       "    </tr>\n",
       "  </tbody>\n",
       "</table>\n",
       "</div>"
      ],
      "text/plain": [
       "   from_id     id                                               text  \\\n",
       "0     -132  33850  УВАЖАЕМЫЕ УЧАСТНИКИ ГРУППЫ! В ТЕЧЕНИЕ ОЧЕНЬ МН...   \n",
       "1     -132  33848  Добрый день! У Russian Hackers новый крутой Da...   \n",
       "2     -132  33846                                                      \n",
       "3     -132  33844  Приглашает студентов \"Сириус\" в летнюю школу п...   \n",
       "4     -132  33837  Студенты Вышки без жилья не останутся https://...   \n",
       "\n",
       "         date  likes  reposts            date_norm  \n",
       "0  1622395168    609       87  2021-05-30 20:19:28  \n",
       "1  1622114845     17       30  2021-05-27 14:27:25  \n",
       "2  1621322422      9       12  2021-05-18 10:20:22  \n",
       "3  1621322182     10       12  2021-05-18 10:16:22  \n",
       "4  1620224327     40       84  2021-05-05 17:18:47  "
      ]
     },
     "execution_count": 31,
     "metadata": {},
     "output_type": "execute_result"
    }
   ],
   "source": [
    "df.head()"
   ]
  },
  {
   "cell_type": "markdown",
   "metadata": {},
   "source": [
    "Можно разбить на части дату и время, а не сохранять одной строкой. Для этого нужно применить метод `.split()` для строк и «раздвинуть» столбцы – после разбиения получить не один столбец, а сразу несколько. "
   ]
  },
  {
   "cell_type": "code",
   "execution_count": 35,
   "metadata": {},
   "outputs": [
    {
     "data": {
      "text/plain": [
       "0      [2021-05-30, 20:19:28]\n",
       "1      [2021-05-27, 14:27:25]\n",
       "2      [2021-05-18, 10:20:22]\n",
       "3      [2021-05-18, 10:16:22]\n",
       "4      [2021-05-05, 17:18:47]\n",
       "                ...          \n",
       "295    [2018-07-20, 21:27:23]\n",
       "296    [2018-07-19, 12:12:51]\n",
       "297    [2018-07-16, 20:06:27]\n",
       "298    [2018-07-16, 18:47:02]\n",
       "299    [2018-07-13, 19:11:20]\n",
       "Name: date_norm, Length: 300, dtype: object"
      ]
     },
     "execution_count": 35,
     "metadata": {},
     "output_type": "execute_result"
    }
   ],
   "source": [
    "df['date_norm'].str.split() # результат разбиения – набор списков"
   ]
  },
  {
   "cell_type": "code",
   "execution_count": 28,
   "metadata": {},
   "outputs": [
    {
     "data": {
      "text/html": [
       "<div>\n",
       "<style scoped>\n",
       "    .dataframe tbody tr th:only-of-type {\n",
       "        vertical-align: middle;\n",
       "    }\n",
       "\n",
       "    .dataframe tbody tr th {\n",
       "        vertical-align: top;\n",
       "    }\n",
       "\n",
       "    .dataframe thead th {\n",
       "        text-align: right;\n",
       "    }\n",
       "</style>\n",
       "<table border=\"1\" class=\"dataframe\">\n",
       "  <thead>\n",
       "    <tr style=\"text-align: right;\">\n",
       "      <th></th>\n",
       "      <th>0</th>\n",
       "      <th>1</th>\n",
       "    </tr>\n",
       "  </thead>\n",
       "  <tbody>\n",
       "    <tr>\n",
       "      <td>0</td>\n",
       "      <td>2019-12-10</td>\n",
       "      <td>12:57:29</td>\n",
       "    </tr>\n",
       "    <tr>\n",
       "      <td>1</td>\n",
       "      <td>2019-12-10</td>\n",
       "      <td>12:54:25</td>\n",
       "    </tr>\n",
       "    <tr>\n",
       "      <td>2</td>\n",
       "      <td>2019-12-10</td>\n",
       "      <td>12:53:45</td>\n",
       "    </tr>\n",
       "    <tr>\n",
       "      <td>3</td>\n",
       "      <td>2019-12-10</td>\n",
       "      <td>12:53:06</td>\n",
       "    </tr>\n",
       "    <tr>\n",
       "      <td>4</td>\n",
       "      <td>2019-12-10</td>\n",
       "      <td>12:50:33</td>\n",
       "    </tr>\n",
       "    <tr>\n",
       "      <td>...</td>\n",
       "      <td>...</td>\n",
       "      <td>...</td>\n",
       "    </tr>\n",
       "    <tr>\n",
       "      <td>295</td>\n",
       "      <td>2018-01-23</td>\n",
       "      <td>14:43:19</td>\n",
       "    </tr>\n",
       "    <tr>\n",
       "      <td>296</td>\n",
       "      <td>2018-01-17</td>\n",
       "      <td>08:50:56</td>\n",
       "    </tr>\n",
       "    <tr>\n",
       "      <td>297</td>\n",
       "      <td>2018-01-10</td>\n",
       "      <td>11:32:29</td>\n",
       "    </tr>\n",
       "    <tr>\n",
       "      <td>298</td>\n",
       "      <td>2018-01-10</td>\n",
       "      <td>11:24:29</td>\n",
       "    </tr>\n",
       "    <tr>\n",
       "      <td>299</td>\n",
       "      <td>2018-01-05</td>\n",
       "      <td>15:13:01</td>\n",
       "    </tr>\n",
       "  </tbody>\n",
       "</table>\n",
       "<p>300 rows × 2 columns</p>\n",
       "</div>"
      ],
      "text/plain": [
       "              0         1\n",
       "0    2019-12-10  12:57:29\n",
       "1    2019-12-10  12:54:25\n",
       "2    2019-12-10  12:53:45\n",
       "3    2019-12-10  12:53:06\n",
       "4    2019-12-10  12:50:33\n",
       "..          ...       ...\n",
       "295  2018-01-23  14:43:19\n",
       "296  2018-01-17  08:50:56\n",
       "297  2018-01-10  11:32:29\n",
       "298  2018-01-10  11:24:29\n",
       "299  2018-01-05  15:13:01\n",
       "\n",
       "[300 rows x 2 columns]"
      ]
     },
     "execution_count": 28,
     "metadata": {},
     "output_type": "execute_result"
    }
   ],
   "source": [
    "df['date_norm'].str.split(expand = True) # теперь расширили – 2 столбца "
   ]
  },
  {
   "cell_type": "code",
   "execution_count": 29,
   "metadata": {},
   "outputs": [],
   "source": [
    "new_dat = df['date_norm'].str.split(expand = True) # сохраняем\n",
    "df['Date'] = new_dat[0] # первый столбец – в Date\n",
    "df['Time'] = new_dat[1]  # второй столбец – в Time"
   ]
  },
  {
   "cell_type": "code",
   "execution_count": 30,
   "metadata": {},
   "outputs": [
    {
     "data": {
      "text/html": [
       "<div>\n",
       "<style scoped>\n",
       "    .dataframe tbody tr th:only-of-type {\n",
       "        vertical-align: middle;\n",
       "    }\n",
       "\n",
       "    .dataframe tbody tr th {\n",
       "        vertical-align: top;\n",
       "    }\n",
       "\n",
       "    .dataframe thead th {\n",
       "        text-align: right;\n",
       "    }\n",
       "</style>\n",
       "<table border=\"1\" class=\"dataframe\">\n",
       "  <thead>\n",
       "    <tr style=\"text-align: right;\">\n",
       "      <th></th>\n",
       "      <th>from_id</th>\n",
       "      <th>id</th>\n",
       "      <th>text</th>\n",
       "      <th>date</th>\n",
       "      <th>likes</th>\n",
       "      <th>reposts</th>\n",
       "      <th>date_norm</th>\n",
       "      <th>Date</th>\n",
       "      <th>Time</th>\n",
       "    </tr>\n",
       "  </thead>\n",
       "  <tbody>\n",
       "    <tr>\n",
       "      <td>0</td>\n",
       "      <td>-132</td>\n",
       "      <td>33029</td>\n",
       "      <td>Что меня огорчает</td>\n",
       "      <td>1575971849</td>\n",
       "      <td>8</td>\n",
       "      <td>0</td>\n",
       "      <td>2019-12-10 12:57:29</td>\n",
       "      <td>2019-12-10</td>\n",
       "      <td>12:57:29</td>\n",
       "    </tr>\n",
       "    <tr>\n",
       "      <td>1</td>\n",
       "      <td>-132</td>\n",
       "      <td>33028</td>\n",
       "      <td></td>\n",
       "      <td>1575971665</td>\n",
       "      <td>13</td>\n",
       "      <td>2</td>\n",
       "      <td>2019-12-10 12:54:25</td>\n",
       "      <td>2019-12-10</td>\n",
       "      <td>12:54:25</td>\n",
       "    </tr>\n",
       "    <tr>\n",
       "      <td>2</td>\n",
       "      <td>-132</td>\n",
       "      <td>33027</td>\n",
       "      <td></td>\n",
       "      <td>1575971625</td>\n",
       "      <td>4</td>\n",
       "      <td>0</td>\n",
       "      <td>2019-12-10 12:53:45</td>\n",
       "      <td>2019-12-10</td>\n",
       "      <td>12:53:45</td>\n",
       "    </tr>\n",
       "    <tr>\n",
       "      <td>3</td>\n",
       "      <td>-132</td>\n",
       "      <td>33026</td>\n",
       "      <td></td>\n",
       "      <td>1575971586</td>\n",
       "      <td>8</td>\n",
       "      <td>1</td>\n",
       "      <td>2019-12-10 12:53:06</td>\n",
       "      <td>2019-12-10</td>\n",
       "      <td>12:53:06</td>\n",
       "    </tr>\n",
       "    <tr>\n",
       "      <td>4</td>\n",
       "      <td>-132</td>\n",
       "      <td>33025</td>\n",
       "      <td>Вышка в прошлом году запустила новый проект, о...</td>\n",
       "      <td>1575971433</td>\n",
       "      <td>8</td>\n",
       "      <td>0</td>\n",
       "      <td>2019-12-10 12:50:33</td>\n",
       "      <td>2019-12-10</td>\n",
       "      <td>12:50:33</td>\n",
       "    </tr>\n",
       "  </tbody>\n",
       "</table>\n",
       "</div>"
      ],
      "text/plain": [
       "   from_id     id                                               text  \\\n",
       "0     -132  33029                                  Что меня огорчает   \n",
       "1     -132  33028                                                      \n",
       "2     -132  33027                                                      \n",
       "3     -132  33026                                                      \n",
       "4     -132  33025  Вышка в прошлом году запустила новый проект, о...   \n",
       "\n",
       "         date  likes  reposts            date_norm        Date      Time  \n",
       "0  1575971849      8        0  2019-12-10 12:57:29  2019-12-10  12:57:29  \n",
       "1  1575971665     13        2  2019-12-10 12:54:25  2019-12-10  12:54:25  \n",
       "2  1575971625      4        0  2019-12-10 12:53:45  2019-12-10  12:53:45  \n",
       "3  1575971586      8        1  2019-12-10 12:53:06  2019-12-10  12:53:06  \n",
       "4  1575971433      8        0  2019-12-10 12:50:33  2019-12-10  12:50:33  "
      ]
     },
     "execution_count": 30,
     "metadata": {},
     "output_type": "execute_result"
    }
   ],
   "source": [
    "df.head()"
   ]
  },
  {
   "cell_type": "markdown",
   "metadata": {},
   "source": [
    "Всё! Материалы о разных методах и функциях для `vk.api` можно найти в [официальной документации](https://vk.com/dev/manuals). "
   ]
  }
 ],
 "metadata": {
  "kernelspec": {
   "display_name": "Python 3 (ipykernel)",
   "language": "python",
   "name": "python3"
  },
  "language_info": {
   "codemirror_mode": {
    "name": "ipython",
    "version": 3
   },
   "file_extension": ".py",
   "mimetype": "text/x-python",
   "name": "python",
   "nbconvert_exporter": "python",
   "pygments_lexer": "ipython3",
   "version": "3.9.7"
  }
 },
 "nbformat": 4,
 "nbformat_minor": 2
}

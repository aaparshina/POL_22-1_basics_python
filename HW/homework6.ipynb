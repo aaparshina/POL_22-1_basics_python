{
 "cells": [
  {
   "cell_type": "markdown",
   "metadata": {},
   "source": [
    "## Домашнее задание №6\n",
    "\n",
    "### Задание \n",
    "\n",
    "Загрузите файл `love_letters.txt`. Обработайте текст, создайте таблицу и запишите в нее имя отправителя, имя получателя, соответствующие адреса почт, год написания, текст письма (это все разные столбцы). *Важно!* Текст письма может содержать `\\n`, их нужно убрать. Сохраните файл в формате csv. \n",
    "\n",
    "ДЗ сдаем в виде `ipynb`-файла и `csv`-файла (лучше оба запихнуть в архив). Получить `ipynb`-файл можно, выбрав в Jupyter пункт меню *File* → *Download as...* → *IPython Notebook (.ipynb)*. Также вместе с `ipynb`-файлом надо загрузить полученную в результате выполнения задания таблицу в формате `csv`.\n",
    "\n",
    "Ссылки на дропбокс: \n",
    "\n",
    "+ [БПТ 201](https://www.dropbox.com/request/CLYBqFLBy2G9RiQZPHHO) \n",
    "+ [БПТ 203](https://www.dropbox.com/request/b6KhkFMsa9NM4CB1Llvz)\n",
    "+ [БПТ 204](https://www.dropbox.com/request/fsHabq9JeeZQIWRNxmHk)\n",
    "\n",
    "\n",
    "*Подсказка:* можно сделать словарик `love_letters`, где ключом будет номер письма, а значением -- список с интересующими нас частями письма. Чтобы из этого сделать таблицу, можно воспользоваться следующей функцией: \n",
    "\n",
    "    import pandas as pd\n",
    "    \n",
    "    data_letters = pd.DataFrame.from_dict(love_letters, orient='index', columns = ['Имя отправителя','Имя получателя','Адрес отправителя', 'Адрес получателя', 'Год', 'Текст'])\n",
    "\n",
    "Это просто совет по возможому созданию таблицы. Делайте так, как вам удобнее. Можете просто подробнее прочитать о модуле `pandas`, но в рамках нашего курса достаточно использовать его только для создания таблиц. \n",
    "\n",
    "Чтобы сохранить полученные данные, используйте команду \n",
    "\n",
    "    data_letters.to_csv('data.csv', encoding= 'utf-8')\n",
    "    "
   ]
  }
 ],
 "metadata": {
  "kernelspec": {
   "display_name": "Python 3 (ipykernel)",
   "language": "python",
   "name": "python3"
  },
  "language_info": {
   "codemirror_mode": {
    "name": "ipython",
    "version": 3
   },
   "file_extension": ".py",
   "mimetype": "text/x-python",
   "name": "python",
   "nbconvert_exporter": "python",
   "pygments_lexer": "ipython3",
   "version": "3.9.7"
  }
 },
 "nbformat": 4,
 "nbformat_minor": 4
}

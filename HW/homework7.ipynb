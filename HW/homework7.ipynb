{
 "cells": [
  {
   "cell_type": "markdown",
   "metadata": {},
   "source": [
    "## Домашнее задание №7\n",
    "\n",
    "### Задание 1 (6 баллов)\n",
    "\n",
    "Посмотрите на страницу вики, где находится информация о испытаниях ядерного оружия. https://en.wikipedia.org/wiki/List_of_nuclear_weapons_tests\n",
    "\n",
    "Достаньте вторую таблицу Worldwide nuclear test with a yield of 1.4 Mt TNT equivalent and more и сохраните из нее данные о Date, Yield (мощность взрыва) и Country. Сохраните все в таблицу в формате `csv`\n",
    "\n",
    "ДЗ сдаем в виде `ipynb`-файла и `csv`-файла (лучше оба запихнуть в архив). Получить `ipynb`-файл можно, выбрав в Jupyter пункт меню *File* → *Download as...* → *IPython Notebook (.ipynb)*. Также вместе с `ipynb`-файлом надо загрузить полученную в результате выполнения задания таблицу в формате `csv`.\n",
    "\n",
    "Ссылки на дропбокс: \n",
    "\n",
    "+ [БПТ 201](https://www.dropbox.com/request/ji4fpp5ORCLmkFrTkf3J) \n",
    "+ [БПТ 203](https://www.dropbox.com/request/fnXDXEM1UQ0AWTr7CYPe)\n",
    "+ [БПТ 204](https://www.dropbox.com/request/Kbe7S1FqQKwcXFgwsYjl)\n",
    "\n",
    "\n"
   ]
  },
  {
   "cell_type": "code",
   "execution_count": null,
   "metadata": {},
   "outputs": [],
   "source": [
    "# код"
   ]
  },
  {
   "cell_type": "markdown",
   "metadata": {},
   "source": [
    "### Задание 2 (4 балла)\n",
    "\n",
    "1. Напишите функцию, которая берет аргументом название страны и возвращает (return) среднюю мощность взрыва для этой страны (нужно сложить все значения из колонки 'Yield (megatons)', которым соответствует страна, например, США, и раделить на количество этих значений). \n",
    "\n",
    "2. Из списка Country оставьте только уникальные значения для стран и запустите вашу функцию в цикле для каждого значения Country. Внутри цикла сделайте следующий вывод \"{название страны}: средняя мощность взрыва {средняя мощность} мегатон\"\n",
    "\n",
    "3. Создайте словарь, ключом в котором будет страна, а значением список из количества испытаний и максимальной мощности взрыва.\n",
    "\n",
    "4. Выведите ключи словаря из пункта 3 и максимальную мощность взрыва, отсортированные по максимальной мощности взрыва, от меньшего к большему."
   ]
  },
  {
   "cell_type": "code",
   "execution_count": null,
   "metadata": {},
   "outputs": [],
   "source": [
    "# код"
   ]
  }
 ],
 "metadata": {
  "kernelspec": {
   "display_name": "Python 3 (ipykernel)",
   "language": "python",
   "name": "python3"
  },
  "language_info": {
   "codemirror_mode": {
    "name": "ipython",
    "version": 3
   },
   "file_extension": ".py",
   "mimetype": "text/x-python",
   "name": "python",
   "nbconvert_exporter": "python",
   "pygments_lexer": "ipython3",
   "version": "3.9.7"
  }
 },
 "nbformat": 4,
 "nbformat_minor": 4
}

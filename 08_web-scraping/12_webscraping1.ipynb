{
 "cells": [
  {
   "cell_type": "markdown",
   "metadata": {
    "colab_type": "text",
    "id": "6coq6VkPKjBn"
   },
   "source": [
    "# Python для исследователей\n",
    "\n",
    "Автор: *Татьяна Рогович, НИУ ВШЭ*\n",
    "\n",
    "# Парсинг таблиц с Beautiful soup"
   ]
  },
  {
   "cell_type": "markdown",
   "metadata": {},
   "source": [
    "Мы с вами посмотрели как создавать html-файлы. Давайте начнем с игрушечного примера, чтобы теперь разобраться, как информацию из таблиц доставать."
   ]
  },
  {
   "cell_type": "markdown",
   "metadata": {
    "colab_type": "text",
    "id": "4V_Cb2t2KjEN"
   },
   "source": [
    "Сначала мы импортируем библиотеку `requests`. Она позволяет нам просто  и удобно посылать HTTP/1.1 запросы, не утруждаясь ручным трудом."
   ]
  },
  {
   "cell_type": "code",
   "execution_count": 7,
   "metadata": {},
   "outputs": [],
   "source": [
    "import codecs\n",
    "f=codecs.open(\"simple_table.html\", 'r')\n"
   ]
  },
  {
   "cell_type": "code",
   "execution_count": 10,
   "metadata": {},
   "outputs": [],
   "source": [
    "link = 'https://raw.githubusercontent.com/aaparshina/DPO_21_Python_for_Data_Analysis/main/12_WebScraping/simple_table.html'"
   ]
  },
  {
   "cell_type": "markdown",
   "metadata": {
    "colab_type": "text",
    "id": "PyXOofPIKjET"
   },
   "source": [
    "Теперь мы должны указать адрес страницы с которой мы будем скрейпить данные и сохраним ее в переменную `website_url`.\n",
    "`requests.get(url).text` обратиться к сайту и вернет `HTML` код сайта."
   ]
  },
  {
   "cell_type": "code",
   "execution_count": 11,
   "metadata": {},
   "outputs": [],
   "source": [
    "website_url = requests.get(link).text"
   ]
  },
  {
   "cell_type": "markdown",
   "metadata": {},
   "source": [
    "По ссылке совсем небольшой файл - почти такой же как тот, который мы с вами сделали в интерактивном тренажере."
   ]
  },
  {
   "cell_type": "code",
   "execution_count": 12,
   "metadata": {},
   "outputs": [
    {
     "data": {
      "text/plain": [
       "'<!DOCTYPE html>\\n<html>\\n<head>\\n<title>Page Title</title>\\n</head>\\n<body>\\n\\n<h1>Моя первая html-страница</h1>\\n<h2>О себе</h2>\\n<p>Я учусь создавать html-страницы.</p>\\n\\n<table border=\"1\">\\n<caption>Информация</caption>\\n<tr>\\n<th>Фамилия</th>\\n<th>Имя</th>\\n<th>Возраст</th>\\n</tr>\\n<tr>\\n<td>Тамбовцева</td>\\n<td>Алла</td>\\n<td>24</td>\\n</tr>\\n<tr>\\n<td>Иванов</td>\\n<td>Петр</td>\\n<td>32</td>\\n</tr>\\n<tr>\\n<td>Константинопольский</td>\\n<td>Константин</td>\\n<td>29</td>\\n</tr>\\n</table>\\n    \\n<table>\\n<tr>\\n<td>Тамбовцева</td>\\n<td>Алла</td>\\n<td>24</td>\\n</tr>\\n</table>\\n\\n</body>\\n</html>'"
      ]
     },
     "execution_count": 12,
     "metadata": {},
     "output_type": "execute_result"
    }
   ],
   "source": [
    "website_url"
   ]
  },
  {
   "cell_type": "markdown",
   "metadata": {
    "colab_type": "text",
    "id": "bT9LVvyEKjEX"
   },
   "source": [
    "Как мы видим, весь код представлен просто блоком текста, который неудобно читать и разбирать. Поэтому мы создадим объект `BeautifulSoup` с помощью функциии `BeautifulSoup`, предварительно импортировав саму библиотеку. `Beautiful Soup` это библиотека для парсинга `HTML` и `XML` документов. Она создает дерево из `HTML` кода, что очень полезно при скрейпинге. Функция `prettify()` позволяет видеть код в более удобном виде, в том числе с разбивкой по тегам."
   ]
  },
  {
   "cell_type": "code",
   "execution_count": 13,
   "metadata": {},
   "outputs": [
    {
     "name": "stdout",
     "output_type": "stream",
     "text": [
      "<!DOCTYPE html>\n",
      "<html>\n",
      " <head>\n",
      "  <title>\n",
      "   Page Title\n",
      "  </title>\n",
      " </head>\n",
      " <body>\n",
      "  <h1>\n",
      "   Моя первая html-страница\n",
      "  </h1>\n",
      "  <h2>\n",
      "   О себе\n",
      "  </h2>\n",
      "  <p>\n",
      "   Я учусь создавать html-страницы.\n",
      "  </p>\n",
      "  <table border=\"1\">\n",
      "   <caption>\n",
      "    Информация\n",
      "   </caption>\n",
      "   <tr>\n",
      "    <th>\n",
      "     Фамилия\n",
      "    </th>\n",
      "    <th>\n",
      "     Имя\n",
      "    </th>\n",
      "    <th>\n",
      "     Возраст\n",
      "    </th>\n",
      "   </tr>\n",
      "   <tr>\n",
      "    <td>\n",
      "     Тамбовцева\n",
      "    </td>\n",
      "    <td>\n",
      "     Алла\n",
      "    </td>\n",
      "    <td>\n",
      "     24\n",
      "    </td>\n",
      "   </tr>\n",
      "   <tr>\n",
      "    <td>\n",
      "     Иванов\n",
      "    </td>\n",
      "    <td>\n",
      "     Петр\n",
      "    </td>\n",
      "    <td>\n",
      "     32\n",
      "    </td>\n",
      "   </tr>\n",
      "   <tr>\n",
      "    <td>\n",
      "     Константинопольский\n",
      "    </td>\n",
      "    <td>\n",
      "     Константин\n",
      "    </td>\n",
      "    <td>\n",
      "     29\n",
      "    </td>\n",
      "   </tr>\n",
      "  </table>\n",
      "  <table>\n",
      "   <tr>\n",
      "    <td>\n",
      "     Тамбовцева\n",
      "    </td>\n",
      "    <td>\n",
      "     Алла\n",
      "    </td>\n",
      "    <td>\n",
      "     24\n",
      "    </td>\n",
      "   </tr>\n",
      "  </table>\n",
      " </body>\n",
      "</html>\n"
     ]
    }
   ],
   "source": [
    "from bs4 import BeautifulSoup\n",
    "\n",
    "soup = BeautifulSoup(website_url)\n",
    "print(soup.prettify())"
   ]
  },
  {
   "cell_type": "markdown",
   "metadata": {},
   "source": [
    "Видим, что .preffify() упорядочил наш html код и представил его в видел дерева и вложенных узлов. Давайте попробуем найти таблицу. За поиск отвечает метод .find_all(), которому мы передаем тэг для поиска."
   ]
  },
  {
   "cell_type": "code",
   "execution_count": 14,
   "metadata": {},
   "outputs": [
    {
     "name": "stdout",
     "output_type": "stream",
     "text": [
      "[<table border=\"1\">\n",
      "<caption>Информация</caption>\n",
      "<tr>\n",
      "<th>Фамилия</th>\n",
      "<th>Имя</th>\n",
      "<th>Возраст</th>\n",
      "</tr>\n",
      "<tr>\n",
      "<td>Тамбовцева</td>\n",
      "<td>Алла</td>\n",
      "<td>24</td>\n",
      "</tr>\n",
      "<tr>\n",
      "<td>Иванов</td>\n",
      "<td>Петр</td>\n",
      "<td>32</td>\n",
      "</tr>\n",
      "<tr>\n",
      "<td>Константинопольский</td>\n",
      "<td>Константин</td>\n",
      "<td>29</td>\n",
      "</tr>\n",
      "</table>, <table>\n",
      "<tr>\n",
      "<td>Тамбовцева</td>\n",
      "<td>Алла</td>\n",
      "<td>24</td>\n",
      "</tr>\n",
      "</table>]\n"
     ]
    }
   ],
   "source": [
    "tables = soup.find_all('table')\n",
    "print(tables)"
   ]
  },
  {
   "cell_type": "markdown",
   "metadata": {},
   "source": [
    "Получили на выходе список, который содержит все элементы, принадлежащие к тэгу. В этом примере таблиц у нас две, каждая из них является отдельным элементом списка."
   ]
  },
  {
   "cell_type": "code",
   "execution_count": 15,
   "metadata": {},
   "outputs": [
    {
     "data": {
      "text/plain": [
       "<table>\n",
       "<tr>\n",
       "<td>Тамбовцева</td>\n",
       "<td>Алла</td>\n",
       "<td>24</td>\n",
       "</tr>\n",
       "</table>"
      ]
     },
     "execution_count": 15,
     "metadata": {},
     "output_type": "execute_result"
    }
   ],
   "source": [
    "tables[1]"
   ]
  },
  {
   "cell_type": "markdown",
   "metadata": {},
   "source": [
    "Иногда таблиц очень много (уже скоро увидим такое на реальном примере), поэтому поисковый запрос можно уточнить с помощью аттрибутов тэга. Так, если посмотрим на код, увидим, что у нашей первой таблицы есть атрибут border со значением 1. Передадим это уточнение в bs в виде словаря. То, что до знака равно (атрибут) - ключ, а его значение - значение."
   ]
  },
  {
   "cell_type": "code",
   "execution_count": 18,
   "metadata": {},
   "outputs": [
    {
     "name": "stdout",
     "output_type": "stream",
     "text": [
      "[<table border=\"1\">\n",
      "<caption>Информация</caption>\n",
      "<tr>\n",
      "<th>Фамилия</th>\n",
      "<th>Имя</th>\n",
      "<th>Возраст</th>\n",
      "</tr>\n",
      "<tr>\n",
      "<td>Тамбовцева</td>\n",
      "<td>Алла</td>\n",
      "<td>24</td>\n",
      "</tr>\n",
      "<tr>\n",
      "<td>Иванов</td>\n",
      "<td>Петр</td>\n",
      "<td>32</td>\n",
      "</tr>\n",
      "<tr>\n",
      "<td>Константинопольский</td>\n",
      "<td>Константин</td>\n",
      "<td>29</td>\n",
      "</tr>\n",
      "</table>]\n"
     ]
    }
   ],
   "source": [
    "tables = soup.find_all('table', {'border':1}) # так поиск вернет только одну таблицу.\n",
    "print(tables)"
   ]
  },
  {
   "cell_type": "markdown",
   "metadata": {},
   "source": [
    "Давайте теперь, например, в один список сохраним фамилии людей из нашей таблицы, а в другой возраст."
   ]
  },
  {
   "cell_type": "code",
   "execution_count": 19,
   "metadata": {},
   "outputs": [
    {
     "name": "stdout",
     "output_type": "stream",
     "text": [
      "<tr>\n",
      "<th>Фамилия</th>\n",
      "<th>Имя</th>\n",
      "<th>Возраст</th>\n",
      "</tr>\n"
     ]
    }
   ],
   "source": [
    "rows = tables[0].find_all('tr') # нашли теперь все ряды в таблице\n",
    "print(rows[0])"
   ]
  },
  {
   "cell_type": "markdown",
   "metadata": {},
   "source": [
    "Нашли все ряды. Первый ряд с заголовками колонок (тэги th, можно его пропустить)."
   ]
  },
  {
   "cell_type": "code",
   "execution_count": 20,
   "metadata": {},
   "outputs": [
    {
     "data": {
      "text/plain": [
       "[<td>Тамбовцева</td>, <td>Алла</td>, <td>24</td>]"
      ]
     },
     "execution_count": 20,
     "metadata": {},
     "output_type": "execute_result"
    }
   ],
   "source": [
    "rows[1].find_all('td') "
   ]
  },
  {
   "cell_type": "markdown",
   "metadata": {},
   "source": [
    "Добрались до внутреннего тэга td - глубже идти некуда. Тут три элемента (три колонки). Давайте забирать отсюда возраст и фамилию."
   ]
  },
  {
   "cell_type": "code",
   "execution_count": 21,
   "metadata": {},
   "outputs": [
    {
     "data": {
      "text/plain": [
       "'Тамбовцева'"
      ]
     },
     "execution_count": 21,
     "metadata": {},
     "output_type": "execute_result"
    }
   ],
   "source": [
    "rows[1].find_all('td')[0].text.strip()"
   ]
  },
  {
   "cell_type": "markdown",
   "metadata": {},
   "source": [
    "Чтобы избавиться от тэгов используем атрибут text - выводит текст, который лежит между тэгами. Еще для надежности можно использовать strip() - удалит невидимые символы, если они есть, а если их нет, то ошибки тоже не выдаст."
   ]
  },
  {
   "cell_type": "code",
   "execution_count": 22,
   "metadata": {},
   "outputs": [
    {
     "name": "stdout",
     "output_type": "stream",
     "text": [
      "['Тамбовцева', 'Иванов', 'Константинопольский'] ['24', '32', '29']\n"
     ]
    }
   ],
   "source": [
    "surnames = []\n",
    "ages = []\n",
    "\n",
    "for row in rows[1:]: # начинаем цикл со второго объекта\n",
    "    surnames.append(row.find_all('td')[0].text.strip())\n",
    "    ages.append(row.find_all('td')[2].text.strip())\n",
    "    \n",
    "print(surnames, ages)"
   ]
  },
  {
   "cell_type": "markdown",
   "metadata": {},
   "source": [
    "А теперь давайте запишем собранную информацию в файл. Табличные данные часто хранятся в формате csv - comma separated values, поэтому будем просто записывать значения в текстовый файл через запятую."
   ]
  },
  {
   "cell_type": "code",
   "execution_count": 27,
   "metadata": {},
   "outputs": [],
   "source": [
    "with open('table.csv', 'w', encoding = 'utf8') as ouf:\n",
    "    for idx in range(len(surnames)):\n",
    "        print(f'{surnames[idx]},{ages[idx]}', file = ouf)"
   ]
  },
  {
   "cell_type": "code",
   "execution_count": 28,
   "metadata": {},
   "outputs": [
    {
     "name": "stdout",
     "output_type": "stream",
     "text": [
      "Тамбовцева,24\n",
      "\n",
      "Иванов,32\n",
      "\n",
      "Константинопольский,29\n",
      "\n"
     ]
    }
   ],
   "source": [
    "with open('table.csv', encoding='utf8') as f:\n",
    "    for line in f:\n",
    "        print(line)"
   ]
  },
  {
   "cell_type": "markdown",
   "metadata": {},
   "source": [
    "# А теперь парсим реальную табличку с wiki"
   ]
  },
  {
   "cell_type": "markdown",
   "metadata": {},
   "source": [
    "Будем работать со страницей вики, на которой находится информация о испытаниях ядерного оружия. \n",
    "https://en.wikipedia.org/wiki/List_of_nuclear_weapons_tests\n",
    "\n",
    "Нашей задачей будет достать вторую таблицу Worldwide nuclear test with a yield of 1.4 Mt TNT equivalent and more и сохранить из нее в три списка три колонки - Date, Yield (мощность взрыва) и Country."
   ]
  },
  {
   "cell_type": "code",
   "execution_count": 35,
   "metadata": {
    "colab": {
     "base_uri": "https://localhost:8080/",
     "height": 54
    },
    "colab_type": "code",
    "id": "x2WEjHmOKjEU",
    "outputId": "12930b62-1106-4505-c841-ff4660314201"
   },
   "outputs": [],
   "source": [
    "website_url = requests.get('https://en.wikipedia.org/wiki/List_of_nuclear_weapons_tests').text\n",
    "# print(website_url)"
   ]
  },
  {
   "cell_type": "code",
   "execution_count": 36,
   "metadata": {
    "colab": {
     "base_uri": "https://localhost:8080/",
     "height": 1000
    },
    "colab_type": "code",
    "id": "hRGbPlOgKjEZ",
    "outputId": "2aa7d599-9c1e-4b4f-9e20-dc9a30022fac"
   },
   "outputs": [],
   "source": [
    "from bs4 import BeautifulSoup\n",
    "\n",
    "soup = BeautifulSoup(website_url)\n",
    "\n",
    "# print(soup.prettify())"
   ]
  },
  {
   "cell_type": "markdown",
   "metadata": {},
   "source": [
    "Здесь таблиц уже будет много, и чтобы найти нужную уже точно понадобится атрибут."
   ]
  },
  {
   "cell_type": "code",
   "execution_count": 32,
   "metadata": {},
   "outputs": [
    {
     "data": {
      "text/plain": [
       "18"
      ]
     },
     "execution_count": 32,
     "metadata": {},
     "output_type": "execute_result"
    }
   ],
   "source": [
    "len(soup.find_all('table'))"
   ]
  },
  {
   "cell_type": "markdown",
   "metadata": {
    "colab_type": "text",
    "id": "KzzCs4YwKjEe"
   },
   "source": [
    "Если внимательно изучить код `HTML` искомой таблицы, то можно обнаружить что вся таблица находится в классе `Wikitable Sortable` (для включения отображения кода сайта в вашем браузере можно нажать правкой кнопкой мыши на таблицу и выбрать пункт *Исследовать элемент* или в любом месте страницы и *Показать исходный код*)."
   ]
  },
  {
   "cell_type": "markdown",
   "metadata": {
    "colab_type": "text",
    "id": "F6ggqHkBKjEg"
   },
   "source": [
    "Поэтому первой задачей будет найти класс *wikitable sortable* в коде `HTML`. Это можно сделать с помощью функции `find_all`, указав в качестве аргументов, что мы ищем тэг `table` с классом `wikitable sortable`."
   ]
  },
  {
   "cell_type": "code",
   "execution_count": 76,
   "metadata": {
    "colab": {
     "base_uri": "https://localhost:8080/",
     "height": 1000
    },
    "colab_type": "code",
    "id": "JxwjvVxxKjEh",
    "outputId": "de27b6e0-0669-411f-999c-5289774e175a"
   },
   "outputs": [
    {
     "data": {
      "text/plain": [
       "[<table class=\"wikitable sortable\" style=\"text-align:center; font-size:90%\">\n",
       " <caption>Worldwide nuclear testing totals by country\n",
       " </caption>\n",
       " <tbody><tr>\n",
       " <th style=\"text-align:left;\"><a href=\"/wiki/List_of_states_with_nuclear_weapons\" title=\"List of states with nuclear weapons\">Country</a>\n",
       " </th>\n",
       " <th><a href=\"/wiki/Nuclear_weapons_testing\" title=\"Nuclear weapons testing\">Tests</a> <sup class=\"reference\" id=\"cite_ref-5\"><a href=\"#cite_note-5\">[a]</a></sup>\n",
       " </th>\n",
       " <th><a href=\"/wiki/List_of_nuclear_weapons\" title=\"List of nuclear weapons\">Devices</a> fired <sup class=\"reference\" id=\"cite_ref-6\"><a href=\"#cite_note-6\">[b]</a></sup>\n",
       " </th>\n",
       " <th><a href=\"/wiki/List_of_nuclear_weapons\" title=\"List of nuclear weapons\">Devices</a> w/ <br/> unknown yields <sup class=\"reference\" id=\"cite_ref-7\"><a href=\"#cite_note-7\">[c]</a></sup>\n",
       " </th>\n",
       " <th><a class=\"mw-redirect\" href=\"/wiki/Peaceful_nuclear_explosions\" title=\"Peaceful nuclear explosions\">Peaceful use tests</a> <sup class=\"reference\" id=\"cite_ref-8\"><a href=\"#cite_note-8\">[d]</a></sup>\n",
       " </th>\n",
       " <th><a href=\"/wiki/Partial_Nuclear_Test_Ban_Treaty\" title=\"Partial Nuclear Test Ban Treaty\">Non-PTBT tests</a> <sup class=\"reference\" id=\"cite_ref-9\"><a href=\"#cite_note-9\">[e]</a></sup>\n",
       " </th>\n",
       " <th class=\"unsortable\"><a href=\"/wiki/Nuclear_weapon_yield\" title=\"Nuclear weapon yield\">Yield range</a> (kilotons)\n",
       " </th>\n",
       " <th><a href=\"/wiki/Nuclear_weapon_yield\" title=\"Nuclear weapon yield\">Total yield</a> (kilotons)\n",
       " </th>\n",
       " <th>Percentage by tests\n",
       " </th>\n",
       " <th>Percentage by yield\n",
       " </th></tr>\n",
       " <tr>\n",
       " <th style=\"text-align:left;\"><a class=\"mw-redirect\" href=\"/wiki/List_of_nuclear_weapons_tests_of_the_United_States\" title=\"List of nuclear weapons tests of the United States\">USA</a><sup class=\"reference\" id=\"cite_ref-Yang_2-1\"><a href=\"#cite_note-Yang-2\">[2]</a></sup><sup class=\"reference\" id=\"cite_ref-doe209_10-0\"><a href=\"#cite_note-doe209-10\">[5]</a></sup>\n",
       " </th>\n",
       " <td><span data-sort-value=\"1032 !\">1,032</span> <sup class=\"reference\" id=\"cite_ref-11\"><a href=\"#cite_note-11\">[f]</a></sup>\n",
       " </td>\n",
       " <td><span data-sort-value=\"1127 !\">1,132</span>\n",
       " </td>\n",
       " <td><span data-sort-value=\"0008 !\">12</span>\n",
       " </td>\n",
       " <td><span data-sort-value=\"0027 !\">27</span> <sup class=\"reference\" id=\"cite_ref-12\"><a href=\"#cite_note-12\">[g]</a></sup><br/><small>(<a class=\"mw-redirect\" href=\"/wiki/Operation_Plowshare\" title=\"Operation Plowshare\">Operation Plowshare</a>)</small>\n",
       " </td>\n",
       " <td><span data-sort-value=\"0214 !\">231</span>\n",
       " </td>\n",
       " <td>0 to 15,000\n",
       " </td>\n",
       " <td><span data-sort-value=\"196513 !\">196,514</span> <sup class=\"reference\" id=\"cite_ref-13\"><a href=\"#cite_note-13\">[h]</a></sup>\n",
       " </td>\n",
       " <td><span data-sort-value=\"4880000 !\">48.7%</span>\n",
       " </td>\n",
       " <td><span data-sort-value=\"3700000 !\">36.3%</span>\n",
       " </td></tr>\n",
       " <tr>\n",
       " <th style=\"text-align:left;\"><a href=\"/wiki/List_of_nuclear_weapons_tests_of_the_Soviet_Union\" title=\"List of nuclear weapons tests of the Soviet Union\">USSR</a><sup class=\"reference\" id=\"cite_ref-Yang_2-2\"><a href=\"#cite_note-Yang-2\">[2]</a></sup><sup class=\"reference\" id=\"cite_ref-USSRList2_14-0\"><a href=\"#cite_note-USSRList2-14\">[6]</a></sup>\n",
       " </th>\n",
       " <td><span data-sort-value=\"0727 !\">727</span> <sup class=\"reference\" id=\"cite_ref-16\"><a href=\"#cite_note-16\">[i]</a></sup>\n",
       " </td>\n",
       " <td><span data-sort-value=\"0980 !\">981</span>\n",
       " </td>\n",
       " <td><span data-sort-value=\"0248 !\">248</span>\n",
       " </td>\n",
       " <td><span data-sort-value=\"0156 !\">156</span> <sup class=\"reference\" id=\"cite_ref-17\"><a href=\"#cite_note-17\">[j]</a></sup><br/><small>(<a href=\"/wiki/Nuclear_Explosions_for_the_National_Economy\" title=\"Nuclear Explosions for the National Economy\">Nuclear Explosions for the National Economy</a>)</small>\n",
       " </td>\n",
       " <td><span data-sort-value=\"0229 !\">229</span>\n",
       " </td>\n",
       " <td>0 to 50,000\n",
       " </td>\n",
       " <td><span data-sort-value=\"296837 !\">296,837</span>\n",
       " </td>\n",
       " <td><span data-sort-value=\"34.40000 !\">34.4%</span>\n",
       " </td>\n",
       " <td><span data-sort-value=\"54.00000 !\">54.9%</span>\n",
       " </td></tr>\n",
       " <tr>\n",
       " <th style=\"text-align:left;\"><a class=\"mw-redirect\" href=\"/wiki/List_of_nuclear_weapons_tests_of_the_United_Kingdom\" title=\"List of nuclear weapons tests of the United Kingdom\">UK</a><sup class=\"reference\" id=\"cite_ref-Yang_2-3\"><a href=\"#cite_note-Yang-2\">[2]</a></sup>\n",
       " </th>\n",
       " <td><span data-sort-value=\"0088 !\">88</span> <sup class=\"reference\" id=\"cite_ref-18\"><a href=\"#cite_note-18\">[k]</a></sup>\n",
       " </td>\n",
       " <td><span data-sort-value=\"0088 !\">88</span>\n",
       " </td>\n",
       " <td><span data-sort-value=\"0031 !\">31</span>c\n",
       " </td>\n",
       " <td><span data-sort-value=\"0000 !\">0</span>\n",
       " </td>\n",
       " <td><span data-sort-value=\"0021 !\">21</span>\n",
       " </td>\n",
       " <td>0 to 3,000\n",
       " </td>\n",
       " <td><span data-sort-value=\"009282 !\">9,282</span>\n",
       " </td>\n",
       " <td><span data-sort-value=\"04.20000 !\">4.15%</span>\n",
       " </td>\n",
       " <td><span data-sort-value=\"01.80000 !\">1.72%</span>\n",
       " </td></tr>\n",
       " <tr>\n",
       " <th style=\"text-align:left;\"><a href=\"/wiki/List_of_nuclear_weapons_tests_of_France\" title=\"List of nuclear weapons tests of France\">France</a><sup class=\"reference\" id=\"cite_ref-Yang_2-4\"><a href=\"#cite_note-Yang-2\">[2]</a></sup>\n",
       " </th>\n",
       " <td><span data-sort-value=\"0217 !\">217</span> <sup class=\"reference\" id=\"cite_ref-20\"><a href=\"#cite_note-20\">[l]</a></sup>\n",
       " </td>\n",
       " <td><span data-sort-value=\"0217 !\">217</span>\n",
       " </td>\n",
       " <td><span data-sort-value=\"0000 !\">0</span>\n",
       " </td>\n",
       " <td><span data-sort-value=\"0004 !\">4</span> <sup class=\"reference\" id=\"cite_ref-21\"><a href=\"#cite_note-21\">[m]</a></sup>\n",
       " </td>\n",
       " <td><span data-sort-value=\"0057 !\">57</span>\n",
       " </td>\n",
       " <td>0 to 2,600\n",
       " </td>\n",
       " <td><span data-sort-value=\"013567 !\">13,567</span>\n",
       " </td>\n",
       " <td><span data-sort-value=\"10.00000 !\">10.2%</span>\n",
       " </td>\n",
       " <td><span data-sort-value=\"02.60000 !\">2.51%</span>\n",
       " </td></tr>\n",
       " <tr>\n",
       " <th style=\"text-align:left;\"><a href=\"/wiki/List_of_nuclear_weapons_tests_of_China\" title=\"List of nuclear weapons tests of China\">China</a><sup class=\"reference\" id=\"cite_ref-Yang_2-5\"><a href=\"#cite_note-Yang-2\">[2]</a></sup>\n",
       " </th>\n",
       " <td><span data-sort-value=\"0047 !\">47</span> <sup class=\"reference\" id=\"cite_ref-22\"><a href=\"#cite_note-22\">[n]</a></sup>\n",
       " </td>\n",
       " <td><span data-sort-value=\"0047 !\">48</span>\n",
       " </td>\n",
       " <td><span data-sort-value=\"0007 !\">7</span>\n",
       " </td>\n",
       " <td><span data-sort-value=\"0000 !\">0</span>\n",
       " </td>\n",
       " <td><span data-sort-value=\"0023 !\">23</span>\n",
       " </td>\n",
       " <td>0 to 4,000\n",
       " </td>\n",
       " <td><span data-sort-value=\"024409 !\">24,409</span>\n",
       " </td>\n",
       " <td><span data-sort-value=\"02.20000 !\">2.22%</span>\n",
       " </td>\n",
       " <td><span data-sort-value=\"04.60000 !\">4.51%</span>\n",
       " </td></tr>\n",
       " <tr>\n",
       " <th style=\"text-align:left;\"><a href=\"/wiki/List_of_nuclear_weapons_tests_of_India\" title=\"List of nuclear weapons tests of India\">India</a><sup class=\"reference\" id=\"cite_ref-Yang_2-6\"><a href=\"#cite_note-Yang-2\">[2]</a></sup>\n",
       " </th>\n",
       " <td><span data-sort-value=\"0004 !\">4</span>\n",
       " </td>\n",
       " <td><span data-sort-value=\"0006 !\">6</span>\n",
       " </td>\n",
       " <td><span data-sort-value=\"0000 !\">0</span>\n",
       " </td>\n",
       " <td><span data-sort-value=\"0001 !\">1</span> <sup class=\"reference\" id=\"cite_ref-23\"><a href=\"#cite_note-23\">[o]</a></sup>\n",
       " </td>\n",
       " <td><span data-sort-value=\"0000 !\">0</span>\n",
       " </td>\n",
       " <td>0 to 60\n",
       " </td>\n",
       " <td><span data-sort-value=\"000070 !\">70</span>\n",
       " </td>\n",
       " <td><span data-sort-value=\"00.14000 !\">0.141%</span>\n",
       " </td>\n",
       " <td><span data-sort-value=\"00.13000 !\">0.013%</span>\n",
       " </td></tr>\n",
       " <tr>\n",
       " <th style=\"text-align:left;\"><a href=\"/wiki/List_of_nuclear_weapons_tests_of_Pakistan\" title=\"List of nuclear weapons tests of Pakistan\">Pakistan</a><sup class=\"reference\" id=\"cite_ref-Yang_2-7\"><a href=\"#cite_note-Yang-2\">[2]</a></sup>\n",
       " </th>\n",
       " <td><span data-sort-value=\"0002 !\">2</span>\n",
       " </td>\n",
       " <td><span data-sort-value=\"0006 !\">6</span> <sup class=\"reference\" id=\"cite_ref-24\"><a href=\"#cite_note-24\">[p]</a></sup>\n",
       " </td>\n",
       " <td><span data-sort-value=\"0000 !\">0</span>\n",
       " </td>\n",
       " <td><span data-sort-value=\"0000 !\">0</span>\n",
       " </td>\n",
       " <td><span data-sort-value=\"0000 !\">0</span>\n",
       " </td>\n",
       " <td>1 to 32\n",
       " </td>\n",
       " <td><span data-sort-value=\"000051 !\">51</span>\n",
       " </td>\n",
       " <td><span data-sort-value=\"00.09500 !\">0.107%</span>\n",
       " </td>\n",
       " <td><span data-sort-value=\"00.00960 !\">0.0094%</span>\n",
       " </td></tr>\n",
       " <tr>\n",
       " <th style=\"text-align:left;\"><span class=\"nowrap\"><a href=\"/wiki/List_of_nuclear_weapons_tests_of_North_Korea\" title=\"List of nuclear weapons tests of North Korea\">North Korea</a><sup class=\"reference\" id=\"cite_ref-Yang_2-8\"><a href=\"#cite_note-Yang-2\">[2]</a></sup></span>\n",
       " </th>\n",
       " <td><span data-sort-value=\"0006 !\">6</span>\n",
       " </td>\n",
       " <td><span data-sort-value=\"0006 !\">6</span>\n",
       " </td>\n",
       " <td><span data-sort-value=\"0000 !\">0</span>\n",
       " </td>\n",
       " <td><span data-sort-value=\"0000 !\">0</span>\n",
       " </td>\n",
       " <td><span data-sort-value=\"0000 !\">0</span>\n",
       " </td>\n",
       " <td>1 to 250\n",
       " </td>\n",
       " <td><span data-sort-value=\"00197.8 !\">197.8</span>\n",
       " </td>\n",
       " <td><span data-sort-value=\"00.283 !\">0.283%</span>\n",
       " </td>\n",
       " <td><span data-sort-value=\"00.0244 !\">0.036%</span>\n",
       " </td></tr>\n",
       " <tr class=\"sortbottom\">\n",
       " <th>Total\n",
       " </th>\n",
       " <th>2,121\n",
       " </th>\n",
       " <th>2,476\n",
       " </th>\n",
       " <th>294\n",
       " </th>\n",
       " <th>188\n",
       " </th>\n",
       " <th>604\n",
       " </th>\n",
       " <th>0 to 50,000\n",
       " </th>\n",
       " <th>540,849\n",
       " </th>\n",
       " <th>\n",
       " </th>\n",
       " <th>\n",
       " </th></tr></tbody></table>,\n",
       " <table class=\"wikitable sortable\" style=\"text-align:center;\">\n",
       " <caption>Worldwide nuclear test with a yield of 1.4 Mt TNT equivalent and more\n",
       " </caption>\n",
       " <tbody><tr>\n",
       " <th>Date (GMT)\n",
       " </th>\n",
       " <th>Yield (megatons)\n",
       " </th>\n",
       " <th>Deployment\n",
       " </th>\n",
       " <th>Country\n",
       " </th>\n",
       " <th>Test Site\n",
       " </th>\n",
       " <th>Name or Number\n",
       " </th></tr>\n",
       " <tr>\n",
       " <td>October 30, 1961</td>\n",
       " <td>50</td>\n",
       " <td>parachute air drop</td>\n",
       " <td>Soviet Union</td>\n",
       " <td><a href=\"/wiki/Novaya_Zemlya\" title=\"Novaya Zemlya\">Novaya Zemlya</a></td>\n",
       " <td><a href=\"/wiki/Tsar_Bomba\" title=\"Tsar Bomba\">Tsar Bomba</a>, Test #130\n",
       " </td></tr>\n",
       " <tr>\n",
       " <td>December 24, 1962</td>\n",
       " <td>24.2</td>\n",
       " <td>missile warhead</td>\n",
       " <td>Soviet Union</td>\n",
       " <td>Novaya Zemlya</td>\n",
       " <td><a href=\"/wiki/Test_219\" title=\"Test 219\">Test #219</a>\n",
       " </td></tr>\n",
       " <tr>\n",
       " <td>August 5, 1962</td>\n",
       " <td>21.1</td>\n",
       " <td>air drop</td>\n",
       " <td>Soviet Union</td>\n",
       " <td>Novaya Zemlya</td>\n",
       " <td>Test #147\n",
       " </td></tr>\n",
       " <tr>\n",
       " <td>September 27, 1962</td>\n",
       " <td>20.0</td>\n",
       " <td>air drop</td>\n",
       " <td>Soviet Union</td>\n",
       " <td>Novaya Zemlya</td>\n",
       " <td>Test #174\n",
       " </td></tr>\n",
       " <tr>\n",
       " <td>September 25, 1962</td>\n",
       " <td>19.1</td>\n",
       " <td>air drop</td>\n",
       " <td>Soviet Union</td>\n",
       " <td>Novaya Zemlya</td>\n",
       " <td>Test #173\n",
       " </td></tr>\n",
       " <tr>\n",
       " <td>March 1, 1954</td>\n",
       " <td>15</td>\n",
       " <td>ground</td>\n",
       " <td>USA</td>\n",
       " <td><a href=\"/wiki/Bikini_Atoll\" title=\"Bikini Atoll\">Bikini Atoll</a></td>\n",
       " <td><a href=\"/wiki/Castle_Bravo\" title=\"Castle Bravo\">Castle Bravo</a>\n",
       " </td></tr>\n",
       " <tr>\n",
       " <td>May 5, 1954</td>\n",
       " <td>13.5</td>\n",
       " <td>barge</td>\n",
       " <td>USA</td>\n",
       " <td>Bikini Atoll</td>\n",
       " <td><a href=\"/wiki/Castle_Yankee\" title=\"Castle Yankee\">Castle Yankee</a>\n",
       " </td></tr>\n",
       " <tr>\n",
       " <td>October 23, 1961</td>\n",
       " <td>12.5</td>\n",
       " <td>air drop</td>\n",
       " <td>Soviet Union</td>\n",
       " <td>Novaya Zemlya</td>\n",
       " <td>Test #123\n",
       " </td></tr>\n",
       " <tr>\n",
       " <td>March 26, 1954</td>\n",
       " <td>11.0</td>\n",
       " <td>barge</td>\n",
       " <td>USA</td>\n",
       " <td>Bikini Atoll</td>\n",
       " <td><a href=\"/wiki/Castle_Romeo\" title=\"Castle Romeo\">Castle Romeo</a>\n",
       " </td></tr>\n",
       " <tr>\n",
       " <td>October 31, 1952</td>\n",
       " <td>10.4</td>\n",
       " <td>ground</td>\n",
       " <td>USA</td>\n",
       " <td><a href=\"/wiki/Enewetak_Atoll\" title=\"Enewetak Atoll\">Enewetak Atoll</a></td>\n",
       " <td><a href=\"/wiki/Ivy_Mike\" title=\"Ivy Mike\">Ivy Mike</a>\n",
       " </td></tr>\n",
       " <tr>\n",
       " <td>August 25, 1962</td>\n",
       " <td>10.0</td>\n",
       " <td>air drop</td>\n",
       " <td>Soviet Union</td>\n",
       " <td>Novaya Zemlya</td>\n",
       " <td>Test #158\n",
       " </td></tr>\n",
       " <tr>\n",
       " <td>September 19, 1962</td>\n",
       " <td>10.0</td>\n",
       " <td>air drop</td>\n",
       " <td>Soviet Union</td>\n",
       " <td>Novaya Zemlya</td>\n",
       " <td>Test #168\n",
       " </td></tr>\n",
       " <tr>\n",
       " <td>July 11, 1958</td>\n",
       " <td>9.3</td>\n",
       " <td>barge</td>\n",
       " <td>USA</td>\n",
       " <td>Bikini Atoll</td>\n",
       " <td>Poplar\n",
       " </td></tr>\n",
       " <tr>\n",
       " <td>June 28, 1958</td>\n",
       " <td>8.9</td>\n",
       " <td>barge</td>\n",
       " <td>USA</td>\n",
       " <td>Enewetak Atoll</td>\n",
       " <td>Oak\n",
       " </td></tr>\n",
       " <tr>\n",
       " <td>October 30, 1962</td>\n",
       " <td>8.3</td>\n",
       " <td>air drop</td>\n",
       " <td>USA</td>\n",
       " <td><a href=\"/wiki/Johnston_Atoll\" title=\"Johnston Atoll\">Johnston Atoll</a></td>\n",
       " <td>Housatonic\n",
       " </td></tr>\n",
       " <tr>\n",
       " <td>October 22, 1962</td>\n",
       " <td>8.2</td>\n",
       " <td>air drop</td>\n",
       " <td>Soviet Union</td>\n",
       " <td>Novaya Zemlya</td>\n",
       " <td>Test #183\n",
       " </td></tr>\n",
       " <tr>\n",
       " <td>June 27, 1962</td>\n",
       " <td>7.7</td>\n",
       " <td>air drop</td>\n",
       " <td>USA</td>\n",
       " <td><a href=\"/wiki/Kiritimati\" title=\"Kiritimati\">Kiritimati</a></td>\n",
       " <td>Bighorn\n",
       " </td></tr>\n",
       " <tr>\n",
       " <td>April 25, 1954</td>\n",
       " <td>6.9</td>\n",
       " <td>barge</td>\n",
       " <td>USA</td>\n",
       " <td>Bikini Atoll</td>\n",
       " <td><a href=\"/wiki/Castle_Union\" title=\"Castle Union\">Castle Union</a>\n",
       " </td></tr>\n",
       " <tr>\n",
       " <td>July 20, 1956</td>\n",
       " <td>5.0</td>\n",
       " <td>barge</td>\n",
       " <td>USA</td>\n",
       " <td>Bikini Atoll</td>\n",
       " <td>Tewa\n",
       " </td></tr>\n",
       " <tr>\n",
       " <td>October 31, 1961</td>\n",
       " <td>5.0</td>\n",
       " <td>air drop</td>\n",
       " <td>Soviet Union</td>\n",
       " <td>Novaya Zemlya</td>\n",
       " <td>Test #131\n",
       " </td></tr>\n",
       " <tr>\n",
       " <td>November 6, 1971</td>\n",
       " <td>4.8</td>\n",
       " <td>underground shaft</td>\n",
       " <td>USA</td>\n",
       " <td><a href=\"/wiki/Amchitka\" title=\"Amchitka\">Amchitka</a></td>\n",
       " <td><a href=\"/wiki/Cannikin\" title=\"Cannikin\">Cannikin</a>\n",
       " </td></tr>\n",
       " <tr>\n",
       " <td>July 10, 1956</td>\n",
       " <td>4.5</td>\n",
       " <td>barge</td>\n",
       " <td>USA</td>\n",
       " <td>Bikini Atoll</td>\n",
       " <td>Navajo\n",
       " </td></tr>\n",
       " <tr>\n",
       " <td>August 27, 1962</td>\n",
       " <td>4.2</td>\n",
       " <td>air drop</td>\n",
       " <td>Soviet Union</td>\n",
       " <td>Novaya Zemlya</td>\n",
       " <td>Test #160\n",
       " </td></tr>\n",
       " <tr>\n",
       " <td>October 6, 1961</td>\n",
       " <td>4.0</td>\n",
       " <td>air drop</td>\n",
       " <td>Soviet Union</td>\n",
       " <td>Novaya Zemlya</td>\n",
       " <td>Test #114\n",
       " </td></tr>\n",
       " <tr>\n",
       " <td>October 27, 1973</td>\n",
       " <td>4.0</td>\n",
       " <td>underground shaft</td>\n",
       " <td>Soviet Union</td>\n",
       " <td>Novaya Zemlya</td>\n",
       " <td>Test #392\n",
       " </td></tr>\n",
       " <tr>\n",
       " <td>November 17, 1976</td>\n",
       " <td>4.0</td>\n",
       " <td>air drop</td>\n",
       " <td>China</td>\n",
       " <td><a href=\"/wiki/Lop_Nur\" title=\"Lop Nur\">Lop Nur</a></td>\n",
       " <td>Test (21)\n",
       " </td></tr>\n",
       " <tr>\n",
       " <td>July 11, 1962</td>\n",
       " <td>3.9</td>\n",
       " <td>parachuted</td>\n",
       " <td>USA</td>\n",
       " <td>Kiritimati</td>\n",
       " <td>Pamlico\n",
       " </td></tr>\n",
       " <tr>\n",
       " <td>May 20, 1956</td>\n",
       " <td>3.8</td>\n",
       " <td>free air drop</td>\n",
       " <td>USA</td>\n",
       " <td>Bikini Atoll</td>\n",
       " <td>Cherokee\n",
       " </td></tr>\n",
       " <tr>\n",
       " <td>August 1, 1958</td>\n",
       " <td>3.8</td>\n",
       " <td>high alt rocket</td>\n",
       " <td>USA</td>\n",
       " <td>Johnston Atoll</td>\n",
       " <td><a href=\"/wiki/Hardtack_Teak\" title=\"Hardtack Teak\">Teak</a>\n",
       " </td></tr>\n",
       " <tr>\n",
       " <td>August 12, 1958</td>\n",
       " <td>3.8</td>\n",
       " <td>high alt rocket</td>\n",
       " <td>USA</td>\n",
       " <td>Johnston Atoll</td>\n",
       " <td>Orange\n",
       " </td></tr>\n",
       " <tr>\n",
       " <td>September 12, 1973</td>\n",
       " <td>3.8</td>\n",
       " <td>tunnel</td>\n",
       " <td>Soviet Union</td>\n",
       " <td>Novaya Zemlya</td>\n",
       " <td>Test #385 - 1\n",
       " </td></tr>\n",
       " <tr>\n",
       " <td>May 27, 1956</td>\n",
       " <td>3.5</td>\n",
       " <td>dry surface</td>\n",
       " <td>USA</td>\n",
       " <td>Bikini Atoll</td>\n",
       " <td>Zuni\n",
       " </td></tr>\n",
       " <tr>\n",
       " <td>October 14, 1970</td>\n",
       " <td>3.4</td>\n",
       " <td>air drop</td>\n",
       " <td>China</td>\n",
       " <td>Lop Nur</td>\n",
       " <td>CHIC-11\n",
       " </td></tr>\n",
       " <tr>\n",
       " <td>September 16, 1962</td>\n",
       " <td>3.3</td>\n",
       " <td>air drop</td>\n",
       " <td>Soviet Union</td>\n",
       " <td>Novaya Zemlya</td>\n",
       " <td>Test #166\n",
       " </td></tr>\n",
       " <tr>\n",
       " <td>June 17, 1967</td>\n",
       " <td>3.3</td>\n",
       " <td>parachuted</td>\n",
       " <td>China</td>\n",
       " <td>Lop Nur</td>\n",
       " <td><a href=\"/wiki/Test_No._6\" title=\"Test No. 6\">CHIC-6</a>\n",
       " </td></tr>\n",
       " <tr>\n",
       " <td>September 15, 1962</td>\n",
       " <td>3.1</td>\n",
       " <td>air drop</td>\n",
       " <td>Soviet Union</td>\n",
       " <td>Novaya Zemlya</td>\n",
       " <td>Test #165\n",
       " </td></tr>\n",
       " <tr>\n",
       " <td>December 25, 1962</td>\n",
       " <td>3.1</td>\n",
       " <td>air drop</td>\n",
       " <td>Soviet Union</td>\n",
       " <td>Novaya Zemlya</td>\n",
       " <td>Test #220\n",
       " </td></tr>\n",
       " <tr>\n",
       " <td>April 28, 1958</td>\n",
       " <td>3.0</td>\n",
       " <td>air drop</td>\n",
       " <td>UK</td>\n",
       " <td>Kiritimati</td>\n",
       " <td>Grapple Y\n",
       " </td></tr>\n",
       " <tr>\n",
       " <td>October 4, 1961</td>\n",
       " <td>3.0</td>\n",
       " <td>air drop</td>\n",
       " <td>Soviet Union</td>\n",
       " <td>Novaya Zemlya</td>\n",
       " <td>Test #113\n",
       " </td></tr>\n",
       " <tr>\n",
       " <td>June 10, 1962</td>\n",
       " <td>3.0</td>\n",
       " <td>free air drop</td>\n",
       " <td>USA</td>\n",
       " <td>Kiritimati</td>\n",
       " <td>Yeso\n",
       " </td></tr>\n",
       " <tr>\n",
       " <td>December 27, 1968</td>\n",
       " <td>3.0</td>\n",
       " <td>air drop</td>\n",
       " <td>China</td>\n",
       " <td>Lop Nur</td>\n",
       " <td>CHIC-8\n",
       " </td></tr>\n",
       " <tr>\n",
       " <td>September 29, 1969</td>\n",
       " <td>3.0</td>\n",
       " <td>air drop</td>\n",
       " <td>China</td>\n",
       " <td>Lop Nur</td>\n",
       " <td>CHIC-10\n",
       " </td></tr>\n",
       " <tr>\n",
       " <td>June 27, 1973</td>\n",
       " <td>3.0</td>\n",
       " <td>air drop</td>\n",
       " <td>China</td>\n",
       " <td>Lop Nur</td>\n",
       " <td>Test (15)\n",
       " </td></tr>\n",
       " <tr>\n",
       " <td>October 6, 1957</td>\n",
       " <td>2.9</td>\n",
       " <td>air drop</td>\n",
       " <td>Soviet Union</td>\n",
       " <td>Novaya Zemlya</td>\n",
       " <td>Test #47\n",
       " </td></tr>\n",
       " <tr>\n",
       " <td>October 18, 1958</td>\n",
       " <td>2.9</td>\n",
       " <td>air drop</td>\n",
       " <td>Soviet Union</td>\n",
       " <td>Novaya Zemlya</td>\n",
       " <td>Test #73\n",
       " </td></tr>\n",
       " <tr>\n",
       " <td>October 22, 1958</td>\n",
       " <td>2.8</td>\n",
       " <td>air drop</td>\n",
       " <td>Soviet Union</td>\n",
       " <td>Novaya Zemlya</td>\n",
       " <td>Test #78\n",
       " </td></tr>\n",
       " <tr>\n",
       " <td>August 20, 1962</td>\n",
       " <td>2.8</td>\n",
       " <td>air drop</td>\n",
       " <td>Soviet Union</td>\n",
       " <td>Novaya Zemlya</td>\n",
       " <td>Test #152\n",
       " </td></tr>\n",
       " <tr>\n",
       " <td>September 10, 1961</td>\n",
       " <td>2.7</td>\n",
       " <td>air drop</td>\n",
       " <td>Soviet Union</td>\n",
       " <td>Novaya Zemlya</td>\n",
       " <td>90 Vozduj\n",
       " </td></tr>\n",
       " <tr>\n",
       " <td>August 24, 1968</td>\n",
       " <td>2.6</td>\n",
       " <td>balloon</td>\n",
       " <td>France</td>\n",
       " <td><a href=\"/wiki/Fangataufa\" title=\"Fangataufa\">Fangataufa</a></td>\n",
       " <td><a href=\"/wiki/Canopus_(nuclear_test)\" title=\"Canopus (nuclear test)\">Canopus</a>\n",
       " </td></tr>\n",
       " <tr>\n",
       " <td>September 27, 1971</td>\n",
       " <td>2.5</td>\n",
       " <td>tunnel</td>\n",
       " <td>Soviet Union</td>\n",
       " <td>Novaya Zemlya</td>\n",
       " <td>Test #345 - 1\n",
       " </td></tr>\n",
       " <tr>\n",
       " <td>September 21, 1962</td>\n",
       " <td>2.4</td>\n",
       " <td>air drop</td>\n",
       " <td>Soviet Union</td>\n",
       " <td>Novaya Zemlya</td>\n",
       " <td>Test #169\n",
       " </td></tr>\n",
       " <tr>\n",
       " <td>November 2, 1974</td>\n",
       " <td>2.3</td>\n",
       " <td>underground shaft</td>\n",
       " <td>Soviet Union</td>\n",
       " <td>Novaya Zemlya</td>\n",
       " <td>Test #411\n",
       " </td></tr>\n",
       " <tr>\n",
       " <td>October 14, 1970</td>\n",
       " <td>2.2</td>\n",
       " <td>tunnel</td>\n",
       " <td>Soviet Union</td>\n",
       " <td>Novaya Zemlya</td>\n",
       " <td>Test #327 - 1\n",
       " </td></tr>\n",
       " <tr>\n",
       " <td>July 26, 1958</td>\n",
       " <td>2.0</td>\n",
       " <td>barge</td>\n",
       " <td>USA</td>\n",
       " <td>Enewetak Atoll</td>\n",
       " <td>Pine\n",
       " </td></tr>\n",
       " <tr>\n",
       " <td>July 8, 1956</td>\n",
       " <td>1.9</td>\n",
       " <td>barge</td>\n",
       " <td>USA</td>\n",
       " <td>Enewetak Atoll</td>\n",
       " <td>Apache\n",
       " </td></tr>\n",
       " <tr>\n",
       " <td>September 8, 1962</td>\n",
       " <td>1.9</td>\n",
       " <td>high alt rocket</td>\n",
       " <td>Soviet Union</td>\n",
       " <td>Novaya Zemlya</td>\n",
       " <td>164 Tyulpan\n",
       " </td></tr>\n",
       " <tr>\n",
       " <td>March 26, 1970</td>\n",
       " <td>1.9</td>\n",
       " <td>underground shaft</td>\n",
       " <td>USA</td>\n",
       " <td><a href=\"/wiki/Nevada_Test_Site\" title=\"Nevada Test Site\">Nevada</a></td>\n",
       " <td>Handley\n",
       " </td></tr>\n",
       " <tr>\n",
       " <td>November 8, 1957</td>\n",
       " <td>1.8</td>\n",
       " <td>air drop</td>\n",
       " <td>UK</td>\n",
       " <td>Kiritimati</td>\n",
       " <td>Grapple X\n",
       " </td></tr>\n",
       " <tr>\n",
       " <td>May 13, 1954</td>\n",
       " <td>1.7</td>\n",
       " <td>barge</td>\n",
       " <td>USA</td>\n",
       " <td>Enewetak Atoll</td>\n",
       " <td>Nectar\n",
       " </td></tr>\n",
       " <tr>\n",
       " <td>November 22, 1955</td>\n",
       " <td>1.6</td>\n",
       " <td>air drop</td>\n",
       " <td>Soviet Union</td>\n",
       " <td><a href=\"/wiki/Semey\" title=\"Semey\">Semipalatinsk</a></td>\n",
       " <td>24 Binarnaya\n",
       " </td></tr>\n",
       " <tr>\n",
       " <td>September 24, 1957</td>\n",
       " <td>1.6</td>\n",
       " <td>air drop</td>\n",
       " <td>Soviet Union</td>\n",
       " <td>Novaya Zemlya</td>\n",
       " <td>Test #45\n",
       " </td></tr>\n",
       " <tr>\n",
       " <td>August 22, 1962</td>\n",
       " <td>1.6</td>\n",
       " <td>air drop</td>\n",
       " <td>Soviet Union</td>\n",
       " <td>Novaya Zemlya</td>\n",
       " <td>Test #154\n",
       " </td></tr>\n",
       " <tr>\n",
       " <td>October 18, 1962</td>\n",
       " <td>1.6</td>\n",
       " <td>parachuted</td>\n",
       " <td>USA</td>\n",
       " <td>Johnston Atoll</td>\n",
       " <td>Chama\n",
       " </td></tr>\n",
       " <tr>\n",
       " <td>February 27, 1958</td>\n",
       " <td>1.5</td>\n",
       " <td>air drop</td>\n",
       " <td>Soviet Union</td>\n",
       " <td>Novaya Zemlya</td>\n",
       " <td>Test #54\n",
       " </td></tr>\n",
       " <tr>\n",
       " <td>June 14, 1958</td>\n",
       " <td>1.5</td>\n",
       " <td>barge</td>\n",
       " <td>USA</td>\n",
       " <td>Enewetak Atoll</td>\n",
       " <td>Walnut\n",
       " </td></tr>\n",
       " <tr>\n",
       " <td>October 12, 1958</td>\n",
       " <td>1.5</td>\n",
       " <td>air drop</td>\n",
       " <td>Soviet Union</td>\n",
       " <td>Novaya Zemlya</td>\n",
       " <td>Test #71\n",
       " </td></tr>\n",
       " <tr>\n",
       " <td>October 15, 1958</td>\n",
       " <td>1.5</td>\n",
       " <td>air drop</td>\n",
       " <td>Soviet Union</td>\n",
       " <td>Novaya Zemlya</td>\n",
       " <td>Test #72\n",
       " </td></tr>\n",
       " <tr>\n",
       " <td>September 20, 1961</td>\n",
       " <td>1.5</td>\n",
       " <td>high alt rocket</td>\n",
       " <td>Soviet Union</td>\n",
       " <td>Novaya Zemlya</td>\n",
       " <td>106 Volga1\n",
       " </td></tr>\n",
       " <tr>\n",
       " <td>October 20, 1961</td>\n",
       " <td>1.5</td>\n",
       " <td>high alt rocket</td>\n",
       " <td>Soviet Union</td>\n",
       " <td>Novaya Zemlya</td>\n",
       " <td><a href=\"/wiki/Raduga_(nuclear_test)\" title=\"Raduga (nuclear test)\">121 Raduga</a>\n",
       " </td></tr>\n",
       " <tr>\n",
       " <td>November 4, 1961</td>\n",
       " <td>1.5</td>\n",
       " <td>air drop</td>\n",
       " <td>Soviet Union</td>\n",
       " <td>Novaya Zemlya</td>\n",
       " <td>Test #140\n",
       " </td></tr>\n",
       " <tr>\n",
       " <td>May 11, 1958</td>\n",
       " <td>1.4</td>\n",
       " <td>barge</td>\n",
       " <td>USA</td>\n",
       " <td>Bikini Atoll</td>\n",
       " <td>Fir\n",
       " </td></tr>\n",
       " <tr>\n",
       " <td>May 12, 1958</td>\n",
       " <td>1.4</td>\n",
       " <td>dry surface</td>\n",
       " <td>USA</td>\n",
       " <td>Enewetak Atoll</td>\n",
       " <td>Koa\n",
       " </td></tr>\n",
       " <tr>\n",
       " <td>July 9, 1962</td>\n",
       " <td>1.4</td>\n",
       " <td>space rocket</td>\n",
       " <td>USA</td>\n",
       " <td>Johnston Atoll</td>\n",
       " <td><a href=\"/wiki/Starfish_Prime\" title=\"Starfish Prime\">Starfish Prime</a>\n",
       " </td></tr>\n",
       " <tr>\n",
       " <td>September 18, 1962</td>\n",
       " <td>1.4</td>\n",
       " <td>air drop</td>\n",
       " <td>Soviet Union</td>\n",
       " <td>Novaya Zemlya</td>\n",
       " <td>Test #167\n",
       " </td></tr></tbody></table>]"
      ]
     },
     "execution_count": 76,
     "metadata": {},
     "output_type": "execute_result"
    }
   ],
   "source": [
    "My_table = soup.find_all('table',{'class':['wikitable', 'sortable', 'jquery-tablesorter']})\n",
    "My_table"
   ]
  },
  {
   "cell_type": "markdown",
   "metadata": {
    "colab_type": "text",
    "id": "nQZZEFpUKjEn"
   },
   "source": [
    "Но как вы могли заметить, то на страницы есть две таблицы, которые принадлежат этому классу. Функция `find_all` вернет все найденные объекты в виде списка. Поэтому проверим второй найденный элемент."
   ]
  },
  {
   "cell_type": "code",
   "execution_count": 43,
   "metadata": {
    "colab": {
     "base_uri": "https://localhost:8080/",
     "height": 1000
    },
    "colab_type": "code",
    "id": "p3SqtX1DKjEp",
    "outputId": "e12724cd-15d1-4df1-82db-1c59c0cfd688"
   },
   "outputs": [
    {
     "data": {
      "text/plain": [
       "<table class=\"wikitable sortable\" style=\"text-align:center;\">\n",
       "<caption>Worldwide nuclear test with a yield of 1.4 Mt TNT equivalent and more\n",
       "</caption>\n",
       "<tbody><tr>\n",
       "<th>Date (GMT)\n",
       "</th>\n",
       "<th>Yield (megatons)\n",
       "</th>\n",
       "<th>Deployment\n",
       "</th>\n",
       "<th>Country\n",
       "</th>\n",
       "<th>Test Site\n",
       "</th>\n",
       "<th>Name or Number\n",
       "</th></tr>\n",
       "<tr>\n",
       "<td>October 30, 1961</td>\n",
       "<td>50</td>\n",
       "<td>parachute air drop</td>\n",
       "<td>Soviet Union</td>\n",
       "<td><a href=\"/wiki/Novaya_Zemlya\" title=\"Novaya Zemlya\">Novaya Zemlya</a></td>\n",
       "<td><a href=\"/wiki/Tsar_Bomba\" title=\"Tsar Bomba\">Tsar Bomba</a>, Test #130\n",
       "</td></tr>\n",
       "<tr>\n",
       "<td>December 24, 1962</td>\n",
       "<td>24.2</td>\n",
       "<td>missile warhead</td>\n",
       "<td>Soviet Union</td>\n",
       "<td>Novaya Zemlya</td>\n",
       "<td><a href=\"/wiki/Test_219\" title=\"Test 219\">Test #219</a>\n",
       "</td></tr>\n",
       "<tr>\n",
       "<td>August 5, 1962</td>\n",
       "<td>21.1</td>\n",
       "<td>air drop</td>\n",
       "<td>Soviet Union</td>\n",
       "<td>Novaya Zemlya</td>\n",
       "<td>Test #147\n",
       "</td></tr>\n",
       "<tr>\n",
       "<td>September 27, 1962</td>\n",
       "<td>20.0</td>\n",
       "<td>air drop</td>\n",
       "<td>Soviet Union</td>\n",
       "<td>Novaya Zemlya</td>\n",
       "<td>Test #174\n",
       "</td></tr>\n",
       "<tr>\n",
       "<td>September 25, 1962</td>\n",
       "<td>19.1</td>\n",
       "<td>air drop</td>\n",
       "<td>Soviet Union</td>\n",
       "<td>Novaya Zemlya</td>\n",
       "<td>Test #173\n",
       "</td></tr>\n",
       "<tr>\n",
       "<td>March 1, 1954</td>\n",
       "<td>15</td>\n",
       "<td>ground</td>\n",
       "<td>USA</td>\n",
       "<td><a href=\"/wiki/Bikini_Atoll\" title=\"Bikini Atoll\">Bikini Atoll</a></td>\n",
       "<td><a href=\"/wiki/Castle_Bravo\" title=\"Castle Bravo\">Castle Bravo</a>\n",
       "</td></tr>\n",
       "<tr>\n",
       "<td>May 5, 1954</td>\n",
       "<td>13.5</td>\n",
       "<td>barge</td>\n",
       "<td>USA</td>\n",
       "<td>Bikini Atoll</td>\n",
       "<td><a href=\"/wiki/Castle_Yankee\" title=\"Castle Yankee\">Castle Yankee</a>\n",
       "</td></tr>\n",
       "<tr>\n",
       "<td>October 23, 1961</td>\n",
       "<td>12.5</td>\n",
       "<td>air drop</td>\n",
       "<td>Soviet Union</td>\n",
       "<td>Novaya Zemlya</td>\n",
       "<td>Test #123\n",
       "</td></tr>\n",
       "<tr>\n",
       "<td>March 26, 1954</td>\n",
       "<td>11.0</td>\n",
       "<td>barge</td>\n",
       "<td>USA</td>\n",
       "<td>Bikini Atoll</td>\n",
       "<td><a href=\"/wiki/Castle_Romeo\" title=\"Castle Romeo\">Castle Romeo</a>\n",
       "</td></tr>\n",
       "<tr>\n",
       "<td>October 31, 1952</td>\n",
       "<td>10.4</td>\n",
       "<td>ground</td>\n",
       "<td>USA</td>\n",
       "<td><a href=\"/wiki/Enewetak_Atoll\" title=\"Enewetak Atoll\">Enewetak Atoll</a></td>\n",
       "<td><a href=\"/wiki/Ivy_Mike\" title=\"Ivy Mike\">Ivy Mike</a>\n",
       "</td></tr>\n",
       "<tr>\n",
       "<td>August 25, 1962</td>\n",
       "<td>10.0</td>\n",
       "<td>air drop</td>\n",
       "<td>Soviet Union</td>\n",
       "<td>Novaya Zemlya</td>\n",
       "<td>Test #158\n",
       "</td></tr>\n",
       "<tr>\n",
       "<td>September 19, 1962</td>\n",
       "<td>10.0</td>\n",
       "<td>air drop</td>\n",
       "<td>Soviet Union</td>\n",
       "<td>Novaya Zemlya</td>\n",
       "<td>Test #168\n",
       "</td></tr>\n",
       "<tr>\n",
       "<td>July 11, 1958</td>\n",
       "<td>9.3</td>\n",
       "<td>barge</td>\n",
       "<td>USA</td>\n",
       "<td>Bikini Atoll</td>\n",
       "<td>Poplar\n",
       "</td></tr>\n",
       "<tr>\n",
       "<td>June 28, 1958</td>\n",
       "<td>8.9</td>\n",
       "<td>barge</td>\n",
       "<td>USA</td>\n",
       "<td>Enewetak Atoll</td>\n",
       "<td>Oak\n",
       "</td></tr>\n",
       "<tr>\n",
       "<td>October 30, 1962</td>\n",
       "<td>8.3</td>\n",
       "<td>air drop</td>\n",
       "<td>USA</td>\n",
       "<td><a href=\"/wiki/Johnston_Atoll\" title=\"Johnston Atoll\">Johnston Atoll</a></td>\n",
       "<td>Housatonic\n",
       "</td></tr>\n",
       "<tr>\n",
       "<td>October 22, 1962</td>\n",
       "<td>8.2</td>\n",
       "<td>air drop</td>\n",
       "<td>Soviet Union</td>\n",
       "<td>Novaya Zemlya</td>\n",
       "<td>Test #183\n",
       "</td></tr>\n",
       "<tr>\n",
       "<td>June 27, 1962</td>\n",
       "<td>7.7</td>\n",
       "<td>air drop</td>\n",
       "<td>USA</td>\n",
       "<td><a href=\"/wiki/Kiritimati\" title=\"Kiritimati\">Kiritimati</a></td>\n",
       "<td>Bighorn\n",
       "</td></tr>\n",
       "<tr>\n",
       "<td>April 25, 1954</td>\n",
       "<td>6.9</td>\n",
       "<td>barge</td>\n",
       "<td>USA</td>\n",
       "<td>Bikini Atoll</td>\n",
       "<td><a href=\"/wiki/Castle_Union\" title=\"Castle Union\">Castle Union</a>\n",
       "</td></tr>\n",
       "<tr>\n",
       "<td>July 20, 1956</td>\n",
       "<td>5.0</td>\n",
       "<td>barge</td>\n",
       "<td>USA</td>\n",
       "<td>Bikini Atoll</td>\n",
       "<td>Tewa\n",
       "</td></tr>\n",
       "<tr>\n",
       "<td>October 31, 1961</td>\n",
       "<td>5.0</td>\n",
       "<td>air drop</td>\n",
       "<td>Soviet Union</td>\n",
       "<td>Novaya Zemlya</td>\n",
       "<td>Test #131\n",
       "</td></tr>\n",
       "<tr>\n",
       "<td>November 6, 1971</td>\n",
       "<td>4.8</td>\n",
       "<td>underground shaft</td>\n",
       "<td>USA</td>\n",
       "<td><a href=\"/wiki/Amchitka\" title=\"Amchitka\">Amchitka</a></td>\n",
       "<td><a href=\"/wiki/Cannikin\" title=\"Cannikin\">Cannikin</a>\n",
       "</td></tr>\n",
       "<tr>\n",
       "<td>July 10, 1956</td>\n",
       "<td>4.5</td>\n",
       "<td>barge</td>\n",
       "<td>USA</td>\n",
       "<td>Bikini Atoll</td>\n",
       "<td>Navajo\n",
       "</td></tr>\n",
       "<tr>\n",
       "<td>August 27, 1962</td>\n",
       "<td>4.2</td>\n",
       "<td>air drop</td>\n",
       "<td>Soviet Union</td>\n",
       "<td>Novaya Zemlya</td>\n",
       "<td>Test #160\n",
       "</td></tr>\n",
       "<tr>\n",
       "<td>October 6, 1961</td>\n",
       "<td>4.0</td>\n",
       "<td>air drop</td>\n",
       "<td>Soviet Union</td>\n",
       "<td>Novaya Zemlya</td>\n",
       "<td>Test #114\n",
       "</td></tr>\n",
       "<tr>\n",
       "<td>October 27, 1973</td>\n",
       "<td>4.0</td>\n",
       "<td>underground shaft</td>\n",
       "<td>Soviet Union</td>\n",
       "<td>Novaya Zemlya</td>\n",
       "<td>Test #392\n",
       "</td></tr>\n",
       "<tr>\n",
       "<td>November 17, 1976</td>\n",
       "<td>4.0</td>\n",
       "<td>air drop</td>\n",
       "<td>China</td>\n",
       "<td><a href=\"/wiki/Lop_Nur\" title=\"Lop Nur\">Lop Nur</a></td>\n",
       "<td>Test (21)\n",
       "</td></tr>\n",
       "<tr>\n",
       "<td>July 11, 1962</td>\n",
       "<td>3.9</td>\n",
       "<td>parachuted</td>\n",
       "<td>USA</td>\n",
       "<td>Kiritimati</td>\n",
       "<td>Pamlico\n",
       "</td></tr>\n",
       "<tr>\n",
       "<td>May 20, 1956</td>\n",
       "<td>3.8</td>\n",
       "<td>free air drop</td>\n",
       "<td>USA</td>\n",
       "<td>Bikini Atoll</td>\n",
       "<td>Cherokee\n",
       "</td></tr>\n",
       "<tr>\n",
       "<td>August 1, 1958</td>\n",
       "<td>3.8</td>\n",
       "<td>high alt rocket</td>\n",
       "<td>USA</td>\n",
       "<td>Johnston Atoll</td>\n",
       "<td><a href=\"/wiki/Hardtack_Teak\" title=\"Hardtack Teak\">Teak</a>\n",
       "</td></tr>\n",
       "<tr>\n",
       "<td>August 12, 1958</td>\n",
       "<td>3.8</td>\n",
       "<td>high alt rocket</td>\n",
       "<td>USA</td>\n",
       "<td>Johnston Atoll</td>\n",
       "<td>Orange\n",
       "</td></tr>\n",
       "<tr>\n",
       "<td>September 12, 1973</td>\n",
       "<td>3.8</td>\n",
       "<td>tunnel</td>\n",
       "<td>Soviet Union</td>\n",
       "<td>Novaya Zemlya</td>\n",
       "<td>Test #385 - 1\n",
       "</td></tr>\n",
       "<tr>\n",
       "<td>May 27, 1956</td>\n",
       "<td>3.5</td>\n",
       "<td>dry surface</td>\n",
       "<td>USA</td>\n",
       "<td>Bikini Atoll</td>\n",
       "<td>Zuni\n",
       "</td></tr>\n",
       "<tr>\n",
       "<td>October 14, 1970</td>\n",
       "<td>3.4</td>\n",
       "<td>air drop</td>\n",
       "<td>China</td>\n",
       "<td>Lop Nur</td>\n",
       "<td>CHIC-11\n",
       "</td></tr>\n",
       "<tr>\n",
       "<td>September 16, 1962</td>\n",
       "<td>3.3</td>\n",
       "<td>air drop</td>\n",
       "<td>Soviet Union</td>\n",
       "<td>Novaya Zemlya</td>\n",
       "<td>Test #166\n",
       "</td></tr>\n",
       "<tr>\n",
       "<td>June 17, 1967</td>\n",
       "<td>3.3</td>\n",
       "<td>parachuted</td>\n",
       "<td>China</td>\n",
       "<td>Lop Nur</td>\n",
       "<td><a href=\"/wiki/Test_No._6\" title=\"Test No. 6\">CHIC-6</a>\n",
       "</td></tr>\n",
       "<tr>\n",
       "<td>September 15, 1962</td>\n",
       "<td>3.1</td>\n",
       "<td>air drop</td>\n",
       "<td>Soviet Union</td>\n",
       "<td>Novaya Zemlya</td>\n",
       "<td>Test #165\n",
       "</td></tr>\n",
       "<tr>\n",
       "<td>December 25, 1962</td>\n",
       "<td>3.1</td>\n",
       "<td>air drop</td>\n",
       "<td>Soviet Union</td>\n",
       "<td>Novaya Zemlya</td>\n",
       "<td>Test #220\n",
       "</td></tr>\n",
       "<tr>\n",
       "<td>April 28, 1958</td>\n",
       "<td>3.0</td>\n",
       "<td>air drop</td>\n",
       "<td>UK</td>\n",
       "<td>Kiritimati</td>\n",
       "<td>Grapple Y\n",
       "</td></tr>\n",
       "<tr>\n",
       "<td>October 4, 1961</td>\n",
       "<td>3.0</td>\n",
       "<td>air drop</td>\n",
       "<td>Soviet Union</td>\n",
       "<td>Novaya Zemlya</td>\n",
       "<td>Test #113\n",
       "</td></tr>\n",
       "<tr>\n",
       "<td>June 10, 1962</td>\n",
       "<td>3.0</td>\n",
       "<td>free air drop</td>\n",
       "<td>USA</td>\n",
       "<td>Kiritimati</td>\n",
       "<td>Yeso\n",
       "</td></tr>\n",
       "<tr>\n",
       "<td>December 27, 1968</td>\n",
       "<td>3.0</td>\n",
       "<td>air drop</td>\n",
       "<td>China</td>\n",
       "<td>Lop Nur</td>\n",
       "<td>CHIC-8\n",
       "</td></tr>\n",
       "<tr>\n",
       "<td>September 29, 1969</td>\n",
       "<td>3.0</td>\n",
       "<td>air drop</td>\n",
       "<td>China</td>\n",
       "<td>Lop Nur</td>\n",
       "<td>CHIC-10\n",
       "</td></tr>\n",
       "<tr>\n",
       "<td>June 27, 1973</td>\n",
       "<td>3.0</td>\n",
       "<td>air drop</td>\n",
       "<td>China</td>\n",
       "<td>Lop Nur</td>\n",
       "<td>Test (15)\n",
       "</td></tr>\n",
       "<tr>\n",
       "<td>October 6, 1957</td>\n",
       "<td>2.9</td>\n",
       "<td>air drop</td>\n",
       "<td>Soviet Union</td>\n",
       "<td>Novaya Zemlya</td>\n",
       "<td>Test #47\n",
       "</td></tr>\n",
       "<tr>\n",
       "<td>October 18, 1958</td>\n",
       "<td>2.9</td>\n",
       "<td>air drop</td>\n",
       "<td>Soviet Union</td>\n",
       "<td>Novaya Zemlya</td>\n",
       "<td>Test #73\n",
       "</td></tr>\n",
       "<tr>\n",
       "<td>October 22, 1958</td>\n",
       "<td>2.8</td>\n",
       "<td>air drop</td>\n",
       "<td>Soviet Union</td>\n",
       "<td>Novaya Zemlya</td>\n",
       "<td>Test #78\n",
       "</td></tr>\n",
       "<tr>\n",
       "<td>August 20, 1962</td>\n",
       "<td>2.8</td>\n",
       "<td>air drop</td>\n",
       "<td>Soviet Union</td>\n",
       "<td>Novaya Zemlya</td>\n",
       "<td>Test #152\n",
       "</td></tr>\n",
       "<tr>\n",
       "<td>September 10, 1961</td>\n",
       "<td>2.7</td>\n",
       "<td>air drop</td>\n",
       "<td>Soviet Union</td>\n",
       "<td>Novaya Zemlya</td>\n",
       "<td>90 Vozduj\n",
       "</td></tr>\n",
       "<tr>\n",
       "<td>August 24, 1968</td>\n",
       "<td>2.6</td>\n",
       "<td>balloon</td>\n",
       "<td>France</td>\n",
       "<td><a href=\"/wiki/Fangataufa\" title=\"Fangataufa\">Fangataufa</a></td>\n",
       "<td><a href=\"/wiki/Canopus_(nuclear_test)\" title=\"Canopus (nuclear test)\">Canopus</a>\n",
       "</td></tr>\n",
       "<tr>\n",
       "<td>September 27, 1971</td>\n",
       "<td>2.5</td>\n",
       "<td>tunnel</td>\n",
       "<td>Soviet Union</td>\n",
       "<td>Novaya Zemlya</td>\n",
       "<td>Test #345 - 1\n",
       "</td></tr>\n",
       "<tr>\n",
       "<td>September 21, 1962</td>\n",
       "<td>2.4</td>\n",
       "<td>air drop</td>\n",
       "<td>Soviet Union</td>\n",
       "<td>Novaya Zemlya</td>\n",
       "<td>Test #169\n",
       "</td></tr>\n",
       "<tr>\n",
       "<td>November 2, 1974</td>\n",
       "<td>2.3</td>\n",
       "<td>underground shaft</td>\n",
       "<td>Soviet Union</td>\n",
       "<td>Novaya Zemlya</td>\n",
       "<td>Test #411\n",
       "</td></tr>\n",
       "<tr>\n",
       "<td>October 14, 1970</td>\n",
       "<td>2.2</td>\n",
       "<td>tunnel</td>\n",
       "<td>Soviet Union</td>\n",
       "<td>Novaya Zemlya</td>\n",
       "<td>Test #327 - 1\n",
       "</td></tr>\n",
       "<tr>\n",
       "<td>July 26, 1958</td>\n",
       "<td>2.0</td>\n",
       "<td>barge</td>\n",
       "<td>USA</td>\n",
       "<td>Enewetak Atoll</td>\n",
       "<td>Pine\n",
       "</td></tr>\n",
       "<tr>\n",
       "<td>July 8, 1956</td>\n",
       "<td>1.9</td>\n",
       "<td>barge</td>\n",
       "<td>USA</td>\n",
       "<td>Enewetak Atoll</td>\n",
       "<td>Apache\n",
       "</td></tr>\n",
       "<tr>\n",
       "<td>September 8, 1962</td>\n",
       "<td>1.9</td>\n",
       "<td>high alt rocket</td>\n",
       "<td>Soviet Union</td>\n",
       "<td>Novaya Zemlya</td>\n",
       "<td>164 Tyulpan\n",
       "</td></tr>\n",
       "<tr>\n",
       "<td>March 26, 1970</td>\n",
       "<td>1.9</td>\n",
       "<td>underground shaft</td>\n",
       "<td>USA</td>\n",
       "<td><a href=\"/wiki/Nevada_Test_Site\" title=\"Nevada Test Site\">Nevada</a></td>\n",
       "<td>Handley\n",
       "</td></tr>\n",
       "<tr>\n",
       "<td>November 8, 1957</td>\n",
       "<td>1.8</td>\n",
       "<td>air drop</td>\n",
       "<td>UK</td>\n",
       "<td>Kiritimati</td>\n",
       "<td>Grapple X\n",
       "</td></tr>\n",
       "<tr>\n",
       "<td>May 13, 1954</td>\n",
       "<td>1.7</td>\n",
       "<td>barge</td>\n",
       "<td>USA</td>\n",
       "<td>Enewetak Atoll</td>\n",
       "<td>Nectar\n",
       "</td></tr>\n",
       "<tr>\n",
       "<td>November 22, 1955</td>\n",
       "<td>1.6</td>\n",
       "<td>air drop</td>\n",
       "<td>Soviet Union</td>\n",
       "<td><a href=\"/wiki/Semey\" title=\"Semey\">Semipalatinsk</a></td>\n",
       "<td>24 Binarnaya\n",
       "</td></tr>\n",
       "<tr>\n",
       "<td>September 24, 1957</td>\n",
       "<td>1.6</td>\n",
       "<td>air drop</td>\n",
       "<td>Soviet Union</td>\n",
       "<td>Novaya Zemlya</td>\n",
       "<td>Test #45\n",
       "</td></tr>\n",
       "<tr>\n",
       "<td>August 22, 1962</td>\n",
       "<td>1.6</td>\n",
       "<td>air drop</td>\n",
       "<td>Soviet Union</td>\n",
       "<td>Novaya Zemlya</td>\n",
       "<td>Test #154\n",
       "</td></tr>\n",
       "<tr>\n",
       "<td>October 18, 1962</td>\n",
       "<td>1.6</td>\n",
       "<td>parachuted</td>\n",
       "<td>USA</td>\n",
       "<td>Johnston Atoll</td>\n",
       "<td>Chama\n",
       "</td></tr>\n",
       "<tr>\n",
       "<td>February 27, 1958</td>\n",
       "<td>1.5</td>\n",
       "<td>air drop</td>\n",
       "<td>Soviet Union</td>\n",
       "<td>Novaya Zemlya</td>\n",
       "<td>Test #54\n",
       "</td></tr>\n",
       "<tr>\n",
       "<td>June 14, 1958</td>\n",
       "<td>1.5</td>\n",
       "<td>barge</td>\n",
       "<td>USA</td>\n",
       "<td>Enewetak Atoll</td>\n",
       "<td>Walnut\n",
       "</td></tr>\n",
       "<tr>\n",
       "<td>October 12, 1958</td>\n",
       "<td>1.5</td>\n",
       "<td>air drop</td>\n",
       "<td>Soviet Union</td>\n",
       "<td>Novaya Zemlya</td>\n",
       "<td>Test #71\n",
       "</td></tr>\n",
       "<tr>\n",
       "<td>October 15, 1958</td>\n",
       "<td>1.5</td>\n",
       "<td>air drop</td>\n",
       "<td>Soviet Union</td>\n",
       "<td>Novaya Zemlya</td>\n",
       "<td>Test #72\n",
       "</td></tr>\n",
       "<tr>\n",
       "<td>September 20, 1961</td>\n",
       "<td>1.5</td>\n",
       "<td>high alt rocket</td>\n",
       "<td>Soviet Union</td>\n",
       "<td>Novaya Zemlya</td>\n",
       "<td>106 Volga1\n",
       "</td></tr>\n",
       "<tr>\n",
       "<td>October 20, 1961</td>\n",
       "<td>1.5</td>\n",
       "<td>high alt rocket</td>\n",
       "<td>Soviet Union</td>\n",
       "<td>Novaya Zemlya</td>\n",
       "<td><a href=\"/wiki/Raduga_(nuclear_test)\" title=\"Raduga (nuclear test)\">121 Raduga</a>\n",
       "</td></tr>\n",
       "<tr>\n",
       "<td>November 4, 1961</td>\n",
       "<td>1.5</td>\n",
       "<td>air drop</td>\n",
       "<td>Soviet Union</td>\n",
       "<td>Novaya Zemlya</td>\n",
       "<td>Test #140\n",
       "</td></tr>\n",
       "<tr>\n",
       "<td>May 11, 1958</td>\n",
       "<td>1.4</td>\n",
       "<td>barge</td>\n",
       "<td>USA</td>\n",
       "<td>Bikini Atoll</td>\n",
       "<td>Fir\n",
       "</td></tr>\n",
       "<tr>\n",
       "<td>May 12, 1958</td>\n",
       "<td>1.4</td>\n",
       "<td>dry surface</td>\n",
       "<td>USA</td>\n",
       "<td>Enewetak Atoll</td>\n",
       "<td>Koa\n",
       "</td></tr>\n",
       "<tr>\n",
       "<td>July 9, 1962</td>\n",
       "<td>1.4</td>\n",
       "<td>space rocket</td>\n",
       "<td>USA</td>\n",
       "<td>Johnston Atoll</td>\n",
       "<td><a href=\"/wiki/Starfish_Prime\" title=\"Starfish Prime\">Starfish Prime</a>\n",
       "</td></tr>\n",
       "<tr>\n",
       "<td>September 18, 1962</td>\n",
       "<td>1.4</td>\n",
       "<td>air drop</td>\n",
       "<td>Soviet Union</td>\n",
       "<td>Novaya Zemlya</td>\n",
       "<td>Test #167\n",
       "</td></tr></tbody></table>"
      ]
     },
     "execution_count": 43,
     "metadata": {},
     "output_type": "execute_result"
    }
   ],
   "source": [
    "My_table[1]"
   ]
  },
  {
   "cell_type": "markdown",
   "metadata": {
    "colab_type": "text",
    "id": "FkYcIKRTKjEv"
   },
   "source": [
    "Все верно, это наша искомая таблица. Если дальше изучить содержимое таблицы, то станет понятно что внутри тега `th` находится заголовок таблицы, а внутри `td` строки таблицы. А оба этих тега находятся внутри тегов `tr` что является по факту строкой таблицы. Давайте извлечем все строки таблицы также используя функцию `find_all`."
   ]
  },
  {
   "cell_type": "code",
   "execution_count": 44,
   "metadata": {
    "colab": {
     "base_uri": "https://localhost:8080/",
     "height": 1000
    },
    "colab_type": "code",
    "id": "F5QYpbNzKjEw",
    "outputId": "2e60d107-6b57-4221-a612-a6899fa07bc1"
   },
   "outputs": [],
   "source": [
    "rows = My_table[1].find_all('tr')\n",
    "# print(rows)"
   ]
  },
  {
   "cell_type": "markdown",
   "metadata": {
    "colab_type": "text",
    "id": "mZQYvyv4KjE2"
   },
   "source": [
    "Давайте внимательно изучим содержимое одной строки, вытащим все `td`. Отобразим вторую строчку:"
   ]
  },
  {
   "cell_type": "code",
   "execution_count": 45,
   "metadata": {
    "colab": {
     "base_uri": "https://localhost:8080/",
     "height": 137
    },
    "colab_type": "code",
    "id": "OYHYLlvKKjE3",
    "outputId": "a6d852aa-5ae5-4488-bacd-a2d93fe2691c"
   },
   "outputs": [
    {
     "data": {
      "text/plain": [
       "[<td>October 30, 1961</td>,\n",
       " <td>50</td>,\n",
       " <td>parachute air drop</td>,\n",
       " <td>Soviet Union</td>,\n",
       " <td><a href=\"/wiki/Novaya_Zemlya\" title=\"Novaya Zemlya\">Novaya Zemlya</a></td>,\n",
       " <td><a href=\"/wiki/Tsar_Bomba\" title=\"Tsar Bomba\">Tsar Bomba</a>, Test #130\n",
       " </td>]"
      ]
     },
     "execution_count": 45,
     "metadata": {},
     "output_type": "execute_result"
    }
   ],
   "source": [
    "rows[1].find_all('td')"
   ]
  },
  {
   "cell_type": "markdown",
   "metadata": {
    "colab_type": "text",
    "id": "ytmoYTZfKjE8"
   },
   "source": [
    "Мы видим нужные нам данные между тегов `<td><\\td>`, а также ссылки с тегом `<a>` и даже смешанные ячейки с обоими этими вариантами. Давайте сначала извлечем просто данные. Для этого используем функцию `get_text()` - она вернет все что между тегами."
   ]
  },
  {
   "cell_type": "markdown",
   "metadata": {
    "colab_type": "text",
    "id": "qCNsBY7FKjE9"
   },
   "source": [
    "Возьмем, например, дату (она будет первым элементом):"
   ]
  },
  {
   "cell_type": "code",
   "execution_count": 48,
   "metadata": {
    "colab": {
     "base_uri": "https://localhost:8080/",
     "height": 34
    },
    "colab_type": "code",
    "id": "7N3ERSqEKjE-",
    "outputId": "0c36a552-5199-42c5-babb-19034055989b"
   },
   "outputs": [
    {
     "data": {
      "text/plain": [
       "'October 30, 1961'"
      ]
     },
     "execution_count": 48,
     "metadata": {},
     "output_type": "execute_result"
    }
   ],
   "source": [
    "rows[1].find_all('td')[0].text"
   ]
  },
  {
   "cell_type": "markdown",
   "metadata": {
    "colab_type": "text",
    "id": "NKExPVoTKjFC"
   },
   "source": [
    "Единственное, нам нужно отдельно обработать, это первую строку, в которой хранится заголовок ряда (table header)"
   ]
  },
  {
   "cell_type": "code",
   "execution_count": 49,
   "metadata": {
    "colab": {
     "base_uri": "https://localhost:8080/",
     "height": 34
    },
    "colab_type": "code",
    "id": "D6FMSQ24KjFD",
    "outputId": "67c3f383-2f87-4568-e655-028de61c7964"
   },
   "outputs": [
    {
     "data": {
      "text/plain": [
       "'Date (GMT)\\n'"
      ]
     },
     "execution_count": 49,
     "metadata": {},
     "output_type": "execute_result"
    }
   ],
   "source": [
    "rows[0].find_all('th')[0].text"
   ]
  },
  {
   "cell_type": "markdown",
   "metadata": {
    "colab_type": "text",
    "id": "fF_onkH1KjFH"
   },
   "source": [
    "Все классно, только давайте избавимся от знака переноса строки."
   ]
  },
  {
   "cell_type": "code",
   "execution_count": 50,
   "metadata": {
    "colab": {
     "base_uri": "https://localhost:8080/",
     "height": 34
    },
    "colab_type": "code",
    "id": "o7VP8de2KjFI",
    "outputId": "802f3948-1b76-4040-c081-10e2f08c3904"
   },
   "outputs": [
    {
     "data": {
      "text/plain": [
       "'Date (GMT)'"
      ]
     },
     "execution_count": 50,
     "metadata": {},
     "output_type": "execute_result"
    }
   ],
   "source": [
    "rows[0].find_all('th')[0].text.strip()"
   ]
  },
  {
   "cell_type": "markdown",
   "metadata": {
    "colab_type": "text",
    "id": "UzfvB4coKjFN"
   },
   "source": [
    "Давайте теперь извлечем все даты. Создадим список для их хранения `Dates` и будет итерироваться по всем элементам:"
   ]
  },
  {
   "cell_type": "code",
   "execution_count": 51,
   "metadata": {
    "colab": {
     "base_uri": "https://localhost:8080/",
     "height": 1000
    },
    "colab_type": "code",
    "id": "TaORSTo3KjFO",
    "outputId": "98f1d75e-7588-42e1-8b53-9794c0eae984"
   },
   "outputs": [
    {
     "name": "stdout",
     "output_type": "stream",
     "text": [
      "['Date (GMT)', 'October 30, 1961', 'December 24, 1962', 'August 5, 1962', 'September 27, 1962', 'September 25, 1962', 'March 1, 1954', 'May 5, 1954', 'October 23, 1961', 'March 26, 1954', 'October 31, 1952', 'August 25, 1962', 'September 19, 1962', 'July 11, 1958', 'June 28, 1958', 'October 30, 1962', 'October 22, 1962', 'June 27, 1962', 'April 25, 1954', 'July 20, 1956', 'October 31, 1961', 'November 6, 1971', 'July 10, 1956', 'August 27, 1962', 'October 6, 1961', 'October 27, 1973', 'November 17, 1976', 'July 11, 1962', 'May 20, 1956', 'August 1, 1958', 'August 12, 1958', 'September 12, 1973', 'May 27, 1956', 'October 14, 1970', 'September 16, 1962', 'June 17, 1967', 'September 15, 1962', 'December 25, 1962', 'April 28, 1958', 'October 4, 1961', 'June 10, 1962', 'December 27, 1968', 'September 29, 1969', 'June 27, 1973', 'October 6, 1957', 'October 18, 1958', 'October 22, 1958', 'August 20, 1962', 'September 10, 1961', 'August 24, 1968', 'September 27, 1971', 'September 21, 1962', 'November 2, 1974', 'October 14, 1970', 'July 26, 1958', 'July 8, 1956', 'September 8, 1962', 'March 26, 1970', 'November 8, 1957', 'May 13, 1954', 'November 22, 1955', 'September 24, 1957', 'August 22, 1962', 'October 18, 1962', 'February 27, 1958', 'June 14, 1958', 'October 12, 1958', 'October 15, 1958', 'September 20, 1961', 'October 20, 1961', 'November 4, 1961', 'May 11, 1958', 'May 12, 1958', 'July 9, 1962', 'September 18, 1962']\n"
     ]
    }
   ],
   "source": [
    "Dates = []\n",
    "\n",
    "Dates.append(rows[0].find_all('th')[0].text.strip()) # отдельно добавляем заголовок\n",
    "\n",
    "for row in rows[1:]: # начинаем со второго ряда таблицы, потому что 0 уже обработали выше\n",
    "    r = row.find_all('td') # находим все теги td для строки таблицы\n",
    "    Dates.append(r[0].text.strip()) # сохраняем данные в наш список\n",
    "\n",
    "print(Dates)"
   ]
  },
  {
   "cell_type": "markdown",
   "metadata": {
    "colab_type": "text",
    "id": "lrWAxB80KjFR"
   },
   "source": [
    "Ок! Следующие колонки, которые нам нужны - мощность взрыва и страна. Давайте поймем, где их искать."
   ]
  },
  {
   "cell_type": "code",
   "execution_count": 28,
   "metadata": {
    "colab": {
     "base_uri": "https://localhost:8080/",
     "height": 241
    },
    "colab_type": "code",
    "id": "yxBedDPLKjFS",
    "outputId": "e284fd84-b244-477d-d8a1-5e43fa723ab1"
   },
   "outputs": [
    {
     "data": {
      "text/plain": [
       "<tr>\n",
       "<th>Date (GMT)\n",
       "</th>\n",
       "<th>Yield (megatons)\n",
       "</th>\n",
       "<th>Deployment\n",
       "</th>\n",
       "<th>Country\n",
       "</th>\n",
       "<th>Test Site\n",
       "</th>\n",
       "<th>Name or Number\n",
       "</th></tr>"
      ]
     },
     "execution_count": 28,
     "metadata": {},
     "output_type": "execute_result"
    }
   ],
   "source": [
    "rows[0]"
   ]
  },
  {
   "cell_type": "markdown",
   "metadata": {
    "colab_type": "text",
    "id": "qWwWexaeKjFV"
   },
   "source": [
    "Видим, что Yield вторая колонка, а страна третья. Соберем их в отдельные списки по той же схеме, что дату. Но сначала проверим, что правильно посчитали номера."
   ]
  },
  {
   "cell_type": "code",
   "execution_count": 29,
   "metadata": {
    "colab": {
     "base_uri": "https://localhost:8080/",
     "height": 51
    },
    "colab_type": "code",
    "id": "U_wHxWlqKjFX",
    "outputId": "8a4c6e2d-8d52-4400-befd-e064801c9c84"
   },
   "outputs": [
    {
     "data": {
      "text/plain": [
       "<th>Yield (megatons)\n",
       "</th>"
      ]
     },
     "execution_count": 29,
     "metadata": {},
     "output_type": "execute_result"
    }
   ],
   "source": [
    "rows[0].find_all('th')[1]"
   ]
  },
  {
   "cell_type": "code",
   "execution_count": 56,
   "metadata": {
    "colab": {
     "base_uri": "https://localhost:8080/",
     "height": 51
    },
    "colab_type": "code",
    "id": "HcuXz-LsKjFa",
    "outputId": "3c310980-37d9-440a-d48d-2abb1ef672a8"
   },
   "outputs": [
    {
     "data": {
      "text/plain": [
       "<th>Country\n",
       "</th>"
      ]
     },
     "execution_count": 56,
     "metadata": {},
     "output_type": "execute_result"
    }
   ],
   "source": [
    "rows[0].find_all('th')[3]"
   ]
  },
  {
   "cell_type": "markdown",
   "metadata": {
    "colab_type": "text",
    "id": "Fh9zlgKKKjFe"
   },
   "source": [
    "Вроде все правильно. Единственно, не забудем хранить числа как float."
   ]
  },
  {
   "cell_type": "code",
   "execution_count": 53,
   "metadata": {
    "colab": {
     "base_uri": "https://localhost:8080/",
     "height": 1000
    },
    "colab_type": "code",
    "id": "iHUOvwyLKjFf",
    "outputId": "8495bf4c-e9ee-4b18-cbc7-0cc010e14062"
   },
   "outputs": [
    {
     "name": "stdout",
     "output_type": "stream",
     "text": [
      "['Yield (megatons)', 50.0, 24.2, 21.1, 20.0, 19.1, 15.0, 13.5, 12.5, 11.0, 10.4, 10.0, 10.0, 9.3, 8.9, 8.3, 8.2, 7.7, 6.9, 5.0, 5.0, 4.8, 4.5, 4.2, 4.0, 4.0, 4.0, 3.9, 3.8, 3.8, 3.8, 3.8, 3.5, 3.4, 3.3, 3.3, 3.1, 3.1, 3.0, 3.0, 3.0, 3.0, 3.0, 3.0, 2.9, 2.9, 2.8, 2.8, 2.7, 2.6, 2.5, 2.4, 2.3, 2.2, 2.0, 1.9, 1.9, 1.9, 1.8, 1.7, 1.6, 1.6, 1.6, 1.6, 1.5, 1.5, 1.5, 1.5, 1.5, 1.5, 1.5, 1.4, 1.4, 1.4, 1.4]\n"
     ]
    }
   ],
   "source": [
    "Yield = []\n",
    "\n",
    "Yield.append(rows[0].find_all('th')[1].text.strip()) # отдельно добавляем заголовок\n",
    "\n",
    "for row in rows[1:]: # начинаем со второго ряда таблицы, потому что 0 уже обработали выше\n",
    "    r = row.find_all('td') # находим все теги td для строки таблицы\n",
    "    Yield.append(float(r[1].text.strip())) # сохраняем данные в наш список и переводим в float\n",
    "\n",
    "print(Yield)"
   ]
  },
  {
   "cell_type": "code",
   "execution_count": 54,
   "metadata": {
    "colab": {
     "base_uri": "https://localhost:8080/",
     "height": 1000
    },
    "colab_type": "code",
    "id": "cAjfGoVAKjFh",
    "outputId": "d929d3ea-d267-4f1c-bf48-181ccc794e73"
   },
   "outputs": [
    {
     "name": "stdout",
     "output_type": "stream",
     "text": [
      "['Country', 'Soviet Union', 'Soviet Union', 'Soviet Union', 'Soviet Union', 'Soviet Union', 'USA', 'USA', 'Soviet Union', 'USA', 'USA', 'Soviet Union', 'Soviet Union', 'USA', 'USA', 'USA', 'Soviet Union', 'USA', 'USA', 'USA', 'Soviet Union', 'USA', 'USA', 'Soviet Union', 'Soviet Union', 'Soviet Union', 'China', 'USA', 'USA', 'USA', 'USA', 'Soviet Union', 'USA', 'China', 'Soviet Union', 'China', 'Soviet Union', 'Soviet Union', 'UK', 'Soviet Union', 'USA', 'China', 'China', 'China', 'Soviet Union', 'Soviet Union', 'Soviet Union', 'Soviet Union', 'Soviet Union', 'France', 'Soviet Union', 'Soviet Union', 'Soviet Union', 'Soviet Union', 'USA', 'USA', 'Soviet Union', 'USA', 'UK', 'USA', 'Soviet Union', 'Soviet Union', 'Soviet Union', 'USA', 'Soviet Union', 'USA', 'Soviet Union', 'Soviet Union', 'Soviet Union', 'Soviet Union', 'Soviet Union', 'USA', 'USA', 'USA', 'Soviet Union']\n"
     ]
    }
   ],
   "source": [
    "Country = []\n",
    "\n",
    "Country.append(rows[0].find_all('th')[3].text.strip()) # отдельно добавляем заголовок\n",
    "\n",
    "for row in rows[1:]: # начинаем со второго ряда таблицы, потому что 0 уже обработали выше\n",
    "    r = row.find_all('td') # находим все теги td для строки таблицы\n",
    "    Country.append(r[3].text.strip()) # сохраняем данные в наш список и переводим в float\n",
    "\n",
    "print(Country)"
   ]
  },
  {
   "cell_type": "code",
   "execution_count": 57,
   "metadata": {
    "colab": {
     "base_uri": "https://localhost:8080/",
     "height": 89
    },
    "colab_type": "code",
    "id": "MHhQI6fWKjFj",
    "outputId": "882ac651-3270-4007-a59e-f5abf44a3660"
   },
   "outputs": [
    {
     "name": "stdout",
     "output_type": "stream",
     "text": [
      "['Date (GMT)', 'October 30, 1961', 'December 24, 1962', 'August 5, 1962', 'September 27, 1962', 'September 25, 1962', 'March 1, 1954', 'May 5, 1954', 'October 23, 1961', 'March 26, 1954', 'October 31, 1952', 'August 25, 1962', 'September 19, 1962', 'July 11, 1958', 'June 28, 1958', 'October 30, 1962', 'October 22, 1962', 'June 27, 1962', 'April 25, 1954', 'July 20, 1956', 'October 31, 1961', 'November 6, 1971', 'July 10, 1956', 'August 27, 1962', 'October 6, 1961', 'October 27, 1973', 'November 17, 1976', 'July 11, 1962', 'May 20, 1956', 'August 1, 1958', 'August 12, 1958', 'September 12, 1973', 'May 27, 1956', 'October 14, 1970', 'September 16, 1962', 'June 17, 1967', 'September 15, 1962', 'December 25, 1962', 'April 28, 1958', 'October 4, 1961', 'June 10, 1962', 'December 27, 1968', 'September 29, 1969', 'June 27, 1973', 'October 6, 1957', 'October 18, 1958', 'October 22, 1958', 'August 20, 1962', 'September 10, 1961', 'August 24, 1968', 'September 27, 1971', 'September 21, 1962', 'November 2, 1974', 'October 14, 1970', 'July 26, 1958', 'July 8, 1956', 'September 8, 1962', 'March 26, 1970', 'November 8, 1957', 'May 13, 1954', 'November 22, 1955', 'September 24, 1957', 'August 22, 1962', 'October 18, 1962', 'February 27, 1958', 'June 14, 1958', 'October 12, 1958', 'October 15, 1958', 'September 20, 1961', 'October 20, 1961', 'November 4, 1961', 'May 11, 1958', 'May 12, 1958', 'July 9, 1962', 'September 18, 1962']\n",
      "['Yield (megatons)', 50.0, 24.2, 21.1, 20.0, 19.1, 15.0, 13.5, 12.5, 11.0, 10.4, 10.0, 10.0, 9.3, 8.9, 8.3, 8.2, 7.7, 6.9, 5.0, 5.0, 4.8, 4.5, 4.2, 4.0, 4.0, 4.0, 3.9, 3.8, 3.8, 3.8, 3.8, 3.5, 3.4, 3.3, 3.3, 3.1, 3.1, 3.0, 3.0, 3.0, 3.0, 3.0, 3.0, 2.9, 2.9, 2.8, 2.8, 2.7, 2.6, 2.5, 2.4, 2.3, 2.2, 2.0, 1.9, 1.9, 1.9, 1.8, 1.7, 1.6, 1.6, 1.6, 1.6, 1.5, 1.5, 1.5, 1.5, 1.5, 1.5, 1.5, 1.4, 1.4, 1.4, 1.4]\n",
      "['Country', 'Soviet Union', 'Soviet Union', 'Soviet Union', 'Soviet Union', 'Soviet Union', 'USA', 'USA', 'Soviet Union', 'USA', 'USA', 'Soviet Union', 'Soviet Union', 'USA', 'USA', 'USA', 'Soviet Union', 'USA', 'USA', 'USA', 'Soviet Union', 'USA', 'USA', 'Soviet Union', 'Soviet Union', 'Soviet Union', 'China', 'USA', 'USA', 'USA', 'USA', 'Soviet Union', 'USA', 'China', 'Soviet Union', 'China', 'Soviet Union', 'Soviet Union', 'UK', 'Soviet Union', 'USA', 'China', 'China', 'China', 'Soviet Union', 'Soviet Union', 'Soviet Union', 'Soviet Union', 'Soviet Union', 'France', 'Soviet Union', 'Soviet Union', 'Soviet Union', 'Soviet Union', 'USA', 'USA', 'Soviet Union', 'USA', 'UK', 'USA', 'Soviet Union', 'Soviet Union', 'Soviet Union', 'USA', 'Soviet Union', 'USA', 'Soviet Union', 'Soviet Union', 'Soviet Union', 'Soviet Union', 'Soviet Union', 'USA', 'USA', 'USA', 'Soviet Union']\n"
     ]
    }
   ],
   "source": [
    "print(Dates)\n",
    "print(Yield)\n",
    "print(Country)"
   ]
  },
  {
   "cell_type": "markdown",
   "metadata": {},
   "source": [
    "Давайте опять сохраним данные в файл. Тут обратите внимание на запятую в дате - давайте сделаем разделителем табуляцию."
   ]
  },
  {
   "cell_type": "code",
   "execution_count": 61,
   "metadata": {},
   "outputs": [],
   "source": [
    "f = open('nuclear.csv', 'w')\n",
    "\n",
    "for idx in range(len(Dates)):\n",
    "    f.write(f'{Dates[idx]},{Yield[idx]},{Country[idx]}\\n')\n",
    "    \n",
    "f.close()"
   ]
  },
  {
   "cell_type": "code",
   "execution_count": 62,
   "metadata": {},
   "outputs": [
    {
     "data": {
      "text/html": [
       "<div>\n",
       "<style scoped>\n",
       "    .dataframe tbody tr th:only-of-type {\n",
       "        vertical-align: middle;\n",
       "    }\n",
       "\n",
       "    .dataframe tbody tr th {\n",
       "        vertical-align: top;\n",
       "    }\n",
       "\n",
       "    .dataframe thead th {\n",
       "        text-align: right;\n",
       "    }\n",
       "</style>\n",
       "<table border=\"1\" class=\"dataframe\">\n",
       "  <thead>\n",
       "    <tr style=\"text-align: right;\">\n",
       "      <th></th>\n",
       "      <th>Date (GMT)</th>\n",
       "      <th>Yield (megatons)</th>\n",
       "      <th>Country</th>\n",
       "    </tr>\n",
       "  </thead>\n",
       "  <tbody>\n",
       "    <tr>\n",
       "      <th>October 30</th>\n",
       "      <td>1961</td>\n",
       "      <td>50.0</td>\n",
       "      <td>Soviet Union</td>\n",
       "    </tr>\n",
       "    <tr>\n",
       "      <th>December 24</th>\n",
       "      <td>1962</td>\n",
       "      <td>24.2</td>\n",
       "      <td>Soviet Union</td>\n",
       "    </tr>\n",
       "    <tr>\n",
       "      <th>August 5</th>\n",
       "      <td>1962</td>\n",
       "      <td>21.1</td>\n",
       "      <td>Soviet Union</td>\n",
       "    </tr>\n",
       "    <tr>\n",
       "      <th>September 27</th>\n",
       "      <td>1962</td>\n",
       "      <td>20.0</td>\n",
       "      <td>Soviet Union</td>\n",
       "    </tr>\n",
       "    <tr>\n",
       "      <th>September 25</th>\n",
       "      <td>1962</td>\n",
       "      <td>19.1</td>\n",
       "      <td>Soviet Union</td>\n",
       "    </tr>\n",
       "  </tbody>\n",
       "</table>\n",
       "</div>"
      ],
      "text/plain": [
       "              Date (GMT)  Yield (megatons)       Country\n",
       "October 30          1961              50.0  Soviet Union\n",
       "December 24         1962              24.2  Soviet Union\n",
       "August 5            1962              21.1  Soviet Union\n",
       "September 27        1962              20.0  Soviet Union\n",
       "September 25        1962              19.1  Soviet Union"
      ]
     },
     "execution_count": 62,
     "metadata": {},
     "output_type": "execute_result"
    }
   ],
   "source": [
    "df = pd.read_csv('nuclear.csv', index_col=None)\n",
    "df.head()"
   ]
  },
  {
   "cell_type": "markdown",
   "metadata": {
    "colab_type": "text",
    "id": "sOGC8QvBKjFl"
   },
   "source": [
    "# И давайте немного задачек, чтобы освежить в памяти прошлые занятия."
   ]
  },
  {
   "cell_type": "markdown",
   "metadata": {
    "colab_type": "text",
    "id": "Lp5wi55DKjFm"
   },
   "source": [
    "1. Напишите функцию, которая берет аргументом название страны и возвращает (return) среднюю мощность взрыва для этой страны (нужно сложить все значения из колонки 'Yield (megatons)', которым соответствует страна, например, США, и раделить на количество этих значений). Для подсчета используйте списки, которые мы извлекли выше.\n",
    "2. Из списка Country оставьте только уникальные значения для стран и запустите вашу функцию в цикле для каждого значения Country. Внутри цикла сделайте следующий вывод \"{название страны}: средняя мощность взрыва {средняя мощность} мегатон\"\n",
    "3. Создайте словарь, ключом в котором будет страна, а значением список из количества испытаний и максимальной мощности взрыва.\n",
    "4. Выведите ключи словаря из пункта 3 и максимальную мощность взрыва, отсортированные по максимальной мощности взрыва, от меньшего к большему."
   ]
  },
  {
   "cell_type": "code",
   "execution_count": 66,
   "metadata": {},
   "outputs": [
    {
     "data": {
      "text/plain": [
       "5.2555555555555555"
      ]
     },
     "execution_count": 66,
     "metadata": {},
     "output_type": "execute_result"
    }
   ],
   "source": [
    "df[df['Country'] == 'USA']['Yield (megatons)'].sum()/len(df[df['Country'] == 'USA']['Yield (megatons)'])"
   ]
  },
  {
   "cell_type": "code",
   "execution_count": 67,
   "metadata": {
    "colab": {},
    "colab_type": "code",
    "id": "AjvuRuV5KjFn"
   },
   "outputs": [],
   "source": [
    "# 1\n",
    "def average_yield(country):\n",
    "    yield_sum = 0 # создаем счетчитк, в который будем приплюсовывать мощность каждого испытания в заданной стране\n",
    "    yield_count = 0 # создаем счетчик, в котором будем хранить количество испытаний\n",
    "    for idx in range(len(Country)): # запускаем цикл для всех значений индексов списка Country\n",
    "        if Country[idx] == country:   # проверяем, равно ли значение в списке Country стране, для которой вызвана функция\n",
    "            yield_sum += Yield[idx]     # если да, то добавляем мощность взрыва под этим же индексом\n",
    "            yield_count += 1            # считаем это исптание\n",
    "    return round(yield_sum / yield_count,2)  # после окончания работы цикла возвращаем среднюю мощность"
   ]
  },
  {
   "cell_type": "code",
   "execution_count": 68,
   "metadata": {},
   "outputs": [
    {
     "data": {
      "text/plain": [
       "5.26"
      ]
     },
     "execution_count": 68,
     "metadata": {},
     "output_type": "execute_result"
    }
   ],
   "source": [
    "average_yield('USA')"
   ]
  },
  {
   "cell_type": "code",
   "execution_count": 69,
   "metadata": {
    "colab": {
     "base_uri": "https://localhost:8080/",
     "height": 103
    },
    "colab_type": "code",
    "id": "9SCRs4utYkM_",
    "outputId": "e3cb3341-a75d-4b13-a029-ed27d62f178e"
   },
   "outputs": [
    {
     "name": "stdout",
     "output_type": "stream",
     "text": [
      "UK : средняя мощность взрыва 2.4 мегатон\n",
      "USA : средняя мощность взрыва 5.26 мегатон\n",
      "France : средняя мощность взрыва 2.6 мегатон\n",
      "China : средняя мощность взрыва 3.28 мегатон\n",
      "Soviet Union : средняя мощность взрыва 6.56 мегатон\n"
     ]
    }
   ],
   "source": [
    "# 2\n",
    "for country in set(Country[1:]): # чтобы оставить только уникальные значения - делаем множество из списка + с помощью среза избавляемся от от заголовка колонки под индексом [0]\n",
    "    print(country, ': средняя мощность взрыва', average_yield(country), 'мегатон')"
   ]
  },
  {
   "cell_type": "code",
   "execution_count": 70,
   "metadata": {},
   "outputs": [
    {
     "data": {
      "text/plain": [
       "27"
      ]
     },
     "execution_count": 70,
     "metadata": {},
     "output_type": "execute_result"
    }
   ],
   "source": [
    "Country.count('USA')"
   ]
  },
  {
   "cell_type": "code",
   "execution_count": 71,
   "metadata": {
    "colab": {
     "base_uri": "https://localhost:8080/",
     "height": 34
    },
    "colab_type": "code",
    "id": "gcmB_lfTYq5D",
    "outputId": "06f7ebfb-f12c-4550-ce57-cefac7114c1c"
   },
   "outputs": [
    {
     "name": "stdout",
     "output_type": "stream",
     "text": [
      "{'UK': [2, 3.0], 'USA': [27, 15.0], 'France': [1, 2.6], 'China': [6, 4.0], 'Soviet Union': [38, 50.0]}\n"
     ]
    }
   ],
   "source": [
    "# 3\n",
    "d = {}\n",
    "for x in set(Country[1:]):\n",
    "    y = []\n",
    "    for idx in range(len(Country[1:])):\n",
    "        if Country[idx] == x:\n",
    "            y.append(Yield[idx])        \n",
    "    d[x] = [Country.count(x), max(y)]\n",
    "\n",
    "print(d)"
   ]
  },
  {
   "cell_type": "code",
   "execution_count": 72,
   "metadata": {},
   "outputs": [
    {
     "name": "stdout",
     "output_type": "stream",
     "text": [
      "France 2.6\n",
      "UK 3.0\n",
      "China 4.0\n",
      "USA 15.0\n",
      "Soviet Union 50.0\n"
     ]
    }
   ],
   "source": [
    "# 4\n",
    "for value in sorted(d.values(), key=lambda x:x[1]):\n",
    "    for key in d:\n",
    "        if d[key] == value:\n",
    "            print(key, value[1])"
   ]
  }
 ],
 "metadata": {
  "colab": {
   "collapsed_sections": [],
   "name": "RISO_Exam.ipynb",
   "provenance": []
  },
  "kernelspec": {
   "display_name": "Python 3",
   "language": "python",
   "name": "python3"
  },
  "language_info": {
   "codemirror_mode": {
    "name": "ipython",
    "version": 3
   },
   "file_extension": ".py",
   "mimetype": "text/x-python",
   "name": "python",
   "nbconvert_exporter": "python",
   "pygments_lexer": "ipython3",
   "version": "3.8.5"
  }
 },
 "nbformat": 4,
 "nbformat_minor": 2
}

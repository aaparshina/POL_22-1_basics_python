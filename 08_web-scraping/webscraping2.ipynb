{
 "cells": [
  {
   "cell_type": "markdown",
   "metadata": {},
   "source": [
    "# Основы программирования в Python\n",
    "\n",
    "*Автор: Алла Тамбовцева, НИУ ВШЭ*  \n",
    "\n",
    "## Web-scraping: скрэйпинг новостного сайта"
   ]
  },
  {
   "cell_type": "markdown",
   "metadata": {},
   "source": [
    "Мы уже немного познакомились со структурой html-файлов, теперь попробуем выгрузить информацию из реальной страницы, а точнее, с реального сайта [nplus1.ru](https://nplus1.ru/).\n",
    "\n",
    "**Наша задача:** выгрузить недавние новости в датафрейм `pandas`, чтобы потом сохранить все в csv-файл.\n",
    "\n",
    "Сначала сгрузим весь html-код страницы и сохраним его в отдельную переменную. Для этого нам понадобится библиотека `requests`. Импортируем её:"
   ]
  },
  {
   "cell_type": "code",
   "execution_count": 1,
   "metadata": {},
   "outputs": [],
   "source": [
    "import requests"
   ]
  },
  {
   "cell_type": "markdown",
   "metadata": {},
   "source": [
    "Сохраним ссылку на главную страницу сайта в переменную `url` для удобства и выгрузим страницу. (Разумеется, это будет работать при подключении к интернету. Если соединение будет отключено, Python выдаст `NewConnectionError`)."
   ]
  },
  {
   "cell_type": "code",
   "execution_count": 2,
   "metadata": {},
   "outputs": [],
   "source": [
    "url = 'https://nplus1.ru/' # сохраняем\n",
    "page = requests.get(url) # загружаем страницу по ссылке"
   ]
  },
  {
   "cell_type": "markdown",
   "metadata": {},
   "source": [
    "Если мы просто посмотрим на объект, мы ничего особенного не увидим:"
   ]
  },
  {
   "cell_type": "code",
   "execution_count": 3,
   "metadata": {},
   "outputs": [
    {
     "data": {
      "text/plain": [
       "<Response [200]>"
      ]
     },
     "execution_count": 3,
     "metadata": {},
     "output_type": "execute_result"
    }
   ],
   "source": [
    "page  # response 200 - страница загружена"
   ]
  },
  {
   "cell_type": "markdown",
   "metadata": {},
   "source": [
    "Импортируем функцию `BeautifulSoup` из библиотеки `bs4` (от *beautifulsoup4*) и заберём со страницы `page` код html в виде текста. "
   ]
  },
  {
   "cell_type": "code",
   "execution_count": 4,
   "metadata": {},
   "outputs": [],
   "source": [
    "from bs4 import BeautifulSoup  # не спрашивайте, почему BeautifulSoup"
   ]
  },
  {
   "cell_type": "code",
   "execution_count": 5,
   "metadata": {},
   "outputs": [],
   "source": [
    "soup = BeautifulSoup(page.text)"
   ]
  },
  {
   "cell_type": "markdown",
   "metadata": {},
   "source": [
    "Если выведем `soup` на экран, мы увидим то же самое, что в режиме разработчика или в режиме происмотра исходного кода (`view-source` через *Ctrl+U* в Google Chrome)."
   ]
  },
  {
   "cell_type": "code",
   "execution_count": 6,
   "metadata": {},
   "outputs": [],
   "source": [
    "# soup"
   ]
  },
  {
   "cell_type": "markdown",
   "metadata": {},
   "source": [
    "Для просмотра выглядит не очень удобно.  «Причешем» наш `soup` – воспользуемся методом `.prettify()` в сочетании с функцией `print()`."
   ]
  },
  {
   "cell_type": "code",
   "execution_count": 7,
   "metadata": {},
   "outputs": [],
   "source": [
    "# print(soup.prettify())"
   ]
  },
  {
   "cell_type": "markdown",
   "metadata": {},
   "source": [
    "В такой выдаче ориентироваться гораздо удобнее (но при желании, то же можно увидеть в браузере, на большом экране)."
   ]
  },
  {
   "cell_type": "markdown",
   "metadata": {},
   "source": [
    "Чтобы сгрузить все новости с главной страницы сайта, нужно собрать все ссылки на страницы с этими новостями. Ссылки в html-файле всегда заключены в тэг `<a></a>` и имеют атрибут `href`. Посмотрим на кусочки кода, соответствующие всем ссылкам на главной странице сайта:"
   ]
  },
  {
   "cell_type": "code",
   "execution_count": 8,
   "metadata": {},
   "outputs": [
    {
     "name": "stdout",
     "output_type": "stream",
     "text": [
      "#\n",
      "/\n",
      "#\n",
      "#\n",
      "/rubric/astronomy\n",
      "/rubric/physics\n",
      "/rubric/biology\n",
      "/rubric/robots-drones\n",
      "/theme/applying-statistics\n",
      "/theme/bookshelf\n",
      "/theme/Courses\n",
      "/theme/coronavirus-history\n",
      "/theme/offline\n",
      "/\n",
      "#\n",
      "/rubric/astronomy\n",
      "/rubric/physics\n",
      "/rubric/biology\n",
      "/rubric/robots-drones\n",
      "#\n",
      "/theme/applying-statistics\n",
      "/theme/bookshelf\n",
      "/theme/Courses\n",
      "/theme/coronavirus-history\n",
      "/theme/offline\n",
      "https://nplus1.ru/blog/2021/12/01/physics-problems\n",
      "https://nplus1.ru/blog/2021/12/01/physics-problems\n",
      "https://nplus1.ru/blog/2021/11/30/into-the-abyss\n",
      "https://nplus1.ru/blog/2021/11/26/a-woman-s-heart\n",
      "https://nplus1.ru/blog/2021/11/25/deep-medicine\n",
      "https://nplus1.ru/blog/2021/11/23/the-russian-job\n",
      "https://nplus1.ru/blog/2021/11/11/a-surgeons-notes-on-performance\n",
      "https://nplus1.ru/blog/2021/11/02/rudalle\n",
      "https://nplus1.ru/blog/2021/11/03/dune-climate\n",
      "https://nplus1.ru/blog/2021/11/03/tales-from-both-sides-of-the-brain\n",
      "https://nplus1.ru/blog/2021/12/02/useful-delusions\n",
      "/news/2021/12/03/b62-12\n",
      "/news/2021/12/03/quantum-OPM-MEG\n",
      "/news/2021/12/03/qualcomm-always-on\n",
      "/news/2021/12/03/e-coli-inf\n",
      "/news/2021/12/03/cabless\n",
      "/news/2021/12/03/japanmissiles\n",
      "/news/2021/12/03/tenet-of-sound\n",
      "/material/2021/12/03/russian-soil\n",
      "/rubric/ecology\n",
      "/news/2021/12/03/adenovirus-thrombosis\n",
      "/news/2021/12/03/gj-367-b\n",
      "/news/2021/12/03/stingray\n",
      "/news/2021/12/03/equids-stone-artefacts\n",
      "/news/2021/12/03/bronze-age-hoards\n",
      "/news/2021/12/03/lonesome-otter\n",
      "/blog/2021/11/30/imagine\n",
      "/blog/2021/12/01/physics-problems\n",
      "/material/2021/12/03/externalized-memory\n",
      "/rubric/partners\n",
      "/material/2021/12/02/smellless-post-covid-life\n",
      "/rubric/medicine\n",
      "/theme/experiments\n",
      "/news/2021/12/03/stegouros-elengassen\n",
      "/news/2021/12/03/neutron-rocket\n",
      "/news/2021/12/02/activity-of-cumbre-vieja\n",
      "/news/2021/12/02/drone-perching\n",
      "/news/2021/12/02/lead-whites\n",
      "/news/2021/12/02/surprise-fm\n",
      "/blog/2021/11/30/into-the-abyss\n",
      "/blog/2021/11/29/nothing-personal-nopaywall\n",
      "/material/2021/12/02/professional-tool\n",
      "/rubric/partners\n",
      "/theme/ya-profi\n",
      "/material/2021/12/01/tarim-people\n",
      "/rubric/archaeology\n",
      "/news/2021/11/30/skyrmion-light-beam\n",
      "/news/2021/11/25/heavy-fermions\n",
      "/news/2021/11/24/e-v-reconstruction\n",
      "/blog/2021/11/30/imagine\n",
      "/news/2021/11/26/solid-state-nmr-statistics\n",
      "/news/2021/11/24/LOV\n",
      "/news/2021/12/02/surprise-fm\n",
      "/news/2021/11/29/LA-Moire\n",
      "/news/2021/11/26/relativity-simulations\n",
      "/news/2021/11/24/apparent-horizon-merger\n",
      "https://nplus1.ru/blog/2021/12/01/physics-problems\n",
      "https://nplus1.ru/blog/2021/12/01/physics-problems\n",
      "https://nplus1.ru/blog/2021/11/30/into-the-abyss\n",
      "https://nplus1.ru/blog/2021/11/26/a-woman-s-heart\n",
      "https://nplus1.ru/blog/2021/11/25/deep-medicine\n",
      "https://nplus1.ru/blog/2021/11/23/the-russian-job\n",
      "https://nplus1.ru/blog/2021/11/11/a-surgeons-notes-on-performance\n",
      "https://nplus1.ru/blog/2021/11/02/rudalle\n",
      "https://nplus1.ru/blog/2021/11/03/dune-climate\n",
      "https://nplus1.ru/blog/2021/11/03/tales-from-both-sides-of-the-brain\n",
      "https://nplus1.ru/blog/2021/12/02/useful-delusions\n",
      "/\n",
      "/about\n",
      "https://nplus.pro\n",
      "/adv\n",
      "/rules\n",
      "/vacancy\n",
      "/difficult\n",
      "mailto:info@nplus1.ru\n",
      "https://nplus1.ru/personal-data-policy\n",
      "#\n",
      "https://t.me/nplusone\n",
      "http://vk.com/nplusone\n",
      "https://www.facebook.com/nplusone\n",
      "https://twitter.com/nplusodin\n",
      "https://ok.ru/nplus1\n",
      "https://soundcloud.com/nplus_1\n",
      "/rss\n"
     ]
    }
   ],
   "source": [
    "for link in soup.find_all('a'):\n",
    "    print(link.get('href'))"
   ]
  },
  {
   "cell_type": "markdown",
   "metadata": {},
   "source": [
    "Ссылок много. Но нам нужны только новости – ссылки, которые начинаются со слова `/news`. Добавим условие: будем выбирать только те ссылки, в которых есть `/news`. Создадим пустой список `urls` и будем добавлять в него только ссылки, которые удовлетворяют этому условию."
   ]
  },
  {
   "cell_type": "code",
   "execution_count": 9,
   "metadata": {},
   "outputs": [
    {
     "data": {
      "text/plain": [
       "['/news/2021/12/03/b62-12',\n",
       " '/news/2021/12/03/quantum-OPM-MEG',\n",
       " '/news/2021/12/03/qualcomm-always-on',\n",
       " '/news/2021/12/03/e-coli-inf',\n",
       " '/news/2021/12/03/cabless',\n",
       " '/news/2021/12/03/japanmissiles',\n",
       " '/news/2021/12/03/tenet-of-sound',\n",
       " '/news/2021/12/03/adenovirus-thrombosis',\n",
       " '/news/2021/12/03/gj-367-b',\n",
       " '/news/2021/12/03/stingray',\n",
       " '/news/2021/12/03/equids-stone-artefacts',\n",
       " '/news/2021/12/03/bronze-age-hoards',\n",
       " '/news/2021/12/03/lonesome-otter',\n",
       " '/news/2021/12/03/stegouros-elengassen',\n",
       " '/news/2021/12/03/neutron-rocket',\n",
       " '/news/2021/12/02/activity-of-cumbre-vieja',\n",
       " '/news/2021/12/02/drone-perching',\n",
       " '/news/2021/12/02/lead-whites',\n",
       " '/news/2021/12/02/surprise-fm',\n",
       " '/news/2021/11/30/skyrmion-light-beam',\n",
       " '/news/2021/11/25/heavy-fermions',\n",
       " '/news/2021/11/24/e-v-reconstruction',\n",
       " '/news/2021/11/26/solid-state-nmr-statistics',\n",
       " '/news/2021/11/24/LOV',\n",
       " '/news/2021/12/02/surprise-fm',\n",
       " '/news/2021/11/29/LA-Moire',\n",
       " '/news/2021/11/26/relativity-simulations',\n",
       " '/news/2021/11/24/apparent-horizon-merger']"
      ]
     },
     "execution_count": 9,
     "metadata": {},
     "output_type": "execute_result"
    }
   ],
   "source": [
    "urls = []\n",
    "\n",
    "for link in soup.find_all('a'):\n",
    "    if '/news' in link.get('href'):\n",
    "        urls.append(link.get('href'))\n",
    "urls"
   ]
  },
  {
   "cell_type": "markdown",
   "metadata": {},
   "source": [
    "Ссылки, которые у нас есть в списке `urls`, относительные: они неполные, начало ссылки (название сайта) отсутствует. Давайте превратим их в абсолютные ‒ склеим с ссылкой https://nplus1.ru."
   ]
  },
  {
   "cell_type": "code",
   "execution_count": 10,
   "metadata": {},
   "outputs": [
    {
     "data": {
      "text/plain": [
       "['https://nplus1.ru/news/2021/12/03/b62-12',\n",
       " 'https://nplus1.ru/news/2021/12/03/quantum-OPM-MEG',\n",
       " 'https://nplus1.ru/news/2021/12/03/qualcomm-always-on',\n",
       " 'https://nplus1.ru/news/2021/12/03/e-coli-inf',\n",
       " 'https://nplus1.ru/news/2021/12/03/cabless',\n",
       " 'https://nplus1.ru/news/2021/12/03/japanmissiles',\n",
       " 'https://nplus1.ru/news/2021/12/03/tenet-of-sound',\n",
       " 'https://nplus1.ru/news/2021/12/03/adenovirus-thrombosis',\n",
       " 'https://nplus1.ru/news/2021/12/03/gj-367-b',\n",
       " 'https://nplus1.ru/news/2021/12/03/stingray',\n",
       " 'https://nplus1.ru/news/2021/12/03/equids-stone-artefacts',\n",
       " 'https://nplus1.ru/news/2021/12/03/bronze-age-hoards',\n",
       " 'https://nplus1.ru/news/2021/12/03/lonesome-otter',\n",
       " 'https://nplus1.ru/news/2021/12/03/stegouros-elengassen',\n",
       " 'https://nplus1.ru/news/2021/12/03/neutron-rocket',\n",
       " 'https://nplus1.ru/news/2021/12/02/activity-of-cumbre-vieja',\n",
       " 'https://nplus1.ru/news/2021/12/02/drone-perching',\n",
       " 'https://nplus1.ru/news/2021/12/02/lead-whites',\n",
       " 'https://nplus1.ru/news/2021/12/02/surprise-fm',\n",
       " 'https://nplus1.ru/news/2021/11/30/skyrmion-light-beam',\n",
       " 'https://nplus1.ru/news/2021/11/25/heavy-fermions',\n",
       " 'https://nplus1.ru/news/2021/11/24/e-v-reconstruction',\n",
       " 'https://nplus1.ru/news/2021/11/26/solid-state-nmr-statistics',\n",
       " 'https://nplus1.ru/news/2021/11/24/LOV',\n",
       " 'https://nplus1.ru/news/2021/12/02/surprise-fm',\n",
       " 'https://nplus1.ru/news/2021/11/29/LA-Moire',\n",
       " 'https://nplus1.ru/news/2021/11/26/relativity-simulations',\n",
       " 'https://nplus1.ru/news/2021/11/24/apparent-horizon-merger']"
      ]
     },
     "execution_count": 10,
     "metadata": {},
     "output_type": "execute_result"
    }
   ],
   "source": [
    "full_urls = []\n",
    "\n",
    "for u in urls:\n",
    "    res = 'https://nplus1.ru' + u\n",
    "    full_urls.append(res) \n",
    "\n",
    "full_urls"
   ]
  },
  {
   "cell_type": "markdown",
   "metadata": {},
   "source": [
    "Теперь наша задача сводится к следующему: изучить одну страницу с новостью, научиться из нее вытаскивать текст и всю необходимую информацию, а потом применить весь набор действий к каждой ссылке из `full_urls` в цикле. Посмотрим на новость с индексом 1, у вас может быть другая, новости обновляются."
   ]
  },
  {
   "cell_type": "code",
   "execution_count": 11,
   "metadata": {},
   "outputs": [],
   "source": [
    "url0 = full_urls[1]\n",
    "\n",
    "page0 = requests.get(url0)\n",
    "soup0 = BeautifulSoup(page0.text)"
   ]
  },
  {
   "cell_type": "markdown",
   "metadata": {},
   "source": [
    "В коде каждой страницы с новостью есть часть с мета-информацией: датой, именем автора и проч. Такая информация окружена тэгом `<meta></meta>`. Посмотрим:"
   ]
  },
  {
   "cell_type": "code",
   "execution_count": 12,
   "metadata": {},
   "outputs": [
    {
     "data": {
      "text/plain": [
       "[<meta charset=\"utf-8\"/>,\n",
       " <meta content=\"ie=edge\" http-equiv=\"x-ua-compatible\"/>,\n",
       " <meta content=\"width=device-width, initial-scale=1\" name=\"viewport\"/>,\n",
       " <meta content=\"yes\" name=\"apple-mobile-web-app-capable\"/>,\n",
       " <meta content=\"black\" name=\"apple-mobile-web-app-status-bar-style\"/>,\n",
       " <meta content=\"7991d7eb02d759f05b9050e111a7e3eb\" name=\"wmail-verification\"/>,\n",
       " <meta content=\"2021-12-03\" itemprop=\"datePublished\"/>,\n",
       " <meta content=\"Оксана Борзенкова\" name=\"mediator_author\"/>,\n",
       " <meta content=\"и сделать их удобнее в использовании\" name=\"description\"/>,\n",
       " <meta content=\"Оксана Борзенкова\" name=\"author\"/>,\n",
       " <meta content=\"\" name=\"copyright\"/>,\n",
       " <meta content=\"Магнитометры улучшили качество и скорость нейровизуализации\" property=\"og:title\"/>,\n",
       " <meta content=\"https://nplus1.ru/images/2021/12/02/bd8a26338c953792b2bac063e77fe5e4.jpg\" property=\"og:image\"/>,\n",
       " <meta content=\"https://nplus1.ru/news/2021/12/03/quantum-OPM-MEG\" property=\"og:url\"/>,\n",
       " <meta content=\"и сделать их удобнее в использовании\" property=\"og:description\"/>,\n",
       " <meta content=\"summary_large_image\" name=\"twitter:card\"/>,\n",
       " <meta content=\"@nplusodin\" name=\"twitter:site\"/>,\n",
       " <meta content=\"Магнитометры улучшили качество и скорость нейровизуализации\" name=\"twitter:title\"/>,\n",
       " <meta content=\"и сделать их удобнее в использовании\" name=\"twitter:description\"/>,\n",
       " <meta content=\"https://nplus1.ru/images/2021/12/02/bd8a26338c953792b2bac063e77fe5e4.jpg\" name=\"twitter:image\"/>,\n",
       " <meta content=\"8c90b02c84ac3b72\" name=\"yandex-verification\"/>]"
      ]
     },
     "execution_count": 12,
     "metadata": {},
     "output_type": "execute_result"
    }
   ],
   "source": [
    "soup0.find_all('meta')"
   ]
  },
  {
   "cell_type": "markdown",
   "metadata": {},
   "source": [
    "Из этого списка нам нужны части с именем автора, датой, заголовком и кратким описанием. Воспользуемся поиском по атрибуту `name`. Передадим функции `find_all()` в качестве аргумента словарь с названием и значением атрибута: "
   ]
  },
  {
   "cell_type": "code",
   "execution_count": 13,
   "metadata": {},
   "outputs": [
    {
     "data": {
      "text/plain": [
       "[<meta content=\"Оксана Борзенкова\" name=\"author\"/>]"
      ]
     },
     "execution_count": 13,
     "metadata": {},
     "output_type": "execute_result"
    }
   ],
   "source": [
    "soup0.find_all('meta', {'name' : 'author'}) # например, автор"
   ]
  },
  {
   "cell_type": "markdown",
   "metadata": {},
   "source": [
    "Теперь выберем единственный элемент полученного списка (с индексом 0):"
   ]
  },
  {
   "cell_type": "code",
   "execution_count": 14,
   "metadata": {},
   "outputs": [
    {
     "data": {
      "text/plain": [
       "<meta content=\"Оксана Борзенкова\" name=\"author\"/>"
      ]
     },
     "execution_count": 14,
     "metadata": {},
     "output_type": "execute_result"
    }
   ],
   "source": [
    "soup0.find_all('meta', {'name' : 'author'})[0]"
   ]
  },
  {
   "cell_type": "markdown",
   "metadata": {},
   "source": [
    "Нам нужно вытащить из этого объекта `content` – имя автора. Посмотрим на атрибуты:"
   ]
  },
  {
   "cell_type": "code",
   "execution_count": 15,
   "metadata": {},
   "outputs": [
    {
     "data": {
      "text/plain": [
       "{'name': 'author', 'content': 'Оксана Борзенкова'}"
      ]
     },
     "execution_count": 15,
     "metadata": {},
     "output_type": "execute_result"
    }
   ],
   "source": [
    "soup0.find_all('meta', {'name' : 'author'})[0].attrs"
   ]
  },
  {
   "cell_type": "markdown",
   "metadata": {},
   "source": [
    "Как получить отсюда `content`? Очень просто, ведь это словарь! А доставать из словаря значение по ключу мы умеем."
   ]
  },
  {
   "cell_type": "code",
   "execution_count": 16,
   "metadata": {},
   "outputs": [
    {
     "data": {
      "text/plain": [
       "'Оксана Борзенкова'"
      ]
     },
     "execution_count": 16,
     "metadata": {},
     "output_type": "execute_result"
    }
   ],
   "source": [
    "author = soup0.find_all('meta', {'name' : 'author'})[0].attrs['content']\n",
    "author"
   ]
  },
  {
   "cell_type": "markdown",
   "metadata": {},
   "source": [
    "Аналогичным образом извлечем дату, заголовок и описание."
   ]
  },
  {
   "cell_type": "code",
   "execution_count": 17,
   "metadata": {},
   "outputs": [],
   "source": [
    "date = soup0.find_all('meta', {'itemprop' : 'datePublished'})[0].attrs['content']\n",
    "title = soup0.find_all('meta', {'property' : 'og:title'})[0].attrs['content']\n",
    "description = soup0.find_all('meta', {'name' : 'description'})[0].attrs['content']"
   ]
  },
  {
   "cell_type": "markdown",
   "metadata": {},
   "source": [
    "Осталось вытащить рубрики и сложность текста. Если мы посмотрим на исходный код страницы, мы увидим, что нужная нам информация находится в тэгах `<p></p>`:"
   ]
  },
  {
   "cell_type": "code",
   "execution_count": 18,
   "metadata": {},
   "outputs": [
    {
     "data": {
      "text/plain": [
       "[<p class=\"table\">\n",
       " <a data-rubric=\"physics\" href=\"/rubric/physics\">Физика</a>\n",
       " <a data-rubric=\"biology\" href=\"/rubric/biology\">Биология</a>\n",
       " </p>,\n",
       " <p class=\"table\">\n",
       " <a href=\"/news/2021/12/03\">\n",
       " <time content=\"2021-12-03\" data-unix=\"1638544634\" itemprop=\"datePublished\">\n",
       " <span>18:17</span>\n",
       " <span>03 Дек. 2021</span>\n",
       " </time>\n",
       " </a>\n",
       " </p>,\n",
       " <p class=\"table\">\n",
       " <a href=\"/difficult/6.6\">\n",
       " <span>Сложность</span>\n",
       " <span class=\"difficult-value\">6.6</span>\n",
       " </a>\n",
       " </p>,\n",
       " <p class=\"title\"></p>,\n",
       " <p class=\"credits\">Aikaterini Gialopsou et al. / Nature, 2021</p>,\n",
       " <p>Ученые показали, как можно усовершенствовать существующие методы нейровизуализации с помощью атомного магнитометра с оптической накачкой. Благодаря высокой чувствительности и использованию оптических лучей, такое устройство позволяет с лучшим разрешением детектировать сигналы мозга и оказывается более удобным в применении. Работа <a href=\"https://www.nature.com/articles/s41598-021-01854-7\" rel=\"nofollow\" target=\"_blank\">опубликована</a> в журнале <i>Nature.</i><br/></p>,\n",
       " <p>На сегодняшний день различные методы визуализации работы мозга оказываются востребованы в двух важных направлениях — изучение и моделирование процессов, происходящих в мозге, и предсказание развития и реакции при лечении нейродегенеративных заболеваний. К сожалению, большинство устройств не позволяет одновременно получать качественное изображение и корректно регистрировать подряд идущие сигналы с высокой частотой. Например, <a href=\"https://ru.wikipedia.org/wiki/%D0%A4%D1%83%D0%BD%D0%BA%D1%86%D0%B8%D0%BE%D0%BD%D0%B0%D0%BB%D1%8C%D0%BD%D0%B0%D1%8F_%D0%BC%D0%B0%D0%B3%D0%BD%D0%B8%D1%82%D0%BD%D0%BE-%D1%80%D0%B5%D0%B7%D0%BE%D0%BD%D0%B0%D0%BD%D1%81%D0%BD%D0%B0%D1%8F_%D1%82%D0%BE%D0%BC%D0%BE%D0%B3%D1%80%D0%B0%D1%84%D0%B8%D1%8F#%D0%9F%D1%80%D0%BE%D1%81%D1%82%D1%80%D0%B0%D0%BD%D1%81%D1%82%D0%B2%D0%B5%D0%BD%D0%BD%D0%BE%D0%B5_%D1%80%D0%B0%D0%B7%D1%80%D0%B5%D1%88%D0%B5%D0%BD%D0%B8%D0%B5\" rel=\"nofollow\" target=\"_blank\">функциональная магнитно-резонансная томография</a> позволяет разглядеть подробно мелкие детали (до миллиметра), но имеет низкое временное разрешение; <a href=\"https://ru.wikipedia.org/wiki/%D0%A1%D0%9A%D0%92%D0%98%D0%94\" rel=\"nofollow\" target=\"_blank\" title=\"Link: https://ru.wikipedia.org/wiki/%D0%A1%D0%9A%D0%92%D0%98%D0%94\">электроэнцефалография</a>, наоборот, используется для наблюдения за процессами в реальном времени, но дает не очень точную картинку в пространстве. Получать изображения выского качества и временного разрешения позволяет метод <a href=\"https://ru.wikipedia.org/wiki/%D0%9C%D0%B0%D0%B3%D0%BD%D0%B8%D1%82%D0%BE%D1%8D%D0%BD%D1%86%D0%B5%D1%84%D0%B0%D0%BB%D0%BE%D0%B3%D1%80%D0%B0%D1%84%D0%B8%D1%8F\" rel=\"nofollow\" target=\"_blank\">магнитоэнцефалографии</a> (МЭГ), который тоже обладает рядом существенных недостатоков: имеет низкое соотношение сигнал-шум и требует специально оборудованных комнат и громоздкого оборудования. <br/>\n",
       " </p>,\n",
       " <p>В основе последнего метода лежит работа высокоточных сверхпроводниковых квантовых интерферометров (<a href=\"https://ru.wikipedia.org/wiki/%D0%A1%D0%9A%D0%92%D0%98%D0%94\" rel=\"nofollow\" target=\"_blank\" title=\"Link: https://ru.wikipedia.org/wiki/%D0%A1%D0%9A%D0%92%D0%98%D0%94\">СКВИД</a>-датчики), именно из-за которых технология не может обойтись без криогенных камер. Причем расположение детектирующих элементов внутри камеры нельзя менять, оно фиксировано и одинаково для каждого пациента. Из-за того, что сенсор приходится располагать далеко от источника сигналов — мозга — получаемый сигнал оказывается зашумлен и сильно подвержен влиянию окружающей среды. <br/></p>,\n",
       " <p>Несмотря на то, что магнитоэнцефалография применяется для исследования нейродегенеративных заболеваний, более компактное устройство с высоким соотношением сигнал-шум значительно расширило бы ее возможности. Группа ученых под руководством Питера Крюгера (<a title=\"Link: null\">Peter Krüger</a>) из Университета Сассекса показала, что таким устройством может стать МЭГ на основе магнитометров с оптической накачкой. Они сравнили удобство использования и ключевые параметры обоих методов. Для этого авторам пришлось подробно изучить влияние этих параметров на работу устройства и друг на друга. <br/></p>,\n",
       " <p></p>,\n",
       " <p class=\"title\">(a), (b) - два вида визуальный паттернов, на которые реагировал мозг испытуемых,  (c) и (d) как происхдоит исследование на основе магнитометров, а (e) и (f) - магнитоэнцефалография</p>,\n",
       " <p class=\"credits\">Aikaterini Gialopsou et al. / Nature, 2021</p>,\n",
       " <p>Теоретическое превосходство метода магнитометрии с оптической накачкой над классической магнитоэнцефалографией ученые проверяли экспериментально. Они регистрировали реакцию мозга трех здоровых пациентов двумя разными методами и сравнивали их по разным параметрам в одном и том же зрительном эксперименте. Испытуемые смотрели на экран, который мог отображать наборы картинок двух типов: случайное чередование светлого и темного кадров и последовательное чередование паттерна «шахматная доска» (чередование светлых и темных участков на одном кадре). Оба метода оказались стабильными при многократном повторении обоих экспериментов и отличались только для разных пациентов, что связано с их физиологическими особенностями. Параметр сигнал-шум для МЭГ с магнитометром оказался вдвое лучше МЭГ на базе СКВИД. Кроме того, ученым удалось зарегистрировать последовательные сигналы от двух соседних зрительных зон, что соответствует пространственному разрешению порядка десяти миллисекунд.<br/></p>,\n",
       " <p>Поскольку выборка для экспериментального исследования была ограничена, авторы планируют нацелить будущие исследования на демонстрацию воспроизводимости полученных результатов.<br/></p>,\n",
       " <p>\n",
       " Физики уже предпринимали попытки создания шлема на основе магнитометров, но <a href=\"https://nplus1.ru/news/2020/06/08/moving-meg-part-2\" target=\"_blank\">смогли</a> решить это задачу только частично. Кроме того, на основе магнитометров ученым уже удалось <a href=\"https://nplus1.ru/news/2015/12/23/finexus\" target=\"_blank\" title=\"Link: https://nplus1.ru/news/2015/12/23/finexus\">разработать</a> прототип чувствительной VR-перчатки и <a href=\"https://nplus1.ru/news/2021/11/02/reskin\" target=\"_blank\" title=\"Link: https://nplus1.ru/news/2021/11/02/reskin\">создать</a> компактный датчик прикосновений для роботизированных манипуляторов.</p>,\n",
       " <p><i>Оксана Борзенкова</i></p>,\n",
       " <p>Нашли опечатку? Выделите фрагмент и нажмите Ctrl+Enter.</p>,\n",
       " <p class=\"subtitle\">Какими бывают и как выглядят почвы России</p>,\n",
       " <p>Коэффициент сложности</p>,\n",
       " <p>Коэффициент сложности</p>,\n",
       " <p>Коэффициент сложности</p>,\n",
       " <p>Коэффициент сложности</p>,\n",
       " <p>Коэффициент сложности</p>,\n",
       " <p>Коэффициент сложности</p>,\n",
       " <p>Коэффициент сложности</p>,\n",
       " <p>Коэффициент сложности</p>,\n",
       " <p>Коэффициент сложности</p>,\n",
       " <p>Коэффициент сложности</p>,\n",
       " <p>© 2021 <i>N + 1</i> Интернет-издание   Свидетельство о регистрации СМИ Эл № ФС77-67614</p>,\n",
       " <p>Использование всех текстовых материалов без изменений в некоммерческих целях разрешается со ссылкой на <i>N + 1</i>. \n",
       "                         Все аудиовизуальные произведения являются собственностью своих авторов и правообладателей и используются \n",
       "                         только в образовательных и информационных целях. Если вы являетесь собственником того или иного произведения \n",
       "                         и не согласны с его размещением на нашем сайте, пожалуйста, напишите на kirill@nplus1.ru</p>,\n",
       " <p>Материалы, опубликованные в разделе «Блоги», отражают позиции их авторов, которые могут не совпадать с мнением редакции.</p>,\n",
       " <p>Сайт может содержать контент, не предназначенный для лиц младше 18 лет.</p>,\n",
       " <p>Связь с редакцией: <a href=\"mailto:info@nplus1.ru\">info@nplus1.ru</a></p>,\n",
       " <p>\n",
       " <a class=\"pd\" href=\"https://nplus1.ru/personal-data-policy\">Политика обработки персональных данных пользователей сайта</a>\n",
       " </p>,\n",
       " <p>\n",
       " <script async=\"\" src=\"//s.luxupcdnc.com/t/consent_195458.js\" type=\"text/javascript\"></script>\n",
       " <a href=\"#\" onclick=\"if(window.__lxG__consent__ !== undefined) {window.__lxG__consent__.showConsent()} else {alert('This function works only for users from the European Economic Area (EEA).')}; return false\">Change privacy settings</a>\n",
       " </p>,\n",
       " <p>\n",
       " </p>]"
      ]
     },
     "execution_count": 18,
     "metadata": {},
     "output_type": "execute_result"
    }
   ],
   "source": [
    "soup0.find_all('p')"
   ]
  },
  {
   "cell_type": "markdown",
   "metadata": {},
   "source": [
    "Выберем из полученного списка первый элемент и найдем в нем все тэги `<a>`:"
   ]
  },
  {
   "cell_type": "code",
   "execution_count": 19,
   "metadata": {},
   "outputs": [
    {
     "data": {
      "text/plain": [
       "[<a data-rubric=\"physics\" href=\"/rubric/physics\">Физика</a>,\n",
       " <a data-rubric=\"biology\" href=\"/rubric/biology\">Биология</a>]"
      ]
     },
     "execution_count": 19,
     "metadata": {},
     "output_type": "execute_result"
    }
   ],
   "source": [
    "soup0.find_all('p')[0].find_all('a')"
   ]
  },
  {
   "cell_type": "markdown",
   "metadata": {},
   "source": [
    "Получился список из одного элемента. Применим списковые включения – вытащим из каждого элемента (их могло бы быть больше) текст и поместим его в новый список `rubrics`."
   ]
  },
  {
   "cell_type": "code",
   "execution_count": 20,
   "metadata": {},
   "outputs": [
    {
     "data": {
      "text/plain": [
       "['Физика', 'Биология']"
      ]
     },
     "execution_count": 20,
     "metadata": {},
     "output_type": "execute_result"
    }
   ],
   "source": [
    "rubrics = [r.text for r in soup0.find_all('p')[0].find_all('a')]\n",
    "rubrics"
   ]
  },
  {
   "cell_type": "markdown",
   "metadata": {},
   "source": [
    "Осталась только сложность. Возьмем соответствующий кусок кода:"
   ]
  },
  {
   "cell_type": "code",
   "execution_count": 21,
   "metadata": {},
   "outputs": [
    {
     "data": {
      "text/plain": [
       "[<span class=\"difficult-value\">6.6</span>]"
      ]
     },
     "execution_count": 21,
     "metadata": {},
     "output_type": "execute_result"
    }
   ],
   "source": [
    "soup0.find_all('span', {'class' : 'difficult-value'})"
   ]
  },
  {
   "cell_type": "markdown",
   "metadata": {},
   "source": [
    "Теперь осталось совсем чуть-чуть. Написать готовую функцию для всех проделанных нами действий и применить ее в цикле для всех ссылок в списке `full_urls`. Напишем! Аргументом функции будет ссылка на новость, а возвращать она будет текст новости и всю необходимую информацию (дата, автор, сложность и проч.). Скопируем все строки кода выше."
   ]
  },
  {
   "cell_type": "code",
   "execution_count": 22,
   "metadata": {},
   "outputs": [],
   "source": [
    "def GetNews(url0):\n",
    "    \"\"\"\n",
    "    Returns a tuple with url0, date, author, description, title, final_text, rubrics, diff.\n",
    "    Parameters:\n",
    "    \n",
    "    url0 is a link to the news (string)\n",
    "    \"\"\"\n",
    "    page0 = requests.get(url0)\n",
    "    soup0 = BeautifulSoup(page0.text)\n",
    "    author = soup0.find_all('meta', {'name' : 'author'})[0].attrs['content']\n",
    "    date = soup0.find_all('meta', {'itemprop' : 'datePublished'})[0].attrs['content']\n",
    "    title = soup0.find_all('meta', {'property' : 'og:title'})[0].attrs['content']\n",
    "    description = soup0.find_all('meta', {'name' : 'description'})[0].attrs['content']\n",
    "    rubrics = [r.text for r in soup0.find_all('p')[0].find_all('a')]\n",
    "    diff = soup0.find_all('span', {'class' : 'difficult-value'})[0].text\n",
    "    \n",
    "    return url0, date, author, description, title, rubrics, diff"
   ]
  },
  {
   "cell_type": "markdown",
   "metadata": {},
   "source": [
    "Уфф. Осталось применить ее в цикле. Но давайте не будем спешить: импортируем функцию `sleep` для задержки, чтобы на каждой итерации цикла, прежде чем перейти к следующей новости, Python ждал несколько секунд. Во-первых, это нужно, чтобы сайт «не понял», чтобы мы его грабим, да еще автоматически. Во-вторых, с небольшой задержкой всегда есть гарантия, что страница прогрузится (сейчас это пока не очень важно, но особенно актуально будет, когда будем обсуждать встраивание в браузер с Selenium). Приступим."
   ]
  },
  {
   "cell_type": "code",
   "execution_count": 23,
   "metadata": {},
   "outputs": [],
   "source": [
    "from time import sleep"
   ]
  },
  {
   "cell_type": "code",
   "execution_count": 24,
   "metadata": {},
   "outputs": [],
   "source": [
    "news = [] # это будет список из кортежей, в которых будут храниться данные по каждой новости\n",
    "\n",
    "for link in full_urls:\n",
    "    res = GetNews(link)\n",
    "    news.append(res)\n",
    "    sleep(3) # задержка в 3 секунды"
   ]
  },
  {
   "cell_type": "markdown",
   "metadata": {},
   "source": [
    "Так теперь выглядит первый элемент списка:"
   ]
  },
  {
   "cell_type": "code",
   "execution_count": 25,
   "metadata": {},
   "outputs": [
    {
     "data": {
      "text/plain": [
       "('https://nplus1.ru/news/2021/12/03/b62-12',\n",
       " '2021-12-03',\n",
       " 'Василиса Чернявцева',\n",
       " 'Полномасштабное серийное производство боеприпаса начнется в мае 2022 года и завершится в 2026 финансовом году',\n",
       " 'Американцы собрали первую серийную модернизированную термоядерную бомбу',\n",
       " ['Оружие'],\n",
       " '2.8')"
      ]
     },
     "execution_count": 25,
     "metadata": {},
     "output_type": "execute_result"
    }
   ],
   "source": [
    "news[0]"
   ]
  },
  {
   "cell_type": "markdown",
   "metadata": {},
   "source": [
    "Импортируем `pandas` и создадим датафрейм из списка кортежей: "
   ]
  },
  {
   "cell_type": "code",
   "execution_count": 26,
   "metadata": {},
   "outputs": [],
   "source": [
    "import pandas as pd"
   ]
  },
  {
   "cell_type": "code",
   "execution_count": 27,
   "metadata": {},
   "outputs": [],
   "source": [
    "df = pd.DataFrame(news)"
   ]
  },
  {
   "cell_type": "code",
   "execution_count": 28,
   "metadata": {},
   "outputs": [
    {
     "data": {
      "text/html": [
       "<div>\n",
       "<style scoped>\n",
       "    .dataframe tbody tr th:only-of-type {\n",
       "        vertical-align: middle;\n",
       "    }\n",
       "\n",
       "    .dataframe tbody tr th {\n",
       "        vertical-align: top;\n",
       "    }\n",
       "\n",
       "    .dataframe thead th {\n",
       "        text-align: right;\n",
       "    }\n",
       "</style>\n",
       "<table border=\"1\" class=\"dataframe\">\n",
       "  <thead>\n",
       "    <tr style=\"text-align: right;\">\n",
       "      <th></th>\n",
       "      <th>0</th>\n",
       "      <th>1</th>\n",
       "      <th>2</th>\n",
       "      <th>3</th>\n",
       "      <th>4</th>\n",
       "      <th>5</th>\n",
       "      <th>6</th>\n",
       "    </tr>\n",
       "  </thead>\n",
       "  <tbody>\n",
       "    <tr>\n",
       "      <th>0</th>\n",
       "      <td>https://nplus1.ru/news/2021/12/03/b62-12</td>\n",
       "      <td>2021-12-03</td>\n",
       "      <td>Василиса Чернявцева</td>\n",
       "      <td>Полномасштабное серийное производство боеприпа...</td>\n",
       "      <td>Американцы собрали первую серийную модернизиро...</td>\n",
       "      <td>[Оружие]</td>\n",
       "      <td>2.8</td>\n",
       "    </tr>\n",
       "    <tr>\n",
       "      <th>1</th>\n",
       "      <td>https://nplus1.ru/news/2021/12/03/quantum-OPM-MEG</td>\n",
       "      <td>2021-12-03</td>\n",
       "      <td>Оксана Борзенкова</td>\n",
       "      <td>и сделать их удобнее в использовании</td>\n",
       "      <td>Магнитометры улучшили качество и скорость нейр...</td>\n",
       "      <td>[Физика, Биология]</td>\n",
       "      <td>6.6</td>\n",
       "    </tr>\n",
       "  </tbody>\n",
       "</table>\n",
       "</div>"
      ],
      "text/plain": [
       "                                                   0           1  \\\n",
       "0           https://nplus1.ru/news/2021/12/03/b62-12  2021-12-03   \n",
       "1  https://nplus1.ru/news/2021/12/03/quantum-OPM-MEG  2021-12-03   \n",
       "\n",
       "                     2                                                  3  \\\n",
       "0  Василиса Чернявцева  Полномасштабное серийное производство боеприпа...   \n",
       "1    Оксана Борзенкова               и сделать их удобнее в использовании   \n",
       "\n",
       "                                                   4                   5    6  \n",
       "0  Американцы собрали первую серийную модернизиро...            [Оружие]  2.8  \n",
       "1  Магнитометры улучшили качество и скорость нейр...  [Физика, Биология]  6.6  "
      ]
     },
     "execution_count": 28,
     "metadata": {},
     "output_type": "execute_result"
    }
   ],
   "source": [
    "df.head(2)"
   ]
  },
  {
   "cell_type": "markdown",
   "metadata": {},
   "source": [
    "Переименуем столбцы в базе."
   ]
  },
  {
   "cell_type": "code",
   "execution_count": 30,
   "metadata": {},
   "outputs": [],
   "source": [
    "df.columns = ['link', 'date', 'author', 'desc', 'title', 'rubric', 'diffc']"
   ]
  },
  {
   "cell_type": "code",
   "execution_count": 31,
   "metadata": {},
   "outputs": [
    {
     "data": {
      "text/html": [
       "<div>\n",
       "<style scoped>\n",
       "    .dataframe tbody tr th:only-of-type {\n",
       "        vertical-align: middle;\n",
       "    }\n",
       "\n",
       "    .dataframe tbody tr th {\n",
       "        vertical-align: top;\n",
       "    }\n",
       "\n",
       "    .dataframe thead th {\n",
       "        text-align: right;\n",
       "    }\n",
       "</style>\n",
       "<table border=\"1\" class=\"dataframe\">\n",
       "  <thead>\n",
       "    <tr style=\"text-align: right;\">\n",
       "      <th></th>\n",
       "      <th>link</th>\n",
       "      <th>date</th>\n",
       "      <th>author</th>\n",
       "      <th>desc</th>\n",
       "      <th>title</th>\n",
       "      <th>rubric</th>\n",
       "      <th>diffc</th>\n",
       "    </tr>\n",
       "  </thead>\n",
       "  <tbody>\n",
       "    <tr>\n",
       "      <th>0</th>\n",
       "      <td>https://nplus1.ru/news/2021/12/03/b62-12</td>\n",
       "      <td>2021-12-03</td>\n",
       "      <td>Василиса Чернявцева</td>\n",
       "      <td>Полномасштабное серийное производство боеприпа...</td>\n",
       "      <td>Американцы собрали первую серийную модернизиро...</td>\n",
       "      <td>[Оружие]</td>\n",
       "      <td>2.8</td>\n",
       "    </tr>\n",
       "    <tr>\n",
       "      <th>1</th>\n",
       "      <td>https://nplus1.ru/news/2021/12/03/quantum-OPM-MEG</td>\n",
       "      <td>2021-12-03</td>\n",
       "      <td>Оксана Борзенкова</td>\n",
       "      <td>и сделать их удобнее в использовании</td>\n",
       "      <td>Магнитометры улучшили качество и скорость нейр...</td>\n",
       "      <td>[Физика, Биология]</td>\n",
       "      <td>6.6</td>\n",
       "    </tr>\n",
       "  </tbody>\n",
       "</table>\n",
       "</div>"
      ],
      "text/plain": [
       "                                                link        date  \\\n",
       "0           https://nplus1.ru/news/2021/12/03/b62-12  2021-12-03   \n",
       "1  https://nplus1.ru/news/2021/12/03/quantum-OPM-MEG  2021-12-03   \n",
       "\n",
       "                author                                               desc  \\\n",
       "0  Василиса Чернявцева  Полномасштабное серийное производство боеприпа...   \n",
       "1    Оксана Борзенкова               и сделать их удобнее в использовании   \n",
       "\n",
       "                                               title              rubric diffc  \n",
       "0  Американцы собрали первую серийную модернизиро...            [Оружие]   2.8  \n",
       "1  Магнитометры улучшили качество и скорость нейр...  [Физика, Биология]   6.6  "
      ]
     },
     "execution_count": 31,
     "metadata": {},
     "output_type": "execute_result"
    }
   ],
   "source": [
    "df.head(2)"
   ]
  },
  {
   "cell_type": "markdown",
   "metadata": {},
   "source": [
    "Теперь внесем изменения: сделаем столбец `diffc` числовым – типа *float*."
   ]
  },
  {
   "cell_type": "code",
   "execution_count": 32,
   "metadata": {},
   "outputs": [],
   "source": [
    "df.to_excel('nplus-news.xlsx')"
   ]
  }
 ],
 "metadata": {
  "kernelspec": {
   "display_name": "Python 3",
   "language": "python",
   "name": "python3"
  },
  "language_info": {
   "codemirror_mode": {
    "name": "ipython",
    "version": 3
   },
   "file_extension": ".py",
   "mimetype": "text/x-python",
   "name": "python",
   "nbconvert_exporter": "python",
   "pygments_lexer": "ipython3",
   "version": "3.8.5"
  }
 },
 "nbformat": 4,
 "nbformat_minor": 2
}

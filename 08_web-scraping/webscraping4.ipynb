{
 "cells": [
  {
   "cell_type": "markdown",
   "metadata": {},
   "source": [
    "# Основы программирования в Python\n",
    "\n",
    "*Автор: Анастасия Паршина, НИУ ВШЭ*  \n",
    "\n",
    "## Web-scraping: скрэйпинг сайта с новостями\n",
    "\n",
    "Дана ссылка на [сайт газеты \"Московский комсомолец\"](https://www.mk.ru/news/). Соберите ссылки на новости первой страницы, заголовок. Пройдите по ссылкам и соберите количество просмотров, хэштеги статьи и время публикации. "
   ]
  },
  {
   "cell_type": "code",
   "execution_count": 2,
   "metadata": {},
   "outputs": [],
   "source": [
    "import requests\n",
    "from bs4 import BeautifulSoup \n",
    "from time import sleep\n",
    "import pandas as pd"
   ]
  },
  {
   "cell_type": "code",
   "execution_count": 3,
   "metadata": {},
   "outputs": [],
   "source": [
    "url = 'https://www.mk.ru/news/'\n",
    "page = requests.get(url)\n",
    "soup = BeautifulSoup(page.text)"
   ]
  },
  {
   "cell_type": "code",
   "execution_count": 4,
   "metadata": {},
   "outputs": [
    {
     "data": {
      "text/plain": [
       "<li class=\"news-listing__item\">\n",
       "<a class=\"news-listing__item-link\" href=\"https://www.mk.ru/politics/2022/04/22/v-ldpr-vystupili-za-status-glavnogo-protivnika-rossii-dlya-ssha.html\">\n",
       "<span class=\"news-listing__item-time\">18:00</span>\n",
       "<h3 class=\"news-listing__item-title\">В ЛДПР выступили за статус «главного противника России» для США</h3>\n",
       "</a>\n",
       "</li>"
      ]
     },
     "execution_count": 4,
     "metadata": {},
     "output_type": "execute_result"
    }
   ],
   "source": [
    "article = soup.find_all('li', attrs = {'class' : 'news-listing__item'})[0]\n",
    "article"
   ]
  },
  {
   "cell_type": "code",
   "execution_count": 5,
   "metadata": {},
   "outputs": [
    {
     "data": {
      "text/plain": [
       "'https://www.mk.ru/politics/2022/04/22/v-ldpr-vystupili-za-status-glavnogo-protivnika-rossii-dlya-ssha.html'"
      ]
     },
     "execution_count": 5,
     "metadata": {},
     "output_type": "execute_result"
    }
   ],
   "source": [
    "url0 = article.find_all('a')[0].get('href')\n",
    "url0"
   ]
  },
  {
   "cell_type": "code",
   "execution_count": 6,
   "metadata": {},
   "outputs": [
    {
     "data": {
      "text/plain": [
       "'В ЛДПР выступили за статус «главного противника России» для США'"
      ]
     },
     "execution_count": 6,
     "metadata": {},
     "output_type": "execute_result"
    }
   ],
   "source": [
    "title = article.find('h3').text\n",
    "title"
   ]
  },
  {
   "cell_type": "code",
   "execution_count": 13,
   "metadata": {},
   "outputs": [],
   "source": [
    "page0 = requests.get(url0)\n",
    "soup0 = BeautifulSoup(page0.text)"
   ]
  },
  {
   "cell_type": "code",
   "execution_count": 14,
   "metadata": {},
   "outputs": [
    {
     "data": {
      "text/plain": [
       "3526"
      ]
     },
     "execution_count": 14,
     "metadata": {},
     "output_type": "execute_result"
    }
   ],
   "source": [
    "views = int(soup0.find_all('span', attrs = {'class' : 'meta__item_views'})[0].text.strip())\n",
    "views"
   ]
  },
  {
   "cell_type": "markdown",
   "metadata": {},
   "source": [
    "Можно также, например, вытащить теги внизу статьи. Однако они есть не всегда. [Пример статьи без тегов](https://www.mk.ru/social/2021/12/09/passazhiry-bez-qrkodov-mogut-lishitsya-kompensacii-za-kuplennye-bilety.html). Поэтому проверяем условие -- а есть ли вообще эти теги на странице?"
   ]
  },
  {
   "cell_type": "code",
   "execution_count": 16,
   "metadata": {},
   "outputs": [],
   "source": [
    "if len(soup0.find_all('div', attrs = {'class' : 'article__tag'})) == 0:\n",
    "    tags = 'Нет тегов'\n",
    "else:\n",
    "    tags = [i.text for i in soup0.find_all('div', attrs = {'class' : 'article__tag'})[0].find_all('a')]"
   ]
  },
  {
   "cell_type": "code",
   "execution_count": 18,
   "metadata": {},
   "outputs": [],
   "source": [
    "news = {}\n",
    "\n",
    "for a in soup.find_all('li', attrs = {'class' : 'news-listing__item'})[:4]:\n",
    "    url0 = a.find_all('a')[0].get('href')\n",
    "    title = a.find('h3').text\n",
    "    time = a.find('span').text\n",
    "    \n",
    "    page0 = requests.get(url0)\n",
    "    soup0 = BeautifulSoup(page0.text)\n",
    "    views = int(soup0.find_all('span', attrs = {'class' : 'meta__item_views'})[0].text.strip())\n",
    "    if len(soup0.find_all('div', attrs = {'class' : 'article__tag'})) == 0:\n",
    "        tags = 'Нет тегов'\n",
    "    else:\n",
    "        tags = [i.text for i in soup0.find_all('div', attrs = {'class' : 'article__tag'})[0].find_all('a')]\n",
    "    sleep(2)\n",
    "    \n",
    "    news[title] = [time, views, tags, url0]"
   ]
  },
  {
   "cell_type": "code",
   "execution_count": 19,
   "metadata": {},
   "outputs": [
    {
     "data": {
      "text/html": [
       "<div>\n",
       "<style scoped>\n",
       "    .dataframe tbody tr th:only-of-type {\n",
       "        vertical-align: middle;\n",
       "    }\n",
       "\n",
       "    .dataframe tbody tr th {\n",
       "        vertical-align: top;\n",
       "    }\n",
       "\n",
       "    .dataframe thead th {\n",
       "        text-align: right;\n",
       "    }\n",
       "</style>\n",
       "<table border=\"1\" class=\"dataframe\">\n",
       "  <thead>\n",
       "    <tr style=\"text-align: right;\">\n",
       "      <th></th>\n",
       "      <th>Time</th>\n",
       "      <th>View</th>\n",
       "      <th>Tags</th>\n",
       "      <th>URL</th>\n",
       "    </tr>\n",
       "  </thead>\n",
       "  <tbody>\n",
       "    <tr>\n",
       "      <th>В ЛДПР выступили за статус «главного противника России» для США</th>\n",
       "      <td>18:00</td>\n",
       "      <td>2136</td>\n",
       "      <td>[ЛДПР, Государственная Дума РФ, ДПМ, Россия, США]</td>\n",
       "      <td>https://www.mk.ru/politics/2022/04/22/v-ldpr-v...</td>\n",
       "    </tr>\n",
       "    <tr>\n",
       "      <th>Ле Пен заявила, что Франция должна поспособствовать сближению России и НАТО</th>\n",
       "      <td>17:58</td>\n",
       "      <td>3138</td>\n",
       "      <td>[НАТО, Эммануэль Макрон, Россия, Франция, Укра...</td>\n",
       "      <td>https://www.mk.ru/politics/2022/04/22/le-pen-z...</td>\n",
       "    </tr>\n",
       "    <tr>\n",
       "      <th>Следствие потребовало арестовать журналиста Кара-Мурзу по делу о распространении фейков</th>\n",
       "      <td>17:56</td>\n",
       "      <td>1993</td>\n",
       "      <td>[Москва]</td>\n",
       "      <td>https://www.mk.ru/politics/2022/04/22/sledstvi...</td>\n",
       "    </tr>\n",
       "  </tbody>\n",
       "</table>\n",
       "</div>"
      ],
      "text/plain": [
       "                                                     Time  View  \\\n",
       "В ЛДПР выступили за статус «главного противника...  18:00  2136   \n",
       "Ле Пен заявила, что Франция должна поспособство...  17:58  3138   \n",
       "Следствие потребовало арестовать журналиста Кар...  17:56  1993   \n",
       "\n",
       "                                                                                                 Tags  \\\n",
       "В ЛДПР выступили за статус «главного противника...  [ЛДПР, Государственная Дума РФ, ДПМ, Россия, США]   \n",
       "Ле Пен заявила, что Франция должна поспособство...  [НАТО, Эммануэль Макрон, Россия, Франция, Укра...   \n",
       "Следствие потребовало арестовать журналиста Кар...                                           [Москва]   \n",
       "\n",
       "                                                                                                  URL  \n",
       "В ЛДПР выступили за статус «главного противника...  https://www.mk.ru/politics/2022/04/22/v-ldpr-v...  \n",
       "Ле Пен заявила, что Франция должна поспособство...  https://www.mk.ru/politics/2022/04/22/le-pen-z...  \n",
       "Следствие потребовало арестовать журналиста Кар...  https://www.mk.ru/politics/2022/04/22/sledstvi...  "
      ]
     },
     "execution_count": 19,
     "metadata": {},
     "output_type": "execute_result"
    }
   ],
   "source": [
    "# можно также сразу указывать, что у нас данные из словаря, orient='index' вместо transpose()\n",
    "df = pd.DataFrame.from_dict(news, orient = 'index', columns = ['Time', 'View', 'Tags', 'URL'])\n",
    "df.head(3)"
   ]
  },
  {
   "cell_type": "code",
   "execution_count": 20,
   "metadata": {},
   "outputs": [],
   "source": [
    "df.to_csv('news.csv')"
   ]
  }
 ],
 "metadata": {
  "kernelspec": {
   "display_name": "Python 3 (ipykernel)",
   "language": "python",
   "name": "python3"
  },
  "language_info": {
   "codemirror_mode": {
    "name": "ipython",
    "version": 3
   },
   "file_extension": ".py",
   "mimetype": "text/x-python",
   "name": "python",
   "nbconvert_exporter": "python",
   "pygments_lexer": "ipython3",
   "version": "3.9.7"
  }
 },
 "nbformat": 4,
 "nbformat_minor": 2
}

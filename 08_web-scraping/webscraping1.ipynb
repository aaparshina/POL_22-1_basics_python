{
 "cells": [
  {
   "cell_type": "markdown",
   "metadata": {
    "colab_type": "text",
    "id": "6coq6VkPKjBn"
   },
   "source": [
    "# Основы программирования в Python\n",
    "\n",
    "Автор: *Татьяна Рогович, НИУ ВШЭ*\n",
    "\n",
    "# Парсинг таблиц с Beautiful soup"
   ]
  },
  {
   "cell_type": "markdown",
   "metadata": {},
   "source": [
    "Мы с вами посмотрели как создавать html-файлы. Давайте начнем с игрушечного примера, чтобы теперь разобраться, как информацию из таблиц доставать."
   ]
  },
  {
   "cell_type": "markdown",
   "metadata": {
    "colab_type": "text",
    "id": "4V_Cb2t2KjEN"
   },
   "source": [
    "Сначала мы импортируем библиотеку `requests`. Она позволяет нам просто  и удобно посылать HTTP/1.1 запросы, не утруждаясь ручным трудом."
   ]
  },
  {
   "cell_type": "code",
   "execution_count": 7,
   "metadata": {},
   "outputs": [],
   "source": [
    "import codecs\n",
    "f=codecs.open(\"simple_table.html\", 'r')\n"
   ]
  },
  {
   "cell_type": "code",
   "execution_count": 10,
   "metadata": {},
   "outputs": [],
   "source": [
    "link = 'https://raw.githubusercontent.com/aaparshina/DPO_21_Python_for_Data_Analysis/main/12_WebScraping/simple_table.html'"
   ]
  },
  {
   "cell_type": "markdown",
   "metadata": {
    "colab_type": "text",
    "id": "PyXOofPIKjET"
   },
   "source": [
    "Теперь мы должны указать адрес страницы с которой мы будем скрейпить данные и сохраним ее в переменную `website_url`.\n",
    "`requests.get(url).text` обратиться к сайту и вернет `HTML` код сайта."
   ]
  },
  {
   "cell_type": "code",
   "execution_count": 11,
   "metadata": {},
   "outputs": [],
   "source": [
    "website_url = requests.get(link).text"
   ]
  },
  {
   "cell_type": "markdown",
   "metadata": {},
   "source": [
    "По ссылке совсем небольшой файл - почти такой же как тот, который мы с вами сделали в интерактивном тренажере."
   ]
  },
  {
   "cell_type": "code",
   "execution_count": 12,
   "metadata": {},
   "outputs": [
    {
     "data": {
      "text/plain": [
       "'<!DOCTYPE html>\\n<html>\\n<head>\\n<title>Page Title</title>\\n</head>\\n<body>\\n\\n<h1>Моя первая html-страница</h1>\\n<h2>О себе</h2>\\n<p>Я учусь создавать html-страницы.</p>\\n\\n<table border=\"1\">\\n<caption>Информация</caption>\\n<tr>\\n<th>Фамилия</th>\\n<th>Имя</th>\\n<th>Возраст</th>\\n</tr>\\n<tr>\\n<td>Тамбовцева</td>\\n<td>Алла</td>\\n<td>24</td>\\n</tr>\\n<tr>\\n<td>Иванов</td>\\n<td>Петр</td>\\n<td>32</td>\\n</tr>\\n<tr>\\n<td>Константинопольский</td>\\n<td>Константин</td>\\n<td>29</td>\\n</tr>\\n</table>\\n    \\n<table>\\n<tr>\\n<td>Тамбовцева</td>\\n<td>Алла</td>\\n<td>24</td>\\n</tr>\\n</table>\\n\\n</body>\\n</html>'"
      ]
     },
     "execution_count": 12,
     "metadata": {},
     "output_type": "execute_result"
    }
   ],
   "source": [
    "website_url"
   ]
  },
  {
   "cell_type": "markdown",
   "metadata": {
    "colab_type": "text",
    "id": "bT9LVvyEKjEX"
   },
   "source": [
    "Как мы видим, весь код представлен просто блоком текста, который неудобно читать и разбирать. Поэтому мы создадим объект `BeautifulSoup` с помощью функциии `BeautifulSoup`, предварительно импортировав саму библиотеку. `Beautiful Soup` это библиотека для парсинга `HTML` и `XML` документов. Она создает дерево из `HTML` кода, что очень полезно при скрейпинге. Функция `prettify()` позволяет видеть код в более удобном виде, в том числе с разбивкой по тегам."
   ]
  },
  {
   "cell_type": "code",
   "execution_count": 13,
   "metadata": {},
   "outputs": [
    {
     "name": "stdout",
     "output_type": "stream",
     "text": [
      "<!DOCTYPE html>\n",
      "<html>\n",
      " <head>\n",
      "  <title>\n",
      "   Page Title\n",
      "  </title>\n",
      " </head>\n",
      " <body>\n",
      "  <h1>\n",
      "   Моя первая html-страница\n",
      "  </h1>\n",
      "  <h2>\n",
      "   О себе\n",
      "  </h2>\n",
      "  <p>\n",
      "   Я учусь создавать html-страницы.\n",
      "  </p>\n",
      "  <table border=\"1\">\n",
      "   <caption>\n",
      "    Информация\n",
      "   </caption>\n",
      "   <tr>\n",
      "    <th>\n",
      "     Фамилия\n",
      "    </th>\n",
      "    <th>\n",
      "     Имя\n",
      "    </th>\n",
      "    <th>\n",
      "     Возраст\n",
      "    </th>\n",
      "   </tr>\n",
      "   <tr>\n",
      "    <td>\n",
      "     Тамбовцева\n",
      "    </td>\n",
      "    <td>\n",
      "     Алла\n",
      "    </td>\n",
      "    <td>\n",
      "     24\n",
      "    </td>\n",
      "   </tr>\n",
      "   <tr>\n",
      "    <td>\n",
      "     Иванов\n",
      "    </td>\n",
      "    <td>\n",
      "     Петр\n",
      "    </td>\n",
      "    <td>\n",
      "     32\n",
      "    </td>\n",
      "   </tr>\n",
      "   <tr>\n",
      "    <td>\n",
      "     Константинопольский\n",
      "    </td>\n",
      "    <td>\n",
      "     Константин\n",
      "    </td>\n",
      "    <td>\n",
      "     29\n",
      "    </td>\n",
      "   </tr>\n",
      "  </table>\n",
      "  <table>\n",
      "   <tr>\n",
      "    <td>\n",
      "     Тамбовцева\n",
      "    </td>\n",
      "    <td>\n",
      "     Алла\n",
      "    </td>\n",
      "    <td>\n",
      "     24\n",
      "    </td>\n",
      "   </tr>\n",
      "  </table>\n",
      " </body>\n",
      "</html>\n"
     ]
    }
   ],
   "source": [
    "from bs4 import BeautifulSoup\n",
    "\n",
    "soup = BeautifulSoup(website_url)\n",
    "print(soup.prettify())"
   ]
  },
  {
   "cell_type": "markdown",
   "metadata": {},
   "source": [
    "Видим, что .preffify() упорядочил наш html код и представил его в видел дерева и вложенных узлов. Давайте попробуем найти таблицу. За поиск отвечает метод .find_all(), которому мы передаем тэг для поиска."
   ]
  },
  {
   "cell_type": "code",
   "execution_count": 14,
   "metadata": {},
   "outputs": [
    {
     "name": "stdout",
     "output_type": "stream",
     "text": [
      "[<table border=\"1\">\n",
      "<caption>Информация</caption>\n",
      "<tr>\n",
      "<th>Фамилия</th>\n",
      "<th>Имя</th>\n",
      "<th>Возраст</th>\n",
      "</tr>\n",
      "<tr>\n",
      "<td>Тамбовцева</td>\n",
      "<td>Алла</td>\n",
      "<td>24</td>\n",
      "</tr>\n",
      "<tr>\n",
      "<td>Иванов</td>\n",
      "<td>Петр</td>\n",
      "<td>32</td>\n",
      "</tr>\n",
      "<tr>\n",
      "<td>Константинопольский</td>\n",
      "<td>Константин</td>\n",
      "<td>29</td>\n",
      "</tr>\n",
      "</table>, <table>\n",
      "<tr>\n",
      "<td>Тамбовцева</td>\n",
      "<td>Алла</td>\n",
      "<td>24</td>\n",
      "</tr>\n",
      "</table>]\n"
     ]
    }
   ],
   "source": [
    "tables = soup.find_all('table')\n",
    "print(tables)"
   ]
  },
  {
   "cell_type": "markdown",
   "metadata": {},
   "source": [
    "Получили на выходе список, который содержит все элементы, принадлежащие к тэгу. В этом примере таблиц у нас две, каждая из них является отдельным элементом списка."
   ]
  },
  {
   "cell_type": "code",
   "execution_count": 15,
   "metadata": {},
   "outputs": [
    {
     "data": {
      "text/plain": [
       "<table>\n",
       "<tr>\n",
       "<td>Тамбовцева</td>\n",
       "<td>Алла</td>\n",
       "<td>24</td>\n",
       "</tr>\n",
       "</table>"
      ]
     },
     "execution_count": 15,
     "metadata": {},
     "output_type": "execute_result"
    }
   ],
   "source": [
    "tables[1]"
   ]
  },
  {
   "cell_type": "markdown",
   "metadata": {},
   "source": [
    "Иногда таблиц очень много (уже скоро увидим такое на реальном примере), поэтому поисковый запрос можно уточнить с помощью аттрибутов тэга. Так, если посмотрим на код, увидим, что у нашей первой таблицы есть атрибут border со значением 1. Передадим это уточнение в bs в виде словаря. То, что до знака равно (атрибут) - ключ, а его значение - значение."
   ]
  },
  {
   "cell_type": "code",
   "execution_count": 18,
   "metadata": {},
   "outputs": [
    {
     "name": "stdout",
     "output_type": "stream",
     "text": [
      "[<table border=\"1\">\n",
      "<caption>Информация</caption>\n",
      "<tr>\n",
      "<th>Фамилия</th>\n",
      "<th>Имя</th>\n",
      "<th>Возраст</th>\n",
      "</tr>\n",
      "<tr>\n",
      "<td>Тамбовцева</td>\n",
      "<td>Алла</td>\n",
      "<td>24</td>\n",
      "</tr>\n",
      "<tr>\n",
      "<td>Иванов</td>\n",
      "<td>Петр</td>\n",
      "<td>32</td>\n",
      "</tr>\n",
      "<tr>\n",
      "<td>Константинопольский</td>\n",
      "<td>Константин</td>\n",
      "<td>29</td>\n",
      "</tr>\n",
      "</table>]\n"
     ]
    }
   ],
   "source": [
    "tables = soup.find_all('table', {'border':1}) # так поиск вернет только одну таблицу.\n",
    "print(tables)"
   ]
  },
  {
   "cell_type": "markdown",
   "metadata": {},
   "source": [
    "Давайте теперь, например, в один список сохраним фамилии людей из нашей таблицы, а в другой возраст."
   ]
  },
  {
   "cell_type": "code",
   "execution_count": 19,
   "metadata": {},
   "outputs": [
    {
     "name": "stdout",
     "output_type": "stream",
     "text": [
      "<tr>\n",
      "<th>Фамилия</th>\n",
      "<th>Имя</th>\n",
      "<th>Возраст</th>\n",
      "</tr>\n"
     ]
    }
   ],
   "source": [
    "rows = tables[0].find_all('tr') # нашли теперь все ряды в таблице\n",
    "print(rows[0])"
   ]
  },
  {
   "cell_type": "markdown",
   "metadata": {},
   "source": [
    "Нашли все ряды. Первый ряд с заголовками колонок (тэги th, можно его пропустить)."
   ]
  },
  {
   "cell_type": "code",
   "execution_count": 20,
   "metadata": {},
   "outputs": [
    {
     "data": {
      "text/plain": [
       "[<td>Тамбовцева</td>, <td>Алла</td>, <td>24</td>]"
      ]
     },
     "execution_count": 20,
     "metadata": {},
     "output_type": "execute_result"
    }
   ],
   "source": [
    "rows[1].find_all('td') "
   ]
  },
  {
   "cell_type": "markdown",
   "metadata": {},
   "source": [
    "Добрались до внутреннего тэга td - глубже идти некуда. Тут три элемента (три колонки). Давайте забирать отсюда возраст и фамилию."
   ]
  },
  {
   "cell_type": "code",
   "execution_count": 21,
   "metadata": {},
   "outputs": [
    {
     "data": {
      "text/plain": [
       "'Тамбовцева'"
      ]
     },
     "execution_count": 21,
     "metadata": {},
     "output_type": "execute_result"
    }
   ],
   "source": [
    "rows[1].find_all('td')[0].text.strip()"
   ]
  },
  {
   "cell_type": "markdown",
   "metadata": {},
   "source": [
    "Чтобы избавиться от тэгов используем атрибут text - выводит текст, который лежит между тэгами. Еще для надежности можно использовать strip() - удалит невидимые символы, если они есть, а если их нет, то ошибки тоже не выдаст."
   ]
  },
  {
   "cell_type": "code",
   "execution_count": 22,
   "metadata": {},
   "outputs": [
    {
     "name": "stdout",
     "output_type": "stream",
     "text": [
      "['Тамбовцева', 'Иванов', 'Константинопольский'] ['24', '32', '29']\n"
     ]
    }
   ],
   "source": [
    "surnames = []\n",
    "ages = []\n",
    "\n",
    "for row in rows[1:]: # начинаем цикл со второго объекта\n",
    "    surnames.append(row.find_all('td')[0].text.strip())\n",
    "    ages.append(row.find_all('td')[2].text.strip())\n",
    "    \n",
    "print(surnames, ages)"
   ]
  },
  {
   "cell_type": "markdown",
   "metadata": {},
   "source": [
    "А теперь давайте запишем собранную информацию в файл. Табличные данные часто хранятся в формате csv - comma separated values, поэтому будем просто записывать значения в текстовый файл через запятую."
   ]
  },
  {
   "cell_type": "code",
   "execution_count": 27,
   "metadata": {},
   "outputs": [],
   "source": [
    "with open('table.csv', 'w', encoding = 'utf8') as ouf:\n",
    "    for idx in range(len(surnames)):\n",
    "        print(f'{surnames[idx]},{ages[idx]}', file = ouf)"
   ]
  },
  {
   "cell_type": "code",
   "execution_count": 28,
   "metadata": {},
   "outputs": [
    {
     "name": "stdout",
     "output_type": "stream",
     "text": [
      "Тамбовцева,24\n",
      "\n",
      "Иванов,32\n",
      "\n",
      "Константинопольский,29\n",
      "\n"
     ]
    }
   ],
   "source": [
    "with open('table.csv', encoding='utf8') as f:\n",
    "    for line in f:\n",
    "        print(line)"
   ]
  }
 ],
 "metadata": {
  "colab": {
   "collapsed_sections": [],
   "name": "RISO_Exam.ipynb",
   "provenance": []
  },
  "kernelspec": {
   "display_name": "Python 3 (ipykernel)",
   "language": "python",
   "name": "python3"
  },
  "language_info": {
   "codemirror_mode": {
    "name": "ipython",
    "version": 3
   },
   "file_extension": ".py",
   "mimetype": "text/x-python",
   "name": "python",
   "nbconvert_exporter": "python",
   "pygments_lexer": "ipython3",
   "version": "3.9.7"
  }
 },
 "nbformat": 4,
 "nbformat_minor": 2
}

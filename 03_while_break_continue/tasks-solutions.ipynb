{
 "cells": [
  {
   "cell_type": "markdown",
   "metadata": {},
   "source": [
    "# Основы программирования в Python\n",
    "\n",
    "*Автор: Алла Тамбовцева, Валентина Лебедева, НИУ ВШЭ*\n",
    "\n",
    "## Задачи 2"
   ]
  },
  {
   "cell_type": "markdown",
   "metadata": {},
   "source": [
    "### Задание 1. Максимум последовательности\n",
    "\n",
    "Последовательность состоит из заданного числа целых положительных чисел. Определите значение наибольшего элемента последовательности. \n",
    "\n",
    "**ФОРМАТ ВВОДА**\n",
    "\n",
    "+ Cначала вводится число N, затем вводится ровно N целых чисел.\n",
    "+ Каждое число вводится с новой строки  \n",
    "\n",
    "**ФОРМАТ ВЫВОДА**\n",
    "\n",
    "+ Одно число, ответ на задачу."
   ]
  },
  {
   "cell_type": "code",
   "execution_count": 1,
   "metadata": {},
   "outputs": [
    {
     "name": "stdout",
     "output_type": "stream",
     "text": [
      "7\n"
     ]
    },
    {
     "data": {
      "text/plain": [
       "7"
      ]
     },
     "execution_count": 1,
     "metadata": {},
     "output_type": "execute_result"
    }
   ],
   "source": [
    "N = int(input())\n",
    "N"
   ]
  },
  {
   "cell_type": "code",
   "execution_count": 2,
   "metadata": {},
   "outputs": [
    {
     "name": "stdout",
     "output_type": "stream",
     "text": [
      "3\n",
      "4\n",
      "6\n",
      "1\n",
      "2\n",
      "5\n",
      "2\n"
     ]
    }
   ],
   "source": [
    "x = 0\n",
    "\n",
    "maxi = -1\n",
    "\n",
    "while x != N:\n",
    "    num = int(input())\n",
    "    \n",
    "    if num > maxi:\n",
    "        maxi = num\n",
    "        \n",
    "    x += 1"
   ]
  },
  {
   "cell_type": "code",
   "execution_count": 3,
   "metadata": {},
   "outputs": [
    {
     "name": "stdout",
     "output_type": "stream",
     "text": [
      "6\n"
     ]
    }
   ],
   "source": [
    "print(maxi)"
   ]
  },
  {
   "cell_type": "markdown",
   "metadata": {},
   "source": [
    "### Задание 2. Больше предыдущего\n",
    "\n",
    "Последовательность состоит из натуральных чисел и завершается числом 0. Определите, сколько элементов этой последовательности больше предыдущего элемента. \n",
    "\n",
    "\n",
    "**ФОТРМАТ ВВОДА**\n",
    "\n",
    "+ Вводится последовательность целых чисел, оканчивающаяся числом 0 (само число 0 в последовательность не входит, а служит как признак ее окончания). \n",
    "\n",
    "+ Каждое число вводится на новой строке.\n",
    "\n",
    "**ФОРМАТ ВЫВОДА**\n",
    "\n",
    "+ Одно число, ответ на задачу.\n",
    "\n",
    "\n",
    "*Подсказка* Обработайте первое число до цикла и сохраните его в отдельную переменную (предыдущее число). Проверьте, что ваша программа правильно работает для пустой последовательности."
   ]
  },
  {
   "cell_type": "code",
   "execution_count": 4,
   "metadata": {},
   "outputs": [
    {
     "name": "stdout",
     "output_type": "stream",
     "text": [
      "2\n",
      "6\n",
      "8\n",
      "2\n",
      "5\n",
      "8\n",
      "10\n",
      "0\n",
      "5\n"
     ]
    }
   ],
   "source": [
    "prev = int(input())\n",
    "\n",
    "a = 0\n",
    "\n",
    "while prev != 0:\n",
    "    next_num = int(input())\n",
    "    \n",
    "    if next_num != 0 and prev < next_num:\n",
    "        a += 1\n",
    "    \n",
    "    prev = next_num\n",
    "    \n",
    "print(a)"
   ]
  },
  {
   "cell_type": "markdown",
   "metadata": {},
   "source": [
    "### Задание 3. Квадраты натуральных чисел\n",
    "\n",
    "Дано число N. В порядке возрастания выведите все квадраты натуральных чисел, которые будут меньше либо равны N. \n",
    "\n",
    "**ФОРМАТ ВВОДА** \n",
    "\n",
    "+ N  — положительное целое число. \n",
    "\n",
    "**ФОРМАТ ВЫВОДА** \n",
    "\n",
    "+ Квадраты целых чисел, не превосходящие (меньше или равно) N в порядке возрастания. \n",
    "+ Каждое число на новой строке."
   ]
  },
  {
   "cell_type": "code",
   "execution_count": 5,
   "metadata": {},
   "outputs": [
    {
     "name": "stdout",
     "output_type": "stream",
     "text": [
      "40\n",
      "1\n",
      "4\n",
      "9\n",
      "16\n",
      "25\n",
      "36\n"
     ]
    }
   ],
   "source": [
    "N = int(input())\n",
    "\n",
    "i = 1\n",
    "\n",
    "while i ** 2 <= N:\n",
    "    print(i ** 2)\n",
    "    \n",
    "    i += 1"
   ]
  },
  {
   "cell_type": "markdown",
   "metadata": {},
   "source": [
    "### Задание 4\n",
    "\n",
    "Напишите программу, которая запрашивает у пользователя пароль, и далее:\n",
    "\n",
    "+ если пароль верный, выводит на экран сообщение \"Login success\".\n",
    "+ если пароль неверный, выводит на экран сообщение \"Incorrect password, try again!\" до тех пор, пока пользователь не введет верный пароль."
   ]
  },
  {
   "cell_type": "code",
   "execution_count": 6,
   "metadata": {},
   "outputs": [
    {
     "name": "stdout",
     "output_type": "stream",
     "text": [
      "Enter password.1246\n",
      "Incorrect password, try again!\n",
      "Enter password.ssdigre\n",
      "Incorrect password, try again!\n",
      "Enter password.hsepassword\n",
      "Login success.\n"
     ]
    }
   ],
   "source": [
    "password = \"hsepassword\"\n",
    "\n",
    "while True:\n",
    "    attempt = input(\"Enter password.\")\n",
    "    if attempt == password:\n",
    "        print(\"Login success.\")\n",
    "        break\n",
    "    else:\n",
    "        print(\"Incorrect password, try again!\")"
   ]
  },
  {
   "cell_type": "markdown",
   "metadata": {},
   "source": [
    "Или без `while True` и `break`:"
   ]
  },
  {
   "cell_type": "code",
   "execution_count": 7,
   "metadata": {},
   "outputs": [
    {
     "name": "stdout",
     "output_type": "stream",
     "text": [
      "Enter password: 12367\n",
      "Enter password: afrhtddsz\n",
      "Enter password: hsepassword\n",
      "Login success.\n"
     ]
    }
   ],
   "source": [
    "password = \"hsepassword\"\n",
    "attempt = input(\"Enter password: \")\n",
    "\n",
    "while password != attempt:\n",
    "    attempt = input(\"Enter password: \")\n",
    "print(\"Login success.\")"
   ]
  }
 ],
 "metadata": {
  "kernelspec": {
   "display_name": "Python 3 (ipykernel)",
   "language": "python",
   "name": "python3"
  },
  "language_info": {
   "codemirror_mode": {
    "name": "ipython",
    "version": 3
   },
   "file_extension": ".py",
   "mimetype": "text/x-python",
   "name": "python",
   "nbconvert_exporter": "python",
   "pygments_lexer": "ipython3",
   "version": "3.9.7"
  }
 },
 "nbformat": 4,
 "nbformat_minor": 2
}
